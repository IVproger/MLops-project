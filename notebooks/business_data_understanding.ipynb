{
  "cells": [
    {
      "cell_type": "markdown",
      "metadata": {
        "id": "_RbelOPK4TFB"
      },
      "source": [
        "# Business and Data understanding\n",
        "------------\n",
        "\n",
        "The initial phase is concerned with tasks to define the business objectives and translate it to ML objectives, to collect and verify the data quality and to finaly assess the project feasibility."
      ]
    },
    {
      "cell_type": "markdown",
      "metadata": {
        "id": "cZZ0T5RTaQon"
      },
      "source": [
        "![](https://i.imgur.com/55J7fBc.jpeg)"
      ]
    },
    {
      "cell_type": "markdown",
      "metadata": {
        "id": "516PRaCCaQoo"
      },
      "source": [
        "## Terminology\n",
        "\n",
        "#### 1. Business terminology\n",
        "| Term            | Meaning                                                                                                                                                                                                                                                                             |\n",
        "|-----------------|-------------------------------------------------------------------------------------------------------------------------------------------------------------------------------------------------------------------------------------------------------------------------------------|\n",
        "| WAC             | World Area Code                                                                                                                                                                                                                                                                     |\n",
        "| US DOT          | United States Department Of Transportation                                                                                                                                                                                                                                          |\n",
        "| Airline         | The company that operates airplanes                                                                                                                                                                                                                                                 |\n",
        "| CRS             | The Common Reporting Standard (CRS) is an information standard for the Automatic Exchange Of Information (AEOI) regarding financial accounts on a global level, between tax authorities, which the Organization for Economic Co-operation and Development (OECD) developed in 2014. |\n",
        "| Carrier         | Same as airline                                                                                                                                                                                                                                                                     |\n",
        "| On-time         | Flight occurred as-per schedule                                                                                                                                                                                                                                                     |\n",
        "| Diverted        | Flight is diverted if the airplane landed in an airport that was not put into the flight plan                                                                                                                                                                                       |\n",
        "| Delayed         | Flight is delayed if it was rescheduled to another time                                                                                                                                                                                                                             |\n",
        "| Canceled        | Flight is canceled if it will not happen at all                                                                                                                                                                                                                                     |\n",
        "| FIPS            | Federal Information Processing Standard                                                                                                                                                                                                                                             |\n",
        "| Airplane        | An airplane, informally plane, is a fixed-wing aircraft that is propelled forward by thrust from a jet engine, propeller, or rocket engine                                                                                                                                          |\n",
        "| Takeoff airport | Airport where the airplane takes off and the flight starts                                                                                                                                                                                                                          |\n",
        "| Landing airport | Airport where the airplane lands. Flight may or may not be finished, since the airplane can land for maintenance, eg. refueling.                                                                                                                                                    |\n",
        "| Flight route    | A route that an airplane takes. Starts at a takeoff airport. Can contain multiple landing airports                                                                                                                                                                                  |\n",
        "\n",
        "#### 2. ML terminology\n",
        "| Term         | Meaning                                                                                                                       |\n",
        "|--------------|-------------------------------------------------------------------------------------------------------------------------------|\n",
        "| Underfitting | When a machine learning model is too simple and fails to capture the underlying patterns in the data.                         |\n",
        "| Overfitting  | When a machine learning model is too complex and fixates too much on the training data, failing when preforming on real data. |\n",
        "| Word2Vec     | Word2vec is a technique in natural language processing (NLP) for obtaining vector representations of words.                   |"
      ]
    },
    {
      "cell_type": "markdown",
      "metadata": {
        "id": "Wfrdzmhe0Zfr"
      },
      "source": [
        "## Scope of the project\n",
        "----------\n",
        "#### 1. Background\n",
        "The dataset has been extracted from the Marketing Carrier On-Time Performance (Beginning January 2018) data table of the \"On-Time\" database from the TranStats data library. \n",
        "\n",
        "#### 2. Business problem\n",
        "Airports suffer from delayed and diverted flights, since rescheduling costs airlines and airports money. Also, this is an inconvenience to passengers. They want a solution to predict whether the flight will be on-time, delayed, canceled, or diverted. The provided dataset contains extensive information about flights in United States from 2022, which could help classify flights in four aforementioned classes ahead of time of departure.\n",
        "\n",
        "#### 3. Business objectives\n",
        "- Increase passenger satisfaction and reduce time lost in airports\n",
        "- Reduce airport load by better managing the flights\n",
        "- Reduce airline spending on flight fees\n",
        "\n",
        "#### 4. ML objectives\n",
        "- Classify whether the given flight will be on-time, delayed, canceled, or diverted given the data before the flight begins"
      ]
    },
    {
      "cell_type": "markdown",
      "metadata": {
        "id": "rRCq_z_raQop"
      },
      "source": [
        "## Success Criteria\n",
        "-------------\n",
        "#### 1. Business success criteria\n",
        "- Decrease airline's spendings by no less than 12% within the next year\n",
        "\n",
        "#### 2. ML success criteria\n",
        "- Since the dataset is quite imbalanced, the model aims to achieve a recall rate of >75%."
      ]
    },
    {
      "cell_type": "markdown",
      "metadata": {
        "id": "AZCQA0YfF1Yq"
      },
      "source": [
        "## Project feasibility\n",
        "-------------\n",
        "This task involves more detailed fact-finding about all of the resources,constraints, assumptions and other factors that should be considered in determining the data analysis goal and project plan. In the previous task, your objective is to quickly get to the crux of the situation. Here, you want to flesh out the details.\n",
        "\n",
        "### tasks\n",
        "- Assess the project feasibility\n",
        "- Create POC (Proof-of-concept) model\n",
        "\n",
        "#### 1. Inventory of resources\n",
        "\n",
        "List the resources available to the project, including: personnel (business experts, data experts, technical support, machine learning personnel), data (fixed extracts, access to live warehoused or operational data), computing resources (hardware platforms) and software (machine learning tools, other relevant software).\n",
        "\n",
        "##### 1.1 Personnel:\n",
        "- Alexey Tkachenko: Data engineer\n",
        "- Ivan Golov: Data scientist\n",
        "- Artem Bulgakov: ML engineer\n",
        "  \n",
        "##### 1.2 Experts:\n",
        "- Firas Johla: MLOps expert\n",
        "\n",
        "##### 1.3 Data:\n",
        "- Marketing Carrier On-Time Performance data table for 2022 of the \"On-Time\" database from the TranStats data library\n",
        "\n",
        "##### 1.4 Computing resources:\n",
        "- Personal computers\n",
        "- InnoDataHub\n",
        "- Google Colab resources\n",
        "- Apache Spark\n",
        "- Apache Airflow\n",
        "- Apache Pulsar\n",
        "  \n",
        "##### 1.5 Software:\n",
        "Mostly opensource software\n",
        "- DVC for data management\n",
        "- Python\n",
        "- Git for version control\n",
        "- Hydra for configuration management\n",
        "- scikit-learn / pandas / seaborn\n",
        "- Pytest for testing\n",
        "- PostgreSQL\n",
        "- MLflow\n",
        "- Docker\n",
        "- Feast + ClearML\n",
        "- FastAPI, Flask\n",
        "\n",
        "#### 2. Requirements, assumptions and constraints\n",
        "\n",
        "List all requirements of the project including schedule of completion, comprehensibility and quality of results and security as well as legal issues.As part of this output, make sure that you are allowed to use the data. List the assumptions made by the project.\n",
        "\n",
        "These may be assumptions about the data that can be checked during machine learning, but may also include non-checkable assumptions about the business upon which the project rests. It is particularly important to list the latter if they form conditions on the validity of the results.\n",
        "\n",
        "List the constraints on the project. These may be constraints on the availability of resources, but may also include technological constraints such as the size of data that it is practical to use for modeling.\n",
        "\n",
        "##### 2.1 Requirements\n",
        "Project will be completed in a few phases:\n",
        "- Phase I - Business and data understanding\n",
        "- Phase II - Data engineering/preparation\n",
        "- Phase III - Model engineering\n",
        "- Phase IV - Model validation\n",
        "- Phase V - Model deployment\n",
        "- Phase VI - Model monitoring and maintenance\n",
        "\n",
        "#### 2.3 Constraints\n",
        "- Time constraints: Each phase must be completed within a week, weekly deadline in Friday 23:59. The project ends on \n",
        "\n",
        "#### 3. Risks and contingencies\n",
        "\n",
        "List the risks or events that might occur to delay the project or cause it to fail. List the corresponding contingency plans; what action will be taken if the risks happen.\n",
        "\n",
        "\n",
        "#### 4. Costs and benefits\n",
        "\n",
        "Construct a cost-benefit analysis for the project, which compares the costs of the project with the potential benefit to the business if it is successful. The comparison should be as specific as possible.\n",
        "\n",
        "![](https://i.imgur.com/XU2lghc.png)\n",
        "\n",
        "#### 5. Feasibility report\n",
        "\n",
        "Build a POC ML model and explain as a team whether it is feasible to do this ML project or not. If not, then you need to find another business problem. They key factors here are related to data availability, quality, costs and nature of business problem."
      ]
    },
    {
      "cell_type": "code",
      "execution_count": null,
      "metadata": {
        "id": "tb-TTtymaQor",
        "vscode": {
          "languageId": "plaintext"
        }
      },
      "outputs": [],
      "source": [
        "# TODO"
      ]
    },
    {
      "cell_type": "markdown",
      "metadata": {
        "id": "uv9AUIJEaQor"
      },
      "source": [
        "## produce project plan\n",
        "----------------\n",
        "\n",
        "### task\n",
        "\n",
        "Describe the intended plan for achieving the machine learning goals and thereby achieving the business goals. The plan should specify the anticipated set of steps to be performed during the rest of the project including an initial selection of tools and techniques.\n",
        "\n",
        "Personesll \n",
        "\n",
        "### output\n",
        "\n",
        "#### 1. Project plan\n",
        "List the stages to be executed in the project, together with their duration, resources required, inputs, outputs, and dependencies. Where possible, try and make explicit the large-scale iterations in the machine learning process, for example, repetitions of the modeling and evaluation phases. As part of the project plan, it is also important to analyze dependencies between time schedule and risks. Mark results of these analyses explicitly in the project plan, ideally with actions and recommendations if the risks are manifested. Decide at this point which evaluation strategy will be used in the evaluation phase. Your project plan will be a dynamic document. At the end of each phase you’ll review progress and achievements and update the project plan accordingly. Specific review points for these updates should be part of the project plan.\n",
        "\n",
        "#### 2. ML project Canvas\n",
        "At the end of the first phase, you should create a canvas for the project as a summary of this phase.\n",
        "\n",
        "\n",
        "> ##### Example\n",
        "> Follow the link: https://github.com/louisdorard/machine-learning-canvas/blob/master/churn.pdf\n"
      ]
    },
    {
      "cell_type": "code",
      "execution_count": null,
      "metadata": {
        "id": "bTBMBPkuaQos",
        "vscode": {
          "languageId": "plaintext"
        }
      },
      "outputs": [],
      "source": [
        "# TODO"
      ]
    }
  ],
  "metadata": {
    "colab": {
      "provenance": []
    },
    "kernelspec": {
      "display_name": "Python 3 (ipykernel)",
      "language": "python",
      "name": "python3"
    },
    "language_info": {
      "codemirror_mode": {
        "name": "ipython",
        "version": 3
      },
      "file_extension": ".py",
      "mimetype": "text/x-python",
      "name": "python",
      "nbconvert_exporter": "python",
      "pygments_lexer": "ipython3",
      "version": "3.12.0"
    }
  },
  "nbformat": 4,
  "nbformat_minor": 0
}
