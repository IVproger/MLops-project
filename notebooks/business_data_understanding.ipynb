{
  "cells": [
    {
      "cell_type": "markdown",
      "metadata": {
        "id": "_RbelOPK4TFB"
      },
      "source": [
        "# Business and Data understanding\n",
        "------------\n",
        "\n",
        "The initial phase is concerned with tasks to define the business objectives and translate it to ML objectives, to collect and verify the data quality and to finaly assess the project feasibility."
      ]
    },
    {
      "cell_type": "markdown",
      "metadata": {
        "id": "cZZ0T5RTaQon"
      },
      "source": [
        "![](https://i.imgur.com/55J7fBc.jpeg)"
      ]
    },
    {
      "cell_type": "markdown",
      "metadata": {
        "id": "516PRaCCaQoo"
      },
      "source": [
        "## Terminology\n",
        "\n",
        "#### 1. Business terminology\n",
        "| Term            | Meaning                                                                                                                                                                                                                                                                             |\n",
        "|-----------------|-------------------------------------------------------------------------------------------------------------------------------------------------------------------------------------------------------------------------------------------------------------------------------------|\n",
        "| WAC             | World Area Code                                                                                                                                                                                                                                                                     |\n",
        "| US DOT          | United States Department Of Transportation                                                                                                                                                                                                                                          |\n",
        "| Airline         | The company that operates airplanes                                                                                                                                                                                                                                                 |\n",
        "| CRS             | The Common Reporting Standard (CRS) is an information standard for the Automatic Exchange Of Information (AEOI) regarding financial accounts on a global level, between tax authorities, which the Organization for Economic Co-operation and Development (OECD) developed in 2014. |\n",
        "| Carrier         | Same as airline                                                                                                                                                                                                                                                                     |\n",
        "| On-time         | Flight occurred as-per schedule                                                                                                                                                                                                                                                     |\n",
        "| Diverted        | Flight is diverted if the airplane landed in an airport that was not put into the flight plan                                                                                                                                                                                       |\n",
        "| Delayed         | Flight is delayed if it was rescheduled to another time                                                                                                                                                                                                                             |\n",
        "| Canceled        | Flight is canceled if it will not happen at all                                                                                                                                                                                                                                     |\n",
        "| FIPS            | Federal Information Processing Standard                                                                                                                                                                                                                                             |\n",
        "| Airplane        | An airplane, informally plane, is a fixed-wing aircraft that is propelled forward by thrust from a jet engine, propeller, or rocket engine                                                                                                                                          |\n",
        "| Takeoff airport | Airport where the airplane takes off and the flight starts                                                                                                                                                                                                                          |\n",
        "| Landing airport | Airport where the airplane lands. Flight may or may not be finished, since the airplane can land for maintenance, eg. refueling.                                                                                                                                                    |\n",
        "| Flight route    | A route that an airplane takes. Starts at a takeoff airport. Can contain multiple landing airports                                                                                                                                                                                  |\n",
        "\n",
        "#### 2. ML terminology\n",
        "| Term         | Meaning                                                                                                                       |\n",
        "|--------------|-------------------------------------------------------------------------------------------------------------------------------|\n",
        "| Underfitting | When a machine learning model is too simple and fails to capture the underlying patterns in the data.                         |\n",
        "| Overfitting  | When a machine learning model is too complex and fixates too much on the training data, failing when preforming on real data. |\n",
        "| Word2Vec     | Word2vec is a technique in natural language processing (NLP) for obtaining vector representations of words.                   |"
      ]
    },
    {
      "cell_type": "markdown",
      "metadata": {
        "id": "Wfrdzmhe0Zfr"
      },
      "source": [
        "## Scope of the project\n",
        "----------\n",
        "#### 1. Background\n",
        "The dataset has been extracted from the Marketing Carrier On-Time Performance (Beginning January 2018) data table of the \"On-Time\" database from the TranStats data library. \n",
        "\n",
        "#### 2. Business problem\n",
        "Airports suffer from delayed and diverted flights, since rescheduling costs airlines and airports money. Also, this is an inconvenience to passengers. They want a solution to predict whether the flight will be on-time, delayed, canceled, or diverted. The provided dataset contains extensive information about flights in United States from 2022, which could help classify flights in four aforementioned classes ahead of time of departure.\n",
        "\n",
        "#### 3. Business objectives\n",
        "- Increase passenger satisfaction and reduce time lost in airports\n",
        "- Reduce airport load by better managing the flights\n",
        "- Reduce airline spending on flight fees\n",
        "\n",
        "#### 4. ML objectives\n",
        "- Classify whether the given flight will be on-time, delayed, canceled, or diverted given the data before the flight begins"
      ]
    },
    {
      "cell_type": "markdown",
      "metadata": {
        "id": "rRCq_z_raQop"
      },
      "source": [
        "## Success Criteria\n",
        "-------------\n",
        "#### 1. Business success criteria\n",
        "- Decrease airline's spendings by no less than 12% within the next year\n",
        "\n",
        "#### 2. ML success criteria\n",
        "- Since the dataset is quite imbalanced, the model aims to achieve a recall rate of >75%."
      ]
    },
    {
      "cell_type": "markdown",
      "metadata": {
        "id": "AZCQA0YfF1Yq"
      },
      "source": [
        "## Project feasibility\n",
        "-------------\n",
        "#### 1. Inventory of resources\n",
        "\n",
        "List the resources available to the project, including: personnel (business experts, data experts, technical support, machine learning personnel), data (fixed extracts, access to live warehoused or operational data), computing resources (hardware platforms) and software (machine learning tools, other relevant software).\n",
        "\n",
        "##### 1.1 Personnel:\n",
        "- Alexey Tkachenko: Data engineer\n",
        "- Ivan Golov: Data scientist\n",
        "- Artem Bulgakov: ML engineer\n",
        "  \n",
        "##### 1.2 Experts:\n",
        "- Firas Johla: MLOps expert\n",
        "\n",
        "##### 1.3 Data:\n",
        "- Marketing Carrier On-Time Performance data table for 2022 of the \"On-Time\" database from the TranStats data library\n",
        "\n",
        "##### 1.4 Computing resources:\n",
        "- Personal computers\n",
        "- InnoDataHub\n",
        "- Google Colab resources\n",
        "- Apache Spark\n",
        "- Apache Airflow\n",
        "- Apache Pulsar\n",
        "  \n",
        "##### 1.5 Software:\n",
        "- DVC for data management\n",
        "- Python\n",
        "- Git for version control\n",
        "- Hydra for configuration management\n",
        "- scikit-learn / pandas / seaborn\n",
        "- Pytest for testing\n",
        "- PostgreSQL\n",
        "- MLflow\n",
        "- Docker\n",
        "- Feast + ClearML\n",
        "- FastAPI, Flask\n",
        "\n",
        "#### 2. Requirements, assumptions and constraints\n",
        "\n",
        "##### 2.1 Requirements\n",
        "Project will be completed in a few phases:\n",
        "- Phase I - Business and data understanding\n",
        "- Phase II - Data engineering/preparation\n",
        "- Phase III - Model engineering\n",
        "- Phase IV - Model validation\n",
        "- Phase V - Model deployment\n",
        "- Phase VI - Model monitoring and maintenance\n",
        "\n",
        "##### 2.2 Constraints\n",
        "- Time constraints: Each phase must be completed within a week, weekly deadline in Friday 23:59. The project ends on 20th of June.\n",
        "\n",
        "#### 3. Risks and contingencies\n",
        "- Accidental modification of data\n",
        "We can accidentally change the sample data. To negate this risk, we have DVC setup and also run Great Expectations. If Great Expectations are not valid, we can revert the data with DVC.\n",
        "\n",
        "- Insufficient data quality\n",
        "We have provided a comprehensive EDA. We have showcased that a model that would fulfill the business task is at least feasible. If during the development of the ML model we find that task cannot be fulfilled, we will fallback to the problem formulation stage to update the requirements.\n",
        "\n",
        "#### 4. Costs and benefits\n",
        "\n",
        "Construct a cost-benefit analysis for the project, which compares the costs of the project with the potential benefit to the business if it is successful. The comparison should be as specific as possible.\n",
        "\n",
        "| Category                        | Details                                                                         | Estimated Cost                      | Potential Benefits                                           |\n",
        "|---------------------------------|---------------------------------------------------------------------------------|-------------------------------------|--------------------------------------------------------------|\n",
        "| Personnel                       |                                                                                 |                                     |                                                              |\n",
        "| Data engineer                   | Alexey Tkachenko                                                                | $100/hr, 40 hrs/week                | Expertise in data processing and engineering                 |\n",
        "| Data scientist                  | Ivan Golov                                                                      | $120/hr, 40 hrs/week                | Expertise in data analysis and model building                |\n",
        "| ML engineer                     | Artem Bulgakov                                                                  | $110/hr, 40 hrs/week                | Expertise in machine learning and model implementation       |\n",
        "| **Total Personnel Cost**        |                                                                                 | $13,200/week for 5 weeks = $660,000 |                                                              |\n",
        "| Data                            | Marketing Carrier On-Time Performance data table for 2022                       | No additional cost                  | High-quality data for model training and validation          |\n",
        "| **Computing Resources**         |                                                                                 |                                     |                                                              |\n",
        "| Personal computers              | Already available                                                               | No additional cost                  | Necessary for development                                    |\n",
        "| InnoDataHub                     | Cloud-based platform for data processing                                        | $1,000/month                        | Scalable data processing resources                           |\n",
        "| Google Colab resources          | Cloud-based Jupyter notebook environment                                        | $500/month                          | Access to powerful computing resources for model training    |\n",
        "| Apache Spark                    | Big data processing framework                                                   | No additional cost                  | Efficient large-scale data processing                        |\n",
        "| Apache Airflow                  | Workflow orchestration tool                                                     | No additional cost                  | Efficient management of data pipelines                       |\n",
        "| Apache Pulsar                   | Distributed messaging and streaming platform                                    | No additional cost                  | Real-time data processing                                    |\n",
        "| **Total Computing Cost**        |                                                                                 | $1,500/month for 2 months = $3,000  |                                                              |\n",
        "| Software                        |                                                                                 |                                     |                                                              |\n",
        "| DVC                             | Data management tool                                                            | No additional cost                  | Efficient version control for data                           |\n",
        "| Python                          | Programming language                                                            | No additional cost                  | Essential for model development                              |\n",
        "| Git                             | Version control system                                                          | No additional cost                  | Essential for code versioning                                |\n",
        "| Hydra                           | Configuration management tool                                                   | No additional cost                  | Efficient configuration management                           |\n",
        "| scikit-learn / pandas / seaborn | Machine learning and data analysis libraries                                    | No additional cost                  | Essential for data analysis and model building               |\n",
        "| Pytest                          | Testing framework                                                               | No additional cost                  | Ensures code quality and reliability                         |\n",
        "| PostgreSQL                      | Database management system                                                      | No additional cost                  | Efficient data storage and retrieval                         |\n",
        "| MLflow                          | Machine learning lifecycle management tool                                      | No additional cost                  | Tracks experiments and models                                |\n",
        "| Docker                          | Containerization platform                                                       | No additional cost                  | Ensures consistency across environments                      |\n",
        "| Feast + ClearML                 | Feature store and experiment management                                         | No additional cost                  | Manages features and experiments                             |\n",
        "| FastAPI, Flask                  | Web frameworks for API development                                              | No additional cost                  | Deploys models as services                                   |\n",
        "| **Total Software Cost**         |                                                                                 | No additional cost                  |                                                              |\n",
        "| Other Costs                     |                                                                                 |                                     |                                                              |\n",
        "| Training and development        | Continuous learning for team members                                            | $2,000                              | Improves team expertise and productivity                     |\n",
        "| Miscellaneous                   | Additional unforeseen expenses                                                  | $1,000                              | Covers unexpected costs                                      |\n",
        "| Total Other Costs               |                                                                                 | $3,000                              |                                                              |\n",
        "| Total Project Cost              | Personnel + Computing + Other                                                   | $110,000                            |                                                              |\n",
        "| Benefits                        | Improved model accuracy and deployment pipeline                                 |                                     |                                                              |\n",
        "|                                 | Increased customer satisfaction due to improved on-time performance predictions |                                     | Estimated revenue increase of $200,000 annually              |\n",
        "|                                 | Enhanced decision-making capabilities                                           |                                     | Cost savings of $50,000 annually due to optimized operations |\n",
        "| Total Benefits                  |                                                                                 |                                     | $250,000 annually                                            |\n",
        "\n",
        "\n",
        "#### 4. Feasibility report\n",
        "\n",
        "POC ML model is showcased in `poc.ipynb`"
      ]
    },
    {
      "cell_type": "markdown",
      "metadata": {
        "id": "uv9AUIJEaQor"
      },
      "source": [
        "## Project plan\n",
        "----------------\n",
        "\n",
        "#### 1. Project plan\n",
        "Phase I - Business and data understanding - Week 1      \n",
        "Phase II - Data engineering/preparation - Week 2        \n",
        "Phase III - Model engineering - Week 3      \n",
        "Phase IV - Model validation - Week 4        \n",
        "Phase V - Model deployment - Week 5     \n",
        "Phase VI - Model monitoring and maintenance - Week 6        \n",
        "\n",
        "#### 2. ML project Canvas\n",
        "At the end of the first phase, you should create a canvas for the project as a summary of this phase.\n",
        "\n",
        "\n",
        "> ##### Example\n",
        "> Follow the link: https://github.com/louisdorard/machine-learning-canvas/blob/master/churn.pdf\n"
      ]
    },
    {
      "cell_type": "code",
      "execution_count": null,
      "metadata": {
        "id": "bTBMBPkuaQos",
        "vscode": {
          "languageId": "plaintext"
        }
      },
      "outputs": [],
      "source": [
        "# TODO"
      ]
    }
  ],
  "metadata": {
    "colab": {
      "provenance": []
    },
    "kernelspec": {
      "display_name": "Python 3 (ipykernel)",
      "language": "python",
      "name": "python3"
    },
    "language_info": {
      "codemirror_mode": {
        "name": "ipython",
        "version": 3
      },
      "file_extension": ".py",
      "mimetype": "text/x-python",
      "name": "python",
      "nbconvert_exporter": "python",
      "pygments_lexer": "ipython3",
      "version": "3.12.0"
    }
  },
  "nbformat": 4,
  "nbformat_minor": 0
}
