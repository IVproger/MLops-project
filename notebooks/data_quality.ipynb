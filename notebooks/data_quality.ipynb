{
 "cells": [
  {
   "metadata": {},
   "cell_type": "markdown",
   "source": [
    "## Data quality verification\n",
    "\n",
    "#### 3. Data requirements\n",
    "\n",
    "The data requirements for this project combine both business and technical requirements. The business requirements are based on the domain knowledge of the project, while the technical requirements are based on the data types and formats required for the analysis. The data requirements will help ensure that the data is of high quality and suitable for further analysis and modeling.\n",
    "\n",
    "EDA has shown that only some columns are important for future use, so we will define the requirements for these columns:\n",
    "- We work only with data of 2022 year, so `FlightDate` should be in 2022 year.\n",
    "- Time features should be given in the correct format of \"hhmm\", where hh is 00-23, mm is 00-59. Some of such time features are `CRSDepTime`, `CRSArrTime`.\n",
    "- `OriginAirportID`, `DestAirportID`, `Operating_Airline`, `Tail_Number` should be in the correct format for airport and airline codes. IDs are numbers, OperatingAirline is a two-character string, Tail_Number is a string of digits and letters.\n",
    "- `Cancelled` is a binary feature, so it should be False or True.\n",
    "- Some features such as `Tail_Number` are not relevant for cancelled flights, so we should check that these features are present for non-cancelled flights, and are missing for cancelled flights.\n",
    "\n",
    "We can define types for important columns in data in the following way:\n",
    "- `FlightDate`: date, format \"YYYY-MM-DD\"\n",
    "- `Operating_Airline`: string, length 2\n",
    "- `OriginAirportID`, `DestAirportID`: integer\n",
    "- `Cancelled`: boolean\n",
    "- `CRSDepTime`, `CRSArrTime`: time, format \"hhmm\"\n",
    "- `CRSElapsedTime`: integer, minutes\n",
    "- `Tail_Number`: string (can be None for cancelled flights)\n",
    "- `DepDelay`, `ActualElapsedTime`: integer, minutes (can be None for cancelled flights)\n",
    "- `Distance`: integer, miles\n",
    "\n",
    "For testing the quality of data, we will use Great Expectations library. It allows to define expectations for data, and then automatically check if the data meets these expectations. We will define expectations for the columns mentioned above, and then check if the data meets these expectations."
   ],
   "id": "c2fbe6bba4acb4b1"
  },
  {
   "metadata": {
    "ExecuteTime": {
     "end_time": "2024-07-02T11:59:36.035480Z",
     "start_time": "2024-07-02T11:59:32.857995Z"
    }
   },
   "cell_type": "code",
   "source": [
    "from src.data_quality import load_context_and_sample_data\n",
    "\n",
    "# Create Great Expectations context and load data\n",
    "context, da = load_context_and_sample_data(\"../services\", \"../data/samples/sample.csv\")\n",
    "batch_request = da.build_batch_request()"
   ],
   "id": "49ed0b7b483c2fa1",
   "outputs": [],
   "execution_count": 1
  },
  {
   "metadata": {
    "ExecuteTime": {
     "end_time": "2024-07-02T11:59:46.529642Z",
     "start_time": "2024-07-02T11:59:36.041412Z"
    }
   },
   "cell_type": "code",
   "source": [
    "# Create expectation suite and retrieve validator\n",
    "validator = context.get_validator(\n",
    "    batch_request=batch_request,\n",
    "    expectation_suite_name=\"sample_validation\",\n",
    ")\n",
    "validator.head()"
   ],
   "id": "a64fc73c7207fcc4",
   "outputs": [
    {
     "data": {
      "text/plain": [
       "Calculating Metrics:   0%|          | 0/1 [00:00<?, ?it/s]"
      ],
      "application/vnd.jupyter.widget-view+json": {
       "version_major": 2,
       "version_minor": 0,
       "model_id": "364312695eae40b68c5d3bb070823fba"
      }
     },
     "metadata": {},
     "output_type": "display_data"
    },
    {
     "data": {
      "text/plain": [
       "   FlightDate                 Airline Origin Dest  Cancelled  Diverted  \\\n",
       "0  2022-02-26    Delta Air Lines Inc.    MKE  ATL      False     False   \n",
       "1  2022-06-16  Southwest Airlines Co.    HNL  OAK      False     False   \n",
       "2  2022-07-24  Southwest Airlines Co.    PNS  DAL      False     False   \n",
       "3  2022-01-19       Republic Airlines    LGA  ORD      False     False   \n",
       "4  2022-06-01    Delta Air Lines Inc.    SEA  SNA      False     False   \n",
       "\n",
       "   CRSDepTime  DepTime  DepDelayMinutes  DepDelay  ...  WheelsOff  WheelsOn  \\\n",
       "0         820    824.0              4.0       4.0  ...      833.0    1108.0   \n",
       "1         840    844.0              4.0       4.0  ...      902.0    1645.0   \n",
       "2        1430   1431.0              1.0       1.0  ...     1437.0    1600.0   \n",
       "3        1000    952.0              0.0      -8.0  ...     1004.0    1106.0   \n",
       "4        1518   1516.0              0.0      -2.0  ...     1529.0    1749.0   \n",
       "\n",
       "   TaxiIn  CRSArrTime  ArrDelay  ArrDel15  ArrivalDelayGroups  ArrTimeBlk  \\\n",
       "0     5.0        1125     -12.0       0.0                -1.0   1100-1159   \n",
       "1     4.0        1650      -1.0       0.0                -1.0   1600-1659   \n",
       "2     2.0        1615     -13.0       0.0                -1.0   1600-1659   \n",
       "3    10.0        1154     -38.0       0.0                -2.0   1100-1159   \n",
       "4     4.0        1800      -7.0       0.0                -1.0   1800-1859   \n",
       "\n",
       "   DistanceGroup  DivAirportLandings  \n",
       "0              3                   0  \n",
       "1             10                   0  \n",
       "2              3                   0  \n",
       "3              3                   0  \n",
       "4              4                   0  \n",
       "\n",
       "[5 rows x 61 columns]"
      ],
      "text/html": [
       "<div>\n",
       "<style scoped>\n",
       "    .dataframe tbody tr th:only-of-type {\n",
       "        vertical-align: middle;\n",
       "    }\n",
       "\n",
       "    .dataframe tbody tr th {\n",
       "        vertical-align: top;\n",
       "    }\n",
       "\n",
       "    .dataframe thead th {\n",
       "        text-align: right;\n",
       "    }\n",
       "</style>\n",
       "<table border=\"1\" class=\"dataframe\">\n",
       "  <thead>\n",
       "    <tr style=\"text-align: right;\">\n",
       "      <th></th>\n",
       "      <th>FlightDate</th>\n",
       "      <th>Airline</th>\n",
       "      <th>Origin</th>\n",
       "      <th>Dest</th>\n",
       "      <th>Cancelled</th>\n",
       "      <th>Diverted</th>\n",
       "      <th>CRSDepTime</th>\n",
       "      <th>DepTime</th>\n",
       "      <th>DepDelayMinutes</th>\n",
       "      <th>DepDelay</th>\n",
       "      <th>...</th>\n",
       "      <th>WheelsOff</th>\n",
       "      <th>WheelsOn</th>\n",
       "      <th>TaxiIn</th>\n",
       "      <th>CRSArrTime</th>\n",
       "      <th>ArrDelay</th>\n",
       "      <th>ArrDel15</th>\n",
       "      <th>ArrivalDelayGroups</th>\n",
       "      <th>ArrTimeBlk</th>\n",
       "      <th>DistanceGroup</th>\n",
       "      <th>DivAirportLandings</th>\n",
       "    </tr>\n",
       "  </thead>\n",
       "  <tbody>\n",
       "    <tr>\n",
       "      <th>0</th>\n",
       "      <td>2022-02-26</td>\n",
       "      <td>Delta Air Lines Inc.</td>\n",
       "      <td>MKE</td>\n",
       "      <td>ATL</td>\n",
       "      <td>False</td>\n",
       "      <td>False</td>\n",
       "      <td>820</td>\n",
       "      <td>824.0</td>\n",
       "      <td>4.0</td>\n",
       "      <td>4.0</td>\n",
       "      <td>...</td>\n",
       "      <td>833.0</td>\n",
       "      <td>1108.0</td>\n",
       "      <td>5.0</td>\n",
       "      <td>1125</td>\n",
       "      <td>-12.0</td>\n",
       "      <td>0.0</td>\n",
       "      <td>-1.0</td>\n",
       "      <td>1100-1159</td>\n",
       "      <td>3</td>\n",
       "      <td>0</td>\n",
       "    </tr>\n",
       "    <tr>\n",
       "      <th>1</th>\n",
       "      <td>2022-06-16</td>\n",
       "      <td>Southwest Airlines Co.</td>\n",
       "      <td>HNL</td>\n",
       "      <td>OAK</td>\n",
       "      <td>False</td>\n",
       "      <td>False</td>\n",
       "      <td>840</td>\n",
       "      <td>844.0</td>\n",
       "      <td>4.0</td>\n",
       "      <td>4.0</td>\n",
       "      <td>...</td>\n",
       "      <td>902.0</td>\n",
       "      <td>1645.0</td>\n",
       "      <td>4.0</td>\n",
       "      <td>1650</td>\n",
       "      <td>-1.0</td>\n",
       "      <td>0.0</td>\n",
       "      <td>-1.0</td>\n",
       "      <td>1600-1659</td>\n",
       "      <td>10</td>\n",
       "      <td>0</td>\n",
       "    </tr>\n",
       "    <tr>\n",
       "      <th>2</th>\n",
       "      <td>2022-07-24</td>\n",
       "      <td>Southwest Airlines Co.</td>\n",
       "      <td>PNS</td>\n",
       "      <td>DAL</td>\n",
       "      <td>False</td>\n",
       "      <td>False</td>\n",
       "      <td>1430</td>\n",
       "      <td>1431.0</td>\n",
       "      <td>1.0</td>\n",
       "      <td>1.0</td>\n",
       "      <td>...</td>\n",
       "      <td>1437.0</td>\n",
       "      <td>1600.0</td>\n",
       "      <td>2.0</td>\n",
       "      <td>1615</td>\n",
       "      <td>-13.0</td>\n",
       "      <td>0.0</td>\n",
       "      <td>-1.0</td>\n",
       "      <td>1600-1659</td>\n",
       "      <td>3</td>\n",
       "      <td>0</td>\n",
       "    </tr>\n",
       "    <tr>\n",
       "      <th>3</th>\n",
       "      <td>2022-01-19</td>\n",
       "      <td>Republic Airlines</td>\n",
       "      <td>LGA</td>\n",
       "      <td>ORD</td>\n",
       "      <td>False</td>\n",
       "      <td>False</td>\n",
       "      <td>1000</td>\n",
       "      <td>952.0</td>\n",
       "      <td>0.0</td>\n",
       "      <td>-8.0</td>\n",
       "      <td>...</td>\n",
       "      <td>1004.0</td>\n",
       "      <td>1106.0</td>\n",
       "      <td>10.0</td>\n",
       "      <td>1154</td>\n",
       "      <td>-38.0</td>\n",
       "      <td>0.0</td>\n",
       "      <td>-2.0</td>\n",
       "      <td>1100-1159</td>\n",
       "      <td>3</td>\n",
       "      <td>0</td>\n",
       "    </tr>\n",
       "    <tr>\n",
       "      <th>4</th>\n",
       "      <td>2022-06-01</td>\n",
       "      <td>Delta Air Lines Inc.</td>\n",
       "      <td>SEA</td>\n",
       "      <td>SNA</td>\n",
       "      <td>False</td>\n",
       "      <td>False</td>\n",
       "      <td>1518</td>\n",
       "      <td>1516.0</td>\n",
       "      <td>0.0</td>\n",
       "      <td>-2.0</td>\n",
       "      <td>...</td>\n",
       "      <td>1529.0</td>\n",
       "      <td>1749.0</td>\n",
       "      <td>4.0</td>\n",
       "      <td>1800</td>\n",
       "      <td>-7.0</td>\n",
       "      <td>0.0</td>\n",
       "      <td>-1.0</td>\n",
       "      <td>1800-1859</td>\n",
       "      <td>4</td>\n",
       "      <td>0</td>\n",
       "    </tr>\n",
       "  </tbody>\n",
       "</table>\n",
       "<p>5 rows × 61 columns</p>\n",
       "</div>"
      ]
     },
     "execution_count": 2,
     "metadata": {},
     "output_type": "execute_result"
    }
   ],
   "execution_count": 2
  },
  {
   "metadata": {},
   "cell_type": "markdown",
   "source": "Let's define our expectations for the sample data. We do it in notebook to execute them interactively.",
   "id": "c3538b67ed76abeb"
  },
  {
   "metadata": {
    "ExecuteTime": {
     "end_time": "2024-07-02T11:59:49.063022Z",
     "start_time": "2024-07-02T11:59:46.531427Z"
    }
   },
   "cell_type": "code",
   "source": [
    "# Expectations for \"FlightDate\" column\n",
    "validator.expect_column_values_to_not_be_null(\n",
    "    column=\"FlightDate\", meta={\"dimension\": \"Completeness\"}\n",
    ")\n",
    "validator.expect_column_values_to_be_between(\n",
    "    column=\"FlightDate\",\n",
    "    min_value=\"2022-01-01\",\n",
    "    max_value=\"2022-12-31\",\n",
    "    meta={\"dimension\": \"Timelessness\"},\n",
    ")\n",
    "validator.expect_column_values_to_match_regex(\n",
    "    column=\"FlightDate\", regex=\"^\\d{4}-\\d{2}-\\d{2}$\", meta={\"dimension\": \"Validity\"}\n",
    ")"
   ],
   "id": "d670aff9e9436fb5",
   "outputs": [
    {
     "data": {
      "text/plain": [
       "Calculating Metrics:   0%|          | 0/6 [00:00<?, ?it/s]"
      ],
      "application/vnd.jupyter.widget-view+json": {
       "version_major": 2,
       "version_minor": 0,
       "model_id": "e8cc1f2f96a74ea79477ed8fc2265de0"
      }
     },
     "metadata": {},
     "output_type": "display_data"
    },
    {
     "data": {
      "text/plain": [
       "Calculating Metrics:   0%|          | 0/8 [00:00<?, ?it/s]"
      ],
      "application/vnd.jupyter.widget-view+json": {
       "version_major": 2,
       "version_minor": 0,
       "model_id": "ee8f091a7b4c44288475d520823768e1"
      }
     },
     "metadata": {},
     "output_type": "display_data"
    },
    {
     "data": {
      "text/plain": [
       "Calculating Metrics:   0%|          | 0/8 [00:00<?, ?it/s]"
      ],
      "application/vnd.jupyter.widget-view+json": {
       "version_major": 2,
       "version_minor": 0,
       "model_id": "1c8ab112b2294f9292e9fc3938c008f1"
      }
     },
     "metadata": {},
     "output_type": "display_data"
    },
    {
     "data": {
      "text/plain": [
       "{\n",
       "  \"success\": true,\n",
       "  \"result\": {\n",
       "    \"element_count\": 678632,\n",
       "    \"unexpected_count\": 0,\n",
       "    \"unexpected_percent\": 0.0,\n",
       "    \"partial_unexpected_list\": [],\n",
       "    \"missing_count\": 0,\n",
       "    \"missing_percent\": 0.0,\n",
       "    \"unexpected_percent_total\": 0.0,\n",
       "    \"unexpected_percent_nonmissing\": 0.0\n",
       "  },\n",
       "  \"meta\": {},\n",
       "  \"exception_info\": {\n",
       "    \"raised_exception\": false,\n",
       "    \"exception_traceback\": null,\n",
       "    \"exception_message\": null\n",
       "  }\n",
       "}"
      ]
     },
     "execution_count": 3,
     "metadata": {},
     "output_type": "execute_result"
    }
   ],
   "execution_count": 3
  },
  {
   "metadata": {
    "ExecuteTime": {
     "end_time": "2024-07-02T11:59:50.511941Z",
     "start_time": "2024-07-02T11:59:49.072587Z"
    }
   },
   "cell_type": "code",
   "source": [
    "# Expectations for \"Operating_Airline\" column\n",
    "validator.expect_column_values_to_not_be_null(\n",
    "    column=\"Operating_Airline\", meta={\"dimension\": \"Completeness\"}\n",
    ")\n",
    "validator.expect_column_values_to_match_regex(\n",
    "    column=\"Operating_Airline\",\n",
    "    regex=\"^[A-Z0-9]{2}$\",\n",
    "    meta={\"dimension\": \"Validity\"},\n",
    ")\n",
    "validator.expect_column_unique_value_count_to_be_between(\n",
    "    column=\"Operating_Airline\",\n",
    "    min_value=1,\n",
    "    max_value=100,\n",
    "    meta={\"dimension\": \"Uniqueness\"},\n",
    ")"
   ],
   "id": "e35e781cfbe4ae53",
   "outputs": [
    {
     "data": {
      "text/plain": [
       "Calculating Metrics:   0%|          | 0/6 [00:00<?, ?it/s]"
      ],
      "application/vnd.jupyter.widget-view+json": {
       "version_major": 2,
       "version_minor": 0,
       "model_id": "0d76f6f536b9440394824d26c0580e76"
      }
     },
     "metadata": {},
     "output_type": "display_data"
    },
    {
     "data": {
      "text/plain": [
       "Calculating Metrics:   0%|          | 0/8 [00:00<?, ?it/s]"
      ],
      "application/vnd.jupyter.widget-view+json": {
       "version_major": 2,
       "version_minor": 0,
       "model_id": "46fea2f436994d7083bb92a46507d308"
      }
     },
     "metadata": {},
     "output_type": "display_data"
    },
    {
     "data": {
      "text/plain": [
       "Calculating Metrics:   0%|          | 0/4 [00:00<?, ?it/s]"
      ],
      "application/vnd.jupyter.widget-view+json": {
       "version_major": 2,
       "version_minor": 0,
       "model_id": "15c8ed950f96468ea3a702b49dba7393"
      }
     },
     "metadata": {},
     "output_type": "display_data"
    },
    {
     "data": {
      "text/plain": [
       "{\n",
       "  \"success\": true,\n",
       "  \"result\": {\n",
       "    \"observed_value\": 21\n",
       "  },\n",
       "  \"meta\": {},\n",
       "  \"exception_info\": {\n",
       "    \"raised_exception\": false,\n",
       "    \"exception_traceback\": null,\n",
       "    \"exception_message\": null\n",
       "  }\n",
       "}"
      ]
     },
     "execution_count": 4,
     "metadata": {},
     "output_type": "execute_result"
    }
   ],
   "execution_count": 4
  },
  {
   "metadata": {
    "ExecuteTime": {
     "end_time": "2024-07-02T11:59:50.649780Z",
     "start_time": "2024-07-02T11:59:50.513286Z"
    }
   },
   "cell_type": "code",
   "source": [
    "# Expectations for \"OriginAirportID\" column\n",
    "validator.expect_column_values_to_not_be_null(\n",
    "    column=\"OriginAirportID\", meta={\"dimension\": \"Completeness\"}\n",
    ")\n",
    "validator.expect_column_unique_value_count_to_be_between(\n",
    "    column=\"OriginAirportID\",\n",
    "    min_value=1,\n",
    "    max_value=1000000,\n",
    "    meta={\"dimension\": \"Uniqueness\"},\n",
    ")\n",
    "validator.expect_column_unique_value_count_to_be_between(\n",
    "    column=\"OriginAirportID\",\n",
    "    min_value=1,\n",
    "    max_value=10000,\n",
    "    meta={\"dimension\": \"Uniqueness\"},\n",
    ")"
   ],
   "id": "fc382e87f293b47f",
   "outputs": [
    {
     "data": {
      "text/plain": [
       "Calculating Metrics:   0%|          | 0/6 [00:00<?, ?it/s]"
      ],
      "application/vnd.jupyter.widget-view+json": {
       "version_major": 2,
       "version_minor": 0,
       "model_id": "78e86340b986403bbcb1f138963c4bb8"
      }
     },
     "metadata": {},
     "output_type": "display_data"
    },
    {
     "data": {
      "text/plain": [
       "Calculating Metrics:   0%|          | 0/4 [00:00<?, ?it/s]"
      ],
      "application/vnd.jupyter.widget-view+json": {
       "version_major": 2,
       "version_minor": 0,
       "model_id": "74a5c04b07004343b5425df7ef4a0c52"
      }
     },
     "metadata": {},
     "output_type": "display_data"
    },
    {
     "data": {
      "text/plain": [
       "Calculating Metrics:   0%|          | 0/4 [00:00<?, ?it/s]"
      ],
      "application/vnd.jupyter.widget-view+json": {
       "version_major": 2,
       "version_minor": 0,
       "model_id": "ae6ce43a46ed43f0a088eda03c7da970"
      }
     },
     "metadata": {},
     "output_type": "display_data"
    },
    {
     "data": {
      "text/plain": [
       "{\n",
       "  \"success\": true,\n",
       "  \"result\": {\n",
       "    \"observed_value\": 374\n",
       "  },\n",
       "  \"meta\": {},\n",
       "  \"exception_info\": {\n",
       "    \"raised_exception\": false,\n",
       "    \"exception_traceback\": null,\n",
       "    \"exception_message\": null\n",
       "  }\n",
       "}"
      ]
     },
     "execution_count": 5,
     "metadata": {},
     "output_type": "execute_result"
    }
   ],
   "execution_count": 5
  },
  {
   "metadata": {
    "ExecuteTime": {
     "end_time": "2024-07-02T11:59:50.790732Z",
     "start_time": "2024-07-02T11:59:50.651498Z"
    }
   },
   "cell_type": "code",
   "source": [
    "# Expectations for \"DestAirportID\" column\n",
    "validator.expect_column_values_to_not_be_null(\n",
    "    column=\"DestAirportID\", meta={\"dimension\": \"Completeness\"}\n",
    ")\n",
    "validator.expect_column_unique_value_count_to_be_between(\n",
    "    column=\"DestAirportID\",\n",
    "    min_value=1,\n",
    "    max_value=1000000,\n",
    "    meta={\"dimension\": \"Uniqueness\"},\n",
    ")\n",
    "validator.expect_column_unique_value_count_to_be_between(\n",
    "    column=\"DestAirportID\",\n",
    "    min_value=1,\n",
    "    max_value=10000,\n",
    "    meta={\"dimension\": \"Uniqueness\"},\n",
    ")"
   ],
   "id": "cbcae2fd4026e46d",
   "outputs": [
    {
     "data": {
      "text/plain": [
       "Calculating Metrics:   0%|          | 0/6 [00:00<?, ?it/s]"
      ],
      "application/vnd.jupyter.widget-view+json": {
       "version_major": 2,
       "version_minor": 0,
       "model_id": "a2f72bf8c7ad4e31986449e5811982b9"
      }
     },
     "metadata": {},
     "output_type": "display_data"
    },
    {
     "data": {
      "text/plain": [
       "Calculating Metrics:   0%|          | 0/4 [00:00<?, ?it/s]"
      ],
      "application/vnd.jupyter.widget-view+json": {
       "version_major": 2,
       "version_minor": 0,
       "model_id": "a5a681ee3fe042cd83cea7fdee4af368"
      }
     },
     "metadata": {},
     "output_type": "display_data"
    },
    {
     "data": {
      "text/plain": [
       "Calculating Metrics:   0%|          | 0/4 [00:00<?, ?it/s]"
      ],
      "application/vnd.jupyter.widget-view+json": {
       "version_major": 2,
       "version_minor": 0,
       "model_id": "3c8f778af5c74dd4a844540082599a2e"
      }
     },
     "metadata": {},
     "output_type": "display_data"
    },
    {
     "data": {
      "text/plain": [
       "{\n",
       "  \"success\": true,\n",
       "  \"result\": {\n",
       "    \"observed_value\": 374\n",
       "  },\n",
       "  \"meta\": {},\n",
       "  \"exception_info\": {\n",
       "    \"raised_exception\": false,\n",
       "    \"exception_traceback\": null,\n",
       "    \"exception_message\": null\n",
       "  }\n",
       "}"
      ]
     },
     "execution_count": 6,
     "metadata": {},
     "output_type": "execute_result"
    }
   ],
   "execution_count": 6
  },
  {
   "metadata": {
    "ExecuteTime": {
     "end_time": "2024-07-02T11:59:51.380111Z",
     "start_time": "2024-07-02T11:59:50.792970Z"
    }
   },
   "cell_type": "code",
   "source": [
    "# Expectations for \"Cancelled\" column\n",
    "validator.expect_column_values_to_not_be_null(\n",
    "    column=\"Cancelled\", meta={\"dimension\": \"Completeness\"}\n",
    ")\n",
    "validator.expect_column_values_to_be_in_set(\n",
    "    column=\"Cancelled\", value_set=[False, True], meta={\"dimension\": \"Validity\"}\n",
    ")"
   ],
   "id": "c94f17bdcd2b67f6",
   "outputs": [
    {
     "data": {
      "text/plain": [
       "Calculating Metrics:   0%|          | 0/6 [00:00<?, ?it/s]"
      ],
      "application/vnd.jupyter.widget-view+json": {
       "version_major": 2,
       "version_minor": 0,
       "model_id": "dbeee41a36ba41779dd09dca9e40ecda"
      }
     },
     "metadata": {},
     "output_type": "display_data"
    },
    {
     "data": {
      "text/plain": [
       "Calculating Metrics:   0%|          | 0/8 [00:00<?, ?it/s]"
      ],
      "application/vnd.jupyter.widget-view+json": {
       "version_major": 2,
       "version_minor": 0,
       "model_id": "dd4ebfb8b71843f3aa947cf5ce90f72f"
      }
     },
     "metadata": {},
     "output_type": "display_data"
    },
    {
     "data": {
      "text/plain": [
       "{\n",
       "  \"success\": true,\n",
       "  \"result\": {\n",
       "    \"element_count\": 678632,\n",
       "    \"unexpected_count\": 0,\n",
       "    \"unexpected_percent\": 0.0,\n",
       "    \"partial_unexpected_list\": [],\n",
       "    \"missing_count\": 0,\n",
       "    \"missing_percent\": 0.0,\n",
       "    \"unexpected_percent_total\": 0.0,\n",
       "    \"unexpected_percent_nonmissing\": 0.0\n",
       "  },\n",
       "  \"meta\": {},\n",
       "  \"exception_info\": {\n",
       "    \"raised_exception\": false,\n",
       "    \"exception_traceback\": null,\n",
       "    \"exception_message\": null\n",
       "  }\n",
       "}"
      ]
     },
     "execution_count": 7,
     "metadata": {},
     "output_type": "execute_result"
    }
   ],
   "execution_count": 7
  },
  {
   "metadata": {
    "ExecuteTime": {
     "end_time": "2024-07-02T11:59:51.471467Z",
     "start_time": "2024-07-02T11:59:51.381997Z"
    }
   },
   "cell_type": "code",
   "source": [
    "# Expectations for \"CRSDepTime\" column\n",
    "validator.expect_column_values_to_not_be_null(\n",
    "    column=\"CRSDepTime\", meta={\"dimension\": \"Completeness\"}\n",
    ")\n",
    "validator.expect_column_max_to_be_between(\n",
    "    column=\"CRSDepTime\", min_value=0, max_value=2400, meta={\"dimension\": \"Accuracy\"}\n",
    ")"
   ],
   "id": "9607e4aa4c295e6",
   "outputs": [
    {
     "data": {
      "text/plain": [
       "Calculating Metrics:   0%|          | 0/6 [00:00<?, ?it/s]"
      ],
      "application/vnd.jupyter.widget-view+json": {
       "version_major": 2,
       "version_minor": 0,
       "model_id": "abe89cf9cd374b3e80377c5df61904b8"
      }
     },
     "metadata": {},
     "output_type": "display_data"
    },
    {
     "data": {
      "text/plain": [
       "Calculating Metrics:   0%|          | 0/4 [00:00<?, ?it/s]"
      ],
      "application/vnd.jupyter.widget-view+json": {
       "version_major": 2,
       "version_minor": 0,
       "model_id": "464038fb01334a65a497b9d4fa42818a"
      }
     },
     "metadata": {},
     "output_type": "display_data"
    },
    {
     "data": {
      "text/plain": [
       "{\n",
       "  \"success\": true,\n",
       "  \"result\": {\n",
       "    \"observed_value\": 2359\n",
       "  },\n",
       "  \"meta\": {},\n",
       "  \"exception_info\": {\n",
       "    \"raised_exception\": false,\n",
       "    \"exception_traceback\": null,\n",
       "    \"exception_message\": null\n",
       "  }\n",
       "}"
      ]
     },
     "execution_count": 8,
     "metadata": {},
     "output_type": "execute_result"
    }
   ],
   "execution_count": 8
  },
  {
   "metadata": {
    "ExecuteTime": {
     "end_time": "2024-07-02T11:59:51.576894Z",
     "start_time": "2024-07-02T11:59:51.473101Z"
    }
   },
   "cell_type": "code",
   "source": [
    "# Expectations for \"CRSArrTime\" column\n",
    "validator.expect_column_values_to_not_be_null(\n",
    "    column=\"CRSArrTime\", meta={\"dimension\": \"Completeness\"}\n",
    ")\n",
    "validator.expect_column_max_to_be_between(\n",
    "    column=\"CRSArrTime\", min_value=0, max_value=2400, meta={\"dimension\": \"Accuracy\"}\n",
    ")"
   ],
   "id": "b757f55d8a3b0a0f",
   "outputs": [
    {
     "data": {
      "text/plain": [
       "Calculating Metrics:   0%|          | 0/6 [00:00<?, ?it/s]"
      ],
      "application/vnd.jupyter.widget-view+json": {
       "version_major": 2,
       "version_minor": 0,
       "model_id": "fd6f0bd12e584c1c9e2eac5b633c9081"
      }
     },
     "metadata": {},
     "output_type": "display_data"
    },
    {
     "data": {
      "text/plain": [
       "Calculating Metrics:   0%|          | 0/4 [00:00<?, ?it/s]"
      ],
      "application/vnd.jupyter.widget-view+json": {
       "version_major": 2,
       "version_minor": 0,
       "model_id": "cd3a109f3ad348d48477ac665092f9bd"
      }
     },
     "metadata": {},
     "output_type": "display_data"
    },
    {
     "data": {
      "text/plain": [
       "{\n",
       "  \"success\": true,\n",
       "  \"result\": {\n",
       "    \"observed_value\": 2359\n",
       "  },\n",
       "  \"meta\": {},\n",
       "  \"exception_info\": {\n",
       "    \"raised_exception\": false,\n",
       "    \"exception_traceback\": null,\n",
       "    \"exception_message\": null\n",
       "  }\n",
       "}"
      ]
     },
     "execution_count": 9,
     "metadata": {},
     "output_type": "execute_result"
    }
   ],
   "execution_count": 9
  },
  {
   "metadata": {
    "ExecuteTime": {
     "end_time": "2024-07-02T11:59:52.702655Z",
     "start_time": "2024-07-02T11:59:51.581191Z"
    }
   },
   "cell_type": "code",
   "source": [
    "# Expectations for \"Tail_Number\" column\n",
    "validator.expect_column_values_to_match_regex(\n",
    "    column=\"Tail_Number\", regex=\"^[A-Z0-9]{5,6}$\", meta={\"dimension\": \"Validity\"}\n",
    ")\n",
    "validator.expect_column_unique_value_count_to_be_between(\n",
    "    column=\"Tail_Number\",\n",
    "    min_value=1,\n",
    "    max_value=10000,\n",
    "    meta={\"dimension\": \"Uniqueness\"},\n",
    ")"
   ],
   "id": "97de8491ce427177",
   "outputs": [
    {
     "data": {
      "text/plain": [
       "Calculating Metrics:   0%|          | 0/8 [00:00<?, ?it/s]"
      ],
      "application/vnd.jupyter.widget-view+json": {
       "version_major": 2,
       "version_minor": 0,
       "model_id": "8e0638e6e5a147da9d7903262bce8bdd"
      }
     },
     "metadata": {},
     "output_type": "display_data"
    },
    {
     "data": {
      "text/plain": [
       "Calculating Metrics:   0%|          | 0/4 [00:00<?, ?it/s]"
      ],
      "application/vnd.jupyter.widget-view+json": {
       "version_major": 2,
       "version_minor": 0,
       "model_id": "1fda295545984bdc9e56de7f960e02a8"
      }
     },
     "metadata": {},
     "output_type": "display_data"
    },
    {
     "data": {
      "text/plain": [
       "{\n",
       "  \"success\": true,\n",
       "  \"result\": {\n",
       "    \"observed_value\": 5883\n",
       "  },\n",
       "  \"meta\": {},\n",
       "  \"exception_info\": {\n",
       "    \"raised_exception\": false,\n",
       "    \"exception_traceback\": null,\n",
       "    \"exception_message\": null\n",
       "  }\n",
       "}"
      ]
     },
     "execution_count": 10,
     "metadata": {},
     "output_type": "execute_result"
    }
   ],
   "execution_count": 10
  },
  {
   "metadata": {
    "ExecuteTime": {
     "end_time": "2024-07-02T11:59:52.782231Z",
     "start_time": "2024-07-02T11:59:52.703977Z"
    }
   },
   "cell_type": "code",
   "source": [
    "# Expectations for \"CRSElapsedTime\" column\n",
    "validator.expect_column_values_to_not_be_null(\n",
    "    column=\"CRSElapsedTime\", meta={\"dimension\": \"Completeness\"}\n",
    ")\n",
    "validator.expect_column_max_to_be_between(\n",
    "    column=\"CRSElapsedTime\",\n",
    "    min_value=0,\n",
    "    max_value=8000,\n",
    "    meta={\"dimension\": \"Consistency\"},\n",
    ")"
   ],
   "id": "199eeb219f76033f",
   "outputs": [
    {
     "data": {
      "text/plain": [
       "Calculating Metrics:   0%|          | 0/6 [00:00<?, ?it/s]"
      ],
      "application/vnd.jupyter.widget-view+json": {
       "version_major": 2,
       "version_minor": 0,
       "model_id": "7d5cf85e82634a7195a63d0b214803d5"
      }
     },
     "metadata": {},
     "output_type": "display_data"
    },
    {
     "data": {
      "text/plain": [
       "Calculating Metrics:   0%|          | 0/4 [00:00<?, ?it/s]"
      ],
      "application/vnd.jupyter.widget-view+json": {
       "version_major": 2,
       "version_minor": 0,
       "model_id": "53c168370ef046bd8fe35e3901d7a2d6"
      }
     },
     "metadata": {},
     "output_type": "display_data"
    },
    {
     "data": {
      "text/plain": [
       "{\n",
       "  \"success\": true,\n",
       "  \"result\": {\n",
       "    \"observed_value\": 690.0\n",
       "  },\n",
       "  \"meta\": {},\n",
       "  \"exception_info\": {\n",
       "    \"raised_exception\": false,\n",
       "    \"exception_traceback\": null,\n",
       "    \"exception_message\": null\n",
       "  }\n",
       "}"
      ]
     },
     "execution_count": 11,
     "metadata": {},
     "output_type": "execute_result"
    }
   ],
   "execution_count": 11
  },
  {
   "metadata": {
    "ExecuteTime": {
     "end_time": "2024-07-02T11:59:52.829268Z",
     "start_time": "2024-07-02T11:59:52.783865Z"
    }
   },
   "cell_type": "code",
   "source": [
    "# Expectations for \"DepDelay\" column\n",
    "validator.expect_column_max_to_be_between(\n",
    "    column=\"DepDelay\",\n",
    "    min_value=-1000,\n",
    "    max_value=10000,\n",
    "    meta={\"dimension\": \"Consistency\"},\n",
    ")"
   ],
   "id": "c274b910a19a6fe1",
   "outputs": [
    {
     "data": {
      "text/plain": [
       "Calculating Metrics:   0%|          | 0/4 [00:00<?, ?it/s]"
      ],
      "application/vnd.jupyter.widget-view+json": {
       "version_major": 2,
       "version_minor": 0,
       "model_id": "d96a8f9958444cf2adb747d2744b989b"
      }
     },
     "metadata": {},
     "output_type": "display_data"
    },
    {
     "data": {
      "text/plain": [
       "{\n",
       "  \"success\": true,\n",
       "  \"result\": {\n",
       "    \"observed_value\": 4320.0\n",
       "  },\n",
       "  \"meta\": {},\n",
       "  \"exception_info\": {\n",
       "    \"raised_exception\": false,\n",
       "    \"exception_traceback\": null,\n",
       "    \"exception_message\": null\n",
       "  }\n",
       "}"
      ]
     },
     "execution_count": 12,
     "metadata": {},
     "output_type": "execute_result"
    }
   ],
   "execution_count": 12
  },
  {
   "metadata": {
    "ExecuteTime": {
     "end_time": "2024-07-02T11:59:52.861757Z",
     "start_time": "2024-07-02T11:59:52.831496Z"
    }
   },
   "cell_type": "code",
   "source": [
    "# Expectations for \"ActualElapsedTime\" column\n",
    "validator.expect_column_max_to_be_between(\n",
    "    column=\"ActualElapsedTime\",\n",
    "    min_value=0,\n",
    "    max_value=8000,\n",
    "    meta={\"dimension\": \"Consistency\"},\n",
    ")"
   ],
   "id": "67f9328e77b8fa82",
   "outputs": [
    {
     "data": {
      "text/plain": [
       "Calculating Metrics:   0%|          | 0/4 [00:00<?, ?it/s]"
      ],
      "application/vnd.jupyter.widget-view+json": {
       "version_major": 2,
       "version_minor": 0,
       "model_id": "7c20783ac500491483cfde4020bf1d13"
      }
     },
     "metadata": {},
     "output_type": "display_data"
    },
    {
     "data": {
      "text/plain": [
       "{\n",
       "  \"success\": true,\n",
       "  \"result\": {\n",
       "    \"observed_value\": 764.0\n",
       "  },\n",
       "  \"meta\": {},\n",
       "  \"exception_info\": {\n",
       "    \"raised_exception\": false,\n",
       "    \"exception_traceback\": null,\n",
       "    \"exception_message\": null\n",
       "  }\n",
       "}"
      ]
     },
     "execution_count": 13,
     "metadata": {},
     "output_type": "execute_result"
    }
   ],
   "execution_count": 13
  },
  {
   "metadata": {
    "ExecuteTime": {
     "end_time": "2024-07-02T11:59:53.353780Z",
     "start_time": "2024-07-02T11:59:52.862731Z"
    }
   },
   "cell_type": "code",
   "source": [
    "# Expectations for \"Distance\" column\n",
    "validator.expect_column_values_to_not_be_null(\n",
    "    column=\"Distance\", meta={\"dimension\": \"Completeness\"}\n",
    ")\n",
    "validator.expect_column_values_to_be_between(\n",
    "    column=\"Distance\",\n",
    "    min_value=0,\n",
    "    max_value=8000,\n",
    "    meta={\"dimension\": \"Consistency\"},\n",
    ")"
   ],
   "id": "32926a7c3d8ff51c",
   "outputs": [
    {
     "data": {
      "text/plain": [
       "Calculating Metrics:   0%|          | 0/6 [00:00<?, ?it/s]"
      ],
      "application/vnd.jupyter.widget-view+json": {
       "version_major": 2,
       "version_minor": 0,
       "model_id": "ecc13a544eb647ac95cb38065c6f7d75"
      }
     },
     "metadata": {},
     "output_type": "display_data"
    },
    {
     "data": {
      "text/plain": [
       "Calculating Metrics:   0%|          | 0/8 [00:00<?, ?it/s]"
      ],
      "application/vnd.jupyter.widget-view+json": {
       "version_major": 2,
       "version_minor": 0,
       "model_id": "898e464d62534f7d9669c069c84b456f"
      }
     },
     "metadata": {},
     "output_type": "display_data"
    },
    {
     "data": {
      "text/plain": [
       "{\n",
       "  \"success\": true,\n",
       "  \"result\": {\n",
       "    \"element_count\": 678632,\n",
       "    \"unexpected_count\": 0,\n",
       "    \"unexpected_percent\": 0.0,\n",
       "    \"partial_unexpected_list\": [],\n",
       "    \"missing_count\": 0,\n",
       "    \"missing_percent\": 0.0,\n",
       "    \"unexpected_percent_total\": 0.0,\n",
       "    \"unexpected_percent_nonmissing\": 0.0\n",
       "  },\n",
       "  \"meta\": {},\n",
       "  \"exception_info\": {\n",
       "    \"raised_exception\": false,\n",
       "    \"exception_traceback\": null,\n",
       "    \"exception_message\": null\n",
       "  }\n",
       "}"
      ]
     },
     "execution_count": 14,
     "metadata": {},
     "output_type": "execute_result"
    }
   ],
   "execution_count": 14
  },
  {
   "metadata": {},
   "cell_type": "markdown",
   "source": "Let's now save the expectations suite and checkpoint.",
   "id": "5464c8c9dc29cc13"
  },
  {
   "metadata": {
    "ExecuteTime": {
     "end_time": "2024-07-02T11:59:53.410947Z",
     "start_time": "2024-07-02T11:59:53.356023Z"
    }
   },
   "cell_type": "code",
   "source": [
    "# Save expectations and checkpoint\n",
    "validator.save_expectation_suite(discard_failed_expectations=False)\n",
    "checkpoint = context.add_or_update_checkpoint(\n",
    "    name=\"sample_checkpoint\",\n",
    "    validator=validator,\n",
    ")"
   ],
   "id": "53f354e782cb2aef",
   "outputs": [],
   "execution_count": 15
  },
  {
   "metadata": {},
   "cell_type": "markdown",
   "source": "Now we can run the checkpoint to test that all expectations are valid for the current sample. This checkpoint will be run for all new samples automatically later.",
   "id": "6be97b41201fa7b4"
  },
  {
   "metadata": {
    "ExecuteTime": {
     "end_time": "2024-07-02T12:00:12.297880Z",
     "start_time": "2024-07-02T11:59:53.412922Z"
    }
   },
   "cell_type": "code",
   "source": [
    "checkpoint_result = checkpoint.run()\n",
    "\n",
    "# Open report in browser\n",
    "context.view_validation_result(checkpoint_result)\n",
    "\n",
    "if checkpoint_result.success:\n",
    "    print(\"Data quality verification passed successfully\")\n",
    "else:\n",
    "    print(\"Data quality verification failed\")"
   ],
   "id": "13c69c33ce6579b4",
   "outputs": [
    {
     "data": {
      "text/plain": [
       "Calculating Metrics:   0%|          | 0/89 [00:00<?, ?it/s]"
      ],
      "application/vnd.jupyter.widget-view+json": {
       "version_major": 2,
       "version_minor": 0,
       "model_id": "dfaf421f92e5483abeeef45867f4bbea"
      }
     },
     "metadata": {},
     "output_type": "display_data"
    },
    {
     "name": "stdout",
     "output_type": "stream",
     "text": [
      "Data quality verification passed successfully\n"
     ]
    }
   ],
   "execution_count": 16
  }
 ],
 "metadata": {
  "kernelspec": {
   "display_name": "Python 3",
   "language": "python",
   "name": "python3"
  },
  "language_info": {
   "codemirror_mode": {
    "name": "ipython",
    "version": 2
   },
   "file_extension": ".py",
   "mimetype": "text/x-python",
   "name": "python",
   "nbconvert_exporter": "python",
   "pygments_lexer": "ipython2",
   "version": "2.7.6"
  }
 },
 "nbformat": 4,
 "nbformat_minor": 5
}
