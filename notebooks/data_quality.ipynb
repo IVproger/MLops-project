{
 "cells": [
  {
   "metadata": {},
   "cell_type": "markdown",
   "source": [
    "## Data quality verification\n",
    "\n",
    "#### 3. Data requirements\n",
    "\n",
    "The data requirements for this project combine both business and technical requirements. The business requirements are based on the domain knowledge of the project, while the technical requirements are based on the data types and formats required for the analysis. The data requirements will help ensure that the data is of high quality and suitable for further analysis and modeling.\n",
    "\n",
    "EDA has shown that only some columns are important for future use, so we will define the requirements for these columns:\n",
    "- We work only with data of 2022 year, so `FlightDate` should be in 2022 year.\n",
    "- Time features should be given in the correct format of \"hhmm\", where hh is 00-23, mm is 00-59. Some of such time features are `CRSDepTime`, `CRSArrTime`.\n",
    "- `OriginAirportID`, `DestAirportID`, `Operating_Airline`, `Tail_Number` should be in the correct format for airport and airline codes. IDs are numbers, OperatingAirline is a two-character string, Tail_Number is a string of digits and letters.\n",
    "- `Cancelled` is a binary feature, so it should be False or True.\n",
    "- Some features such as `Tail_Number` are not relevant for cancelled flights, so we should check that these features are present for non-cancelled flights, and are missing for cancelled flights.\n",
    "\n",
    "We can define types for important columns in data in the following way:\n",
    "- `FlightDate`: date, format \"YYYY-MM-DD\"\n",
    "- `Operating_Airline`: string, length 2\n",
    "- `OriginAirportID`, `DestAirportID`: integer\n",
    "- `Cancelled`: boolean\n",
    "- `CRSDepTime`, `CRSArrTime`: time, format \"hhmm\"\n",
    "- `Tail_Number`: string (can be None for cancelled flights)\n",
    "- `CRSElapsedTime`, `DepDelay`, `ActualElapsedTime`: integer, minutes (can be None for cancelled flights)\n",
    "- `Distance`: integer, miles\n",
    "\n",
    "For testing the quality of data, we will use Great Expectations library. It allows to define expectations for data, and then automatically check if the data meets these expectations. We will define expectations for the columns mentioned above, and then check if the data meets these expectations. The expectation suite is written in `src/data_quality.py` file. We will use this file to run the expectations on the data."
   ],
   "id": "c2fbe6bba4acb4b1"
  },
  {
   "metadata": {
    "ExecuteTime": {
     "end_time": "2024-06-22T19:01:32.069162Z",
     "start_time": "2024-06-22T18:59:49.359923Z"
    }
   },
   "cell_type": "code",
   "source": [
    "from src.data_quality import load_context_and_sample_data, define_expectations\n",
    "\n",
    "# Create Great Expectations context and load data\n",
    "context, da = load_context_and_sample_data(\"../services\", \"../data/samples/sample.csv\")\n",
    "batch_request = da.build_batch_request()\n",
    "# Define expectations and save them\n",
    "validator = define_expectations(context, batch_request)\n",
    "validator.save_expectation_suite(discard_failed_expectations=False)\n",
    "\n",
    "# Validate the data\n",
    "checkpoint = context.add_or_update_checkpoint(\n",
    "    name=\"sample_checkpoint\",\n",
    "    validator=validator,\n",
    ")\n",
    "checkpoint_result = checkpoint.run()\n",
    "\n",
    "context.view_validation_result(checkpoint_result)\n",
    "\n",
    "if checkpoint_result.success:\n",
    "    print(\"Data quality verification passed successfully\")\n",
    "else:\n",
    "    print(\"Data quality verification failed\")"
   ],
   "id": "49ed0b7b483c2fa1",
   "outputs": [
    {
     "data": {
      "text/plain": [
       "Calculating Metrics:   0%|          | 0/6 [00:00<?, ?it/s]"
      ],
      "application/vnd.jupyter.widget-view+json": {
       "version_major": 2,
       "version_minor": 0,
       "model_id": "82a3580e0b214f95a7343c5e7adc829c"
      }
     },
     "metadata": {},
     "output_type": "display_data"
    },
    {
     "data": {
      "text/plain": [
       "Calculating Metrics:   0%|          | 0/8 [00:00<?, ?it/s]"
      ],
      "application/vnd.jupyter.widget-view+json": {
       "version_major": 2,
       "version_minor": 0,
       "model_id": "533332b3d0b748f2ba787db632ac6235"
      }
     },
     "metadata": {},
     "output_type": "display_data"
    },
    {
     "data": {
      "text/plain": [
       "Calculating Metrics:   0%|          | 0/8 [00:00<?, ?it/s]"
      ],
      "application/vnd.jupyter.widget-view+json": {
       "version_major": 2,
       "version_minor": 0,
       "model_id": "094c7e6cec5547d2b2e8a7dc3b8fa3b8"
      }
     },
     "metadata": {},
     "output_type": "display_data"
    },
    {
     "data": {
      "text/plain": [
       "Calculating Metrics:   0%|          | 0/6 [00:00<?, ?it/s]"
      ],
      "application/vnd.jupyter.widget-view+json": {
       "version_major": 2,
       "version_minor": 0,
       "model_id": "a36f019e5bfd4cbfba7e6b5708231050"
      }
     },
     "metadata": {},
     "output_type": "display_data"
    },
    {
     "data": {
      "text/plain": [
       "Calculating Metrics:   0%|          | 0/8 [00:00<?, ?it/s]"
      ],
      "application/vnd.jupyter.widget-view+json": {
       "version_major": 2,
       "version_minor": 0,
       "model_id": "1ac0314fac10473aa4d305333ad4e77d"
      }
     },
     "metadata": {},
     "output_type": "display_data"
    },
    {
     "data": {
      "text/plain": [
       "Calculating Metrics:   0%|          | 0/4 [00:00<?, ?it/s]"
      ],
      "application/vnd.jupyter.widget-view+json": {
       "version_major": 2,
       "version_minor": 0,
       "model_id": "ac2f8d45cc7049a89d49c3a8407011a4"
      }
     },
     "metadata": {},
     "output_type": "display_data"
    },
    {
     "data": {
      "text/plain": [
       "Calculating Metrics:   0%|          | 0/6 [00:00<?, ?it/s]"
      ],
      "application/vnd.jupyter.widget-view+json": {
       "version_major": 2,
       "version_minor": 0,
       "model_id": "a17f34ae44d048a4b00f59502f4a1fcc"
      }
     },
     "metadata": {},
     "output_type": "display_data"
    },
    {
     "data": {
      "text/plain": [
       "Calculating Metrics:   0%|          | 0/4 [00:00<?, ?it/s]"
      ],
      "application/vnd.jupyter.widget-view+json": {
       "version_major": 2,
       "version_minor": 0,
       "model_id": "77474dfb02484a75bdef4822eb74d152"
      }
     },
     "metadata": {},
     "output_type": "display_data"
    },
    {
     "data": {
      "text/plain": [
       "Calculating Metrics:   0%|          | 0/4 [00:00<?, ?it/s]"
      ],
      "application/vnd.jupyter.widget-view+json": {
       "version_major": 2,
       "version_minor": 0,
       "model_id": "2475f44310e04b0180022a780ee72e60"
      }
     },
     "metadata": {},
     "output_type": "display_data"
    },
    {
     "data": {
      "text/plain": [
       "Calculating Metrics:   0%|          | 0/6 [00:00<?, ?it/s]"
      ],
      "application/vnd.jupyter.widget-view+json": {
       "version_major": 2,
       "version_minor": 0,
       "model_id": "28c8b31df51c4049881d5a902895f6a4"
      }
     },
     "metadata": {},
     "output_type": "display_data"
    },
    {
     "data": {
      "text/plain": [
       "Calculating Metrics:   0%|          | 0/4 [00:00<?, ?it/s]"
      ],
      "application/vnd.jupyter.widget-view+json": {
       "version_major": 2,
       "version_minor": 0,
       "model_id": "a23400d21b954272bd8e3c5814e6b40d"
      }
     },
     "metadata": {},
     "output_type": "display_data"
    },
    {
     "data": {
      "text/plain": [
       "Calculating Metrics:   0%|          | 0/4 [00:00<?, ?it/s]"
      ],
      "application/vnd.jupyter.widget-view+json": {
       "version_major": 2,
       "version_minor": 0,
       "model_id": "f3523d38f828415baaeb2c29b454068e"
      }
     },
     "metadata": {},
     "output_type": "display_data"
    },
    {
     "data": {
      "text/plain": [
       "Calculating Metrics:   0%|          | 0/6 [00:00<?, ?it/s]"
      ],
      "application/vnd.jupyter.widget-view+json": {
       "version_major": 2,
       "version_minor": 0,
       "model_id": "3a189bdcbe854d518adedd68714a9e04"
      }
     },
     "metadata": {},
     "output_type": "display_data"
    },
    {
     "data": {
      "text/plain": [
       "Calculating Metrics:   0%|          | 0/8 [00:00<?, ?it/s]"
      ],
      "application/vnd.jupyter.widget-view+json": {
       "version_major": 2,
       "version_minor": 0,
       "model_id": "1fa011450ef5407989c9e12ef335f00d"
      }
     },
     "metadata": {},
     "output_type": "display_data"
    },
    {
     "data": {
      "text/plain": [
       "Calculating Metrics:   0%|          | 0/6 [00:00<?, ?it/s]"
      ],
      "application/vnd.jupyter.widget-view+json": {
       "version_major": 2,
       "version_minor": 0,
       "model_id": "62a2c73ecbfa4a298c057561d03aecb1"
      }
     },
     "metadata": {},
     "output_type": "display_data"
    },
    {
     "data": {
      "text/plain": [
       "Calculating Metrics:   0%|          | 0/4 [00:00<?, ?it/s]"
      ],
      "application/vnd.jupyter.widget-view+json": {
       "version_major": 2,
       "version_minor": 0,
       "model_id": "9a8415d13af14033af609a2a187b8563"
      }
     },
     "metadata": {},
     "output_type": "display_data"
    },
    {
     "data": {
      "text/plain": [
       "Calculating Metrics:   0%|          | 0/6 [00:00<?, ?it/s]"
      ],
      "application/vnd.jupyter.widget-view+json": {
       "version_major": 2,
       "version_minor": 0,
       "model_id": "37bd26fcf85f4da1be2c3dfd6f912da4"
      }
     },
     "metadata": {},
     "output_type": "display_data"
    },
    {
     "data": {
      "text/plain": [
       "Calculating Metrics:   0%|          | 0/4 [00:00<?, ?it/s]"
      ],
      "application/vnd.jupyter.widget-view+json": {
       "version_major": 2,
       "version_minor": 0,
       "model_id": "8a7efed5c1434a5a8979ca73962792ef"
      }
     },
     "metadata": {},
     "output_type": "display_data"
    },
    {
     "data": {
      "text/plain": [
       "Calculating Metrics:   0%|          | 0/8 [00:00<?, ?it/s]"
      ],
      "application/vnd.jupyter.widget-view+json": {
       "version_major": 2,
       "version_minor": 0,
       "model_id": "aa326a1bc1904421a306b255259d7db0"
      }
     },
     "metadata": {},
     "output_type": "display_data"
    },
    {
     "data": {
      "text/plain": [
       "Calculating Metrics:   0%|          | 0/4 [00:00<?, ?it/s]"
      ],
      "application/vnd.jupyter.widget-view+json": {
       "version_major": 2,
       "version_minor": 0,
       "model_id": "24c91a50c2bd46489a259980bdf42d8e"
      }
     },
     "metadata": {},
     "output_type": "display_data"
    },
    {
     "data": {
      "text/plain": [
       "Calculating Metrics:   0%|          | 0/6 [00:00<?, ?it/s]"
      ],
      "application/vnd.jupyter.widget-view+json": {
       "version_major": 2,
       "version_minor": 0,
       "model_id": "959a34121c6349518b09b8275c7b3d44"
      }
     },
     "metadata": {},
     "output_type": "display_data"
    },
    {
     "data": {
      "text/plain": [
       "Calculating Metrics:   0%|          | 0/4 [00:00<?, ?it/s]"
      ],
      "application/vnd.jupyter.widget-view+json": {
       "version_major": 2,
       "version_minor": 0,
       "model_id": "3cdba80c91a243ec8b873c5b1d56318a"
      }
     },
     "metadata": {},
     "output_type": "display_data"
    },
    {
     "data": {
      "text/plain": [
       "Calculating Metrics:   0%|          | 0/4 [00:00<?, ?it/s]"
      ],
      "application/vnd.jupyter.widget-view+json": {
       "version_major": 2,
       "version_minor": 0,
       "model_id": "cb100fc27b254d76ba7755da8dc04841"
      }
     },
     "metadata": {},
     "output_type": "display_data"
    },
    {
     "data": {
      "text/plain": [
       "Calculating Metrics:   0%|          | 0/4 [00:00<?, ?it/s]"
      ],
      "application/vnd.jupyter.widget-view+json": {
       "version_major": 2,
       "version_minor": 0,
       "model_id": "f579d3bab912465489c95bb073ad02dc"
      }
     },
     "metadata": {},
     "output_type": "display_data"
    },
    {
     "data": {
      "text/plain": [
       "Calculating Metrics:   0%|          | 0/6 [00:00<?, ?it/s]"
      ],
      "application/vnd.jupyter.widget-view+json": {
       "version_major": 2,
       "version_minor": 0,
       "model_id": "ba5d12e934944888bf5a0cbb665055c2"
      }
     },
     "metadata": {},
     "output_type": "display_data"
    },
    {
     "data": {
      "text/plain": [
       "Calculating Metrics:   0%|          | 0/8 [00:00<?, ?it/s]"
      ],
      "application/vnd.jupyter.widget-view+json": {
       "version_major": 2,
       "version_minor": 0,
       "model_id": "c4359851368e4f55bdbeb9690c9afc5b"
      }
     },
     "metadata": {},
     "output_type": "display_data"
    },
    {
     "data": {
      "text/plain": [
       "Calculating Metrics:   0%|          | 0/89 [00:00<?, ?it/s]"
      ],
      "application/vnd.jupyter.widget-view+json": {
       "version_major": 2,
       "version_minor": 0,
       "model_id": "5541f04f58324b0eb29a6dc81f65df77"
      }
     },
     "metadata": {},
     "output_type": "display_data"
    },
    {
     "name": "stdout",
     "output_type": "stream",
     "text": [
      "Data quality verification passed successfully\n"
     ]
    }
   ],
   "execution_count": 1
  }
 ],
 "metadata": {
  "kernelspec": {
   "display_name": "Python 3",
   "language": "python",
   "name": "python3"
  },
  "language_info": {
   "codemirror_mode": {
    "name": "ipython",
    "version": 2
   },
   "file_extension": ".py",
   "mimetype": "text/x-python",
   "name": "python",
   "nbconvert_exporter": "python",
   "pygments_lexer": "ipython2",
   "version": "2.7.6"
  }
 },
 "nbformat": 4,
 "nbformat_minor": 5
}
