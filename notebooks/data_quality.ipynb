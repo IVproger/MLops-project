{
 "cells": [
  {
   "cell_type": "code",
   "execution_count": 2,
   "id": "ebbb508c",
   "metadata": {},
   "outputs": [],
   "source": [
    "import sys\n",
    "import os\n",
    "\n",
    "sys.path.append(os.path.abspath(os.path.join(os.getcwd(), '..')))"
   ]
  },
  {
   "cell_type": "markdown",
   "id": "c2fbe6bba4acb4b1",
   "metadata": {},
   "source": [
    "## Data quality verification\n",
    "\n",
    "#### 3. Data requirements\n",
    "\n",
    "The data requirements for this project combine both business and technical requirements. The business requirements are based on the domain knowledge of the project, while the technical requirements are based on the data types and formats required for the analysis. The data requirements will help ensure that the data is of high quality and suitable for further analysis and modeling.\n",
    "\n",
    "EDA has shown that only some columns are important for future use, so we will define the requirements for these columns:\n",
    "- We work only with data of 2022 year, so `FlightDate` should be in 2022 year.\n",
    "- Time features should be given in the correct format of \"hhmm\", where hh is 00-23, mm is 00-59. Some of such time features are `CRSDepTime`, `CRSArrTime`.\n",
    "- `OriginAirportID`, `DestAirportID`, `Operating_Airline`, `Tail_Number` should be in the correct format for airport and airline codes. IDs are numbers, OperatingAirline is a two-character string, Tail_Number is a string of digits and letters.\n",
    "- `Cancelled` is a binary feature, so it should be False or True.\n",
    "- Some features such as `Tail_Number` are not relevant for cancelled flights, so we should check that these features are present for non-cancelled flights, and are missing for cancelled flights.\n",
    "\n",
    "We can define types for important columns in data in the following way:\n",
    "- `FlightDate`: date, format \"YYYY-MM-DD\"\n",
    "- `Operating_Airline`: string, length 2\n",
    "- `OriginAirportID`, `DestAirportID`: integer\n",
    "- `Cancelled`: boolean\n",
    "- `CRSDepTime`, `CRSArrTime`: time, format \"hhmm\"\n",
    "- `CRSElapsedTime`: integer, minutes\n",
    "- `Tail_Number`: string (can be None for cancelled flights)\n",
    "- `DepDelay`, `ActualElapsedTime`: integer, minutes (can be None for cancelled flights)\n",
    "- `Distance`: integer, miles\n",
    "\n",
    "For testing the quality of data, we will use Great Expectations library. It allows to define expectations for data, and then automatically check if the data meets these expectations. We will define expectations for the columns mentioned above, and then check if the data meets these expectations."
   ]
  },
  {
   "cell_type": "code",
   "execution_count": 3,
   "id": "49ed0b7b483c2fa1",
   "metadata": {
    "ExecuteTime": {
     "end_time": "2024-07-02T11:59:36.035480Z",
     "start_time": "2024-07-02T11:59:32.857995Z"
    }
   },
   "outputs": [],
   "source": [
    "from src.data_quality import load_context_and_sample_data\n",
    "\n",
    "# Create Great Expectations context and load data\n",
    "context, da = load_context_and_sample_data(\"../services\", \"../data/samples/sample.csv\")\n",
    "batch_request = da.build_batch_request()"
   ]
  },
  {
   "cell_type": "code",
   "execution_count": 4,
   "id": "a64fc73c7207fcc4",
   "metadata": {
    "ExecuteTime": {
     "end_time": "2024-07-02T11:59:46.529642Z",
     "start_time": "2024-07-02T11:59:36.041412Z"
    }
   },
   "outputs": [
    {
     "data": {
      "application/vnd.jupyter.widget-view+json": {
       "model_id": "38fa43cdf5fe4f8b8da0b5e8f7ab5a24",
       "version_major": 2,
       "version_minor": 0
      },
      "text/plain": [
       "Calculating Metrics:   0%|          | 0/1 [00:00<?, ?it/s]"
      ]
     },
     "metadata": {},
     "output_type": "display_data"
    },
    {
     "data": {
      "text/html": [
       "<div>\n",
       "<style scoped>\n",
       "    .dataframe tbody tr th:only-of-type {\n",
       "        vertical-align: middle;\n",
       "    }\n",
       "\n",
       "    .dataframe tbody tr th {\n",
       "        vertical-align: top;\n",
       "    }\n",
       "\n",
       "    .dataframe thead th {\n",
       "        text-align: right;\n",
       "    }\n",
       "</style>\n",
       "<table border=\"1\" class=\"dataframe\">\n",
       "  <thead>\n",
       "    <tr style=\"text-align: right;\">\n",
       "      <th></th>\n",
       "      <th>FlightDate</th>\n",
       "      <th>Airline</th>\n",
       "      <th>Origin</th>\n",
       "      <th>Dest</th>\n",
       "      <th>Cancelled</th>\n",
       "      <th>Diverted</th>\n",
       "      <th>CRSDepTime</th>\n",
       "      <th>DepTime</th>\n",
       "      <th>DepDelayMinutes</th>\n",
       "      <th>DepDelay</th>\n",
       "      <th>...</th>\n",
       "      <th>WheelsOff</th>\n",
       "      <th>WheelsOn</th>\n",
       "      <th>TaxiIn</th>\n",
       "      <th>CRSArrTime</th>\n",
       "      <th>ArrDelay</th>\n",
       "      <th>ArrDel15</th>\n",
       "      <th>ArrivalDelayGroups</th>\n",
       "      <th>ArrTimeBlk</th>\n",
       "      <th>DistanceGroup</th>\n",
       "      <th>DivAirportLandings</th>\n",
       "    </tr>\n",
       "  </thead>\n",
       "  <tbody>\n",
       "    <tr>\n",
       "      <th>0</th>\n",
       "      <td>2022-02-25</td>\n",
       "      <td>Alaska Airlines Inc.</td>\n",
       "      <td>YAK</td>\n",
       "      <td>JNU</td>\n",
       "      <td>False</td>\n",
       "      <td>False</td>\n",
       "      <td>1720</td>\n",
       "      <td>1701.0</td>\n",
       "      <td>0.0</td>\n",
       "      <td>-19.0</td>\n",
       "      <td>...</td>\n",
       "      <td>1713.0</td>\n",
       "      <td>1750.0</td>\n",
       "      <td>5.0</td>\n",
       "      <td>1811</td>\n",
       "      <td>-16.0</td>\n",
       "      <td>0.0</td>\n",
       "      <td>-2.0</td>\n",
       "      <td>1800-1859</td>\n",
       "      <td>1</td>\n",
       "      <td>0</td>\n",
       "    </tr>\n",
       "    <tr>\n",
       "      <th>1</th>\n",
       "      <td>2022-02-25</td>\n",
       "      <td>Alaska Airlines Inc.</td>\n",
       "      <td>SIT</td>\n",
       "      <td>JNU</td>\n",
       "      <td>False</td>\n",
       "      <td>False</td>\n",
       "      <td>1920</td>\n",
       "      <td>2031.0</td>\n",
       "      <td>71.0</td>\n",
       "      <td>71.0</td>\n",
       "      <td>...</td>\n",
       "      <td>2037.0</td>\n",
       "      <td>2100.0</td>\n",
       "      <td>5.0</td>\n",
       "      <td>2005</td>\n",
       "      <td>60.0</td>\n",
       "      <td>1.0</td>\n",
       "      <td>4.0</td>\n",
       "      <td>2000-2059</td>\n",
       "      <td>1</td>\n",
       "      <td>0</td>\n",
       "    </tr>\n",
       "    <tr>\n",
       "      <th>2</th>\n",
       "      <td>2022-02-25</td>\n",
       "      <td>Alaska Airlines Inc.</td>\n",
       "      <td>KTN</td>\n",
       "      <td>SIT</td>\n",
       "      <td>False</td>\n",
       "      <td>False</td>\n",
       "      <td>1734</td>\n",
       "      <td>1902.0</td>\n",
       "      <td>88.0</td>\n",
       "      <td>88.0</td>\n",
       "      <td>...</td>\n",
       "      <td>1919.0</td>\n",
       "      <td>1954.0</td>\n",
       "      <td>5.0</td>\n",
       "      <td>1830</td>\n",
       "      <td>89.0</td>\n",
       "      <td>1.0</td>\n",
       "      <td>5.0</td>\n",
       "      <td>1800-1859</td>\n",
       "      <td>1</td>\n",
       "      <td>0</td>\n",
       "    </tr>\n",
       "    <tr>\n",
       "      <th>3</th>\n",
       "      <td>2022-02-25</td>\n",
       "      <td>Alaska Airlines Inc.</td>\n",
       "      <td>SEA</td>\n",
       "      <td>KTN</td>\n",
       "      <td>False</td>\n",
       "      <td>False</td>\n",
       "      <td>1540</td>\n",
       "      <td>1555.0</td>\n",
       "      <td>15.0</td>\n",
       "      <td>15.0</td>\n",
       "      <td>...</td>\n",
       "      <td>1607.0</td>\n",
       "      <td>1649.0</td>\n",
       "      <td>5.0</td>\n",
       "      <td>1647</td>\n",
       "      <td>7.0</td>\n",
       "      <td>0.0</td>\n",
       "      <td>0.0</td>\n",
       "      <td>1600-1659</td>\n",
       "      <td>3</td>\n",
       "      <td>0</td>\n",
       "    </tr>\n",
       "    <tr>\n",
       "      <th>4</th>\n",
       "      <td>2022-02-25</td>\n",
       "      <td>Alaska Airlines Inc.</td>\n",
       "      <td>ANC</td>\n",
       "      <td>FAI</td>\n",
       "      <td>False</td>\n",
       "      <td>False</td>\n",
       "      <td>2335</td>\n",
       "      <td>12.0</td>\n",
       "      <td>37.0</td>\n",
       "      <td>37.0</td>\n",
       "      <td>...</td>\n",
       "      <td>24.0</td>\n",
       "      <td>101.0</td>\n",
       "      <td>3.0</td>\n",
       "      <td>34</td>\n",
       "      <td>30.0</td>\n",
       "      <td>1.0</td>\n",
       "      <td>2.0</td>\n",
       "      <td>0001-0559</td>\n",
       "      <td>2</td>\n",
       "      <td>0</td>\n",
       "    </tr>\n",
       "  </tbody>\n",
       "</table>\n",
       "<p>5 rows × 61 columns</p>\n",
       "</div>"
      ],
      "text/plain": [
       "   FlightDate               Airline Origin Dest  Cancelled  Diverted  \\\n",
       "0  2022-02-25  Alaska Airlines Inc.    YAK  JNU      False     False   \n",
       "1  2022-02-25  Alaska Airlines Inc.    SIT  JNU      False     False   \n",
       "2  2022-02-25  Alaska Airlines Inc.    KTN  SIT      False     False   \n",
       "3  2022-02-25  Alaska Airlines Inc.    SEA  KTN      False     False   \n",
       "4  2022-02-25  Alaska Airlines Inc.    ANC  FAI      False     False   \n",
       "\n",
       "   CRSDepTime  DepTime  DepDelayMinutes  DepDelay  ...  WheelsOff  WheelsOn  \\\n",
       "0        1720   1701.0              0.0     -19.0  ...     1713.0    1750.0   \n",
       "1        1920   2031.0             71.0      71.0  ...     2037.0    2100.0   \n",
       "2        1734   1902.0             88.0      88.0  ...     1919.0    1954.0   \n",
       "3        1540   1555.0             15.0      15.0  ...     1607.0    1649.0   \n",
       "4        2335     12.0             37.0      37.0  ...       24.0     101.0   \n",
       "\n",
       "   TaxiIn  CRSArrTime  ArrDelay  ArrDel15  ArrivalDelayGroups  ArrTimeBlk  \\\n",
       "0     5.0        1811     -16.0       0.0                -2.0   1800-1859   \n",
       "1     5.0        2005      60.0       1.0                 4.0   2000-2059   \n",
       "2     5.0        1830      89.0       1.0                 5.0   1800-1859   \n",
       "3     5.0        1647       7.0       0.0                 0.0   1600-1659   \n",
       "4     3.0          34      30.0       1.0                 2.0   0001-0559   \n",
       "\n",
       "   DistanceGroup  DivAirportLandings  \n",
       "0              1                   0  \n",
       "1              1                   0  \n",
       "2              1                   0  \n",
       "3              3                   0  \n",
       "4              2                   0  \n",
       "\n",
       "[5 rows x 61 columns]"
      ]
     },
     "execution_count": 4,
     "metadata": {},
     "output_type": "execute_result"
    }
   ],
   "source": [
    "# Create expectation suite and retrieve validator\n",
    "validator = context.get_validator(\n",
    "    batch_request=batch_request,\n",
    "    expectation_suite_name=\"sample_validation\",\n",
    ")\n",
    "validator.head()"
   ]
  },
  {
   "cell_type": "markdown",
   "id": "c3538b67ed76abeb",
   "metadata": {},
   "source": [
    "Let's define our expectations for the sample data. We do it in notebook to execute them interactively."
   ]
  },
  {
   "cell_type": "code",
   "execution_count": 5,
   "id": "d670aff9e9436fb5",
   "metadata": {
    "ExecuteTime": {
     "end_time": "2024-07-02T11:59:49.063022Z",
     "start_time": "2024-07-02T11:59:46.531427Z"
    }
   },
   "outputs": [
    {
     "data": {
      "application/vnd.jupyter.widget-view+json": {
       "model_id": "a2125d756143461888edd307b7c11411",
       "version_major": 2,
       "version_minor": 0
      },
      "text/plain": [
       "Calculating Metrics:   0%|          | 0/6 [00:00<?, ?it/s]"
      ]
     },
     "metadata": {},
     "output_type": "display_data"
    },
    {
     "data": {
      "application/vnd.jupyter.widget-view+json": {
       "model_id": "d7f40f284b394c488b7b02cf3d35ad8a",
       "version_major": 2,
       "version_minor": 0
      },
      "text/plain": [
       "Calculating Metrics:   0%|          | 0/8 [00:00<?, ?it/s]"
      ]
     },
     "metadata": {},
     "output_type": "display_data"
    },
    {
     "data": {
      "application/vnd.jupyter.widget-view+json": {
       "model_id": "77025f78e5764299b3739ae0dc939167",
       "version_major": 2,
       "version_minor": 0
      },
      "text/plain": [
       "Calculating Metrics:   0%|          | 0/8 [00:00<?, ?it/s]"
      ]
     },
     "metadata": {},
     "output_type": "display_data"
    },
    {
     "data": {
      "text/plain": [
       "{\n",
       "  \"success\": true,\n",
       "  \"result\": {\n",
       "    \"element_count\": 815664,\n",
       "    \"unexpected_count\": 0,\n",
       "    \"unexpected_percent\": 0.0,\n",
       "    \"partial_unexpected_list\": [],\n",
       "    \"missing_count\": 0,\n",
       "    \"missing_percent\": 0.0,\n",
       "    \"unexpected_percent_total\": 0.0,\n",
       "    \"unexpected_percent_nonmissing\": 0.0\n",
       "  },\n",
       "  \"meta\": {},\n",
       "  \"exception_info\": {\n",
       "    \"raised_exception\": false,\n",
       "    \"exception_traceback\": null,\n",
       "    \"exception_message\": null\n",
       "  }\n",
       "}"
      ]
     },
     "execution_count": 5,
     "metadata": {},
     "output_type": "execute_result"
    }
   ],
   "source": [
    "# Expectations for \"FlightDate\" column\n",
    "validator.expect_column_values_to_not_be_null(\n",
    "    column=\"FlightDate\", meta={\"dimension\": \"Completeness\"}\n",
    ")\n",
    "validator.expect_column_values_to_be_between(\n",
    "    column=\"FlightDate\",\n",
    "    min_value=\"2022-01-01\",\n",
    "    max_value=\"2022-12-31\",\n",
    "    meta={\"dimension\": \"Timelessness\"},\n",
    ")\n",
    "validator.expect_column_values_to_match_regex(\n",
    "    column=\"FlightDate\", regex=\"^\\d{4}-\\d{2}-\\d{2}$\", meta={\"dimension\": \"Validity\"}\n",
    ")"
   ]
  },
  {
   "cell_type": "code",
   "execution_count": 6,
   "id": "e35e781cfbe4ae53",
   "metadata": {
    "ExecuteTime": {
     "end_time": "2024-07-02T11:59:50.511941Z",
     "start_time": "2024-07-02T11:59:49.072587Z"
    }
   },
   "outputs": [
    {
     "data": {
      "application/vnd.jupyter.widget-view+json": {
       "model_id": "de79b644a39f46cca9abb6cb89ce8b70",
       "version_major": 2,
       "version_minor": 0
      },
      "text/plain": [
       "Calculating Metrics:   0%|          | 0/6 [00:00<?, ?it/s]"
      ]
     },
     "metadata": {},
     "output_type": "display_data"
    },
    {
     "data": {
      "application/vnd.jupyter.widget-view+json": {
       "model_id": "14496b9bd8fb45a198cfa3bb24a8c4a8",
       "version_major": 2,
       "version_minor": 0
      },
      "text/plain": [
       "Calculating Metrics:   0%|          | 0/8 [00:00<?, ?it/s]"
      ]
     },
     "metadata": {},
     "output_type": "display_data"
    },
    {
     "data": {
      "application/vnd.jupyter.widget-view+json": {
       "model_id": "20ce0969e9a7448aa0ccb1cf9986e672",
       "version_major": 2,
       "version_minor": 0
      },
      "text/plain": [
       "Calculating Metrics:   0%|          | 0/4 [00:00<?, ?it/s]"
      ]
     },
     "metadata": {},
     "output_type": "display_data"
    },
    {
     "data": {
      "text/plain": [
       "{\n",
       "  \"success\": true,\n",
       "  \"result\": {\n",
       "    \"observed_value\": 21\n",
       "  },\n",
       "  \"meta\": {},\n",
       "  \"exception_info\": {\n",
       "    \"raised_exception\": false,\n",
       "    \"exception_traceback\": null,\n",
       "    \"exception_message\": null\n",
       "  }\n",
       "}"
      ]
     },
     "execution_count": 6,
     "metadata": {},
     "output_type": "execute_result"
    }
   ],
   "source": [
    "# Expectations for \"Operating_Airline\" column\n",
    "validator.expect_column_values_to_not_be_null(\n",
    "    column=\"Operating_Airline\", meta={\"dimension\": \"Completeness\"}\n",
    ")\n",
    "validator.expect_column_values_to_match_regex(\n",
    "    column=\"Operating_Airline\",\n",
    "    regex=\"^[A-Z0-9]{2}$\",\n",
    "    meta={\"dimension\": \"Validity\"},\n",
    ")\n",
    "validator.expect_column_unique_value_count_to_be_between(\n",
    "    column=\"Operating_Airline\",\n",
    "    min_value=1,\n",
    "    max_value=100,\n",
    "    meta={\"dimension\": \"Uniqueness\"},\n",
    ")"
   ]
  },
  {
   "cell_type": "code",
   "execution_count": 7,
   "id": "fc382e87f293b47f",
   "metadata": {
    "ExecuteTime": {
     "end_time": "2024-07-02T11:59:50.649780Z",
     "start_time": "2024-07-02T11:59:50.513286Z"
    }
   },
   "outputs": [
    {
     "data": {
      "application/vnd.jupyter.widget-view+json": {
       "model_id": "4cfaeed200ea4e50b4a5bd8d81be423a",
       "version_major": 2,
       "version_minor": 0
      },
      "text/plain": [
       "Calculating Metrics:   0%|          | 0/6 [00:00<?, ?it/s]"
      ]
     },
     "metadata": {},
     "output_type": "display_data"
    },
    {
     "data": {
      "application/vnd.jupyter.widget-view+json": {
       "model_id": "9729bb12c4a24f2885356fbd1d8b9eb4",
       "version_major": 2,
       "version_minor": 0
      },
      "text/plain": [
       "Calculating Metrics:   0%|          | 0/4 [00:00<?, ?it/s]"
      ]
     },
     "metadata": {},
     "output_type": "display_data"
    },
    {
     "data": {
      "application/vnd.jupyter.widget-view+json": {
       "model_id": "dcb98b24de91410fbb05c94bbcd8a50a",
       "version_major": 2,
       "version_minor": 0
      },
      "text/plain": [
       "Calculating Metrics:   0%|          | 0/4 [00:00<?, ?it/s]"
      ]
     },
     "metadata": {},
     "output_type": "display_data"
    },
    {
     "data": {
      "text/plain": [
       "{\n",
       "  \"success\": true,\n",
       "  \"result\": {\n",
       "    \"observed_value\": 372\n",
       "  },\n",
       "  \"meta\": {},\n",
       "  \"exception_info\": {\n",
       "    \"raised_exception\": false,\n",
       "    \"exception_traceback\": null,\n",
       "    \"exception_message\": null\n",
       "  }\n",
       "}"
      ]
     },
     "execution_count": 7,
     "metadata": {},
     "output_type": "execute_result"
    }
   ],
   "source": [
    "# Expectations for \"OriginAirportID\" column\n",
    "validator.expect_column_values_to_not_be_null(\n",
    "    column=\"OriginAirportID\", meta={\"dimension\": \"Completeness\"}\n",
    ")\n",
    "validator.expect_column_unique_value_count_to_be_between(\n",
    "    column=\"OriginAirportID\",\n",
    "    min_value=1,\n",
    "    max_value=1000000,\n",
    "    meta={\"dimension\": \"Uniqueness\"},\n",
    ")\n",
    "validator.expect_column_unique_value_count_to_be_between(\n",
    "    column=\"OriginAirportID\",\n",
    "    min_value=1,\n",
    "    max_value=10000,\n",
    "    meta={\"dimension\": \"Uniqueness\"},\n",
    ")"
   ]
  },
  {
   "cell_type": "code",
   "execution_count": 8,
   "id": "cbcae2fd4026e46d",
   "metadata": {
    "ExecuteTime": {
     "end_time": "2024-07-02T11:59:50.790732Z",
     "start_time": "2024-07-02T11:59:50.651498Z"
    }
   },
   "outputs": [
    {
     "data": {
      "application/vnd.jupyter.widget-view+json": {
       "model_id": "04bd5b9d6cee4033bb78b4b7c394b9e1",
       "version_major": 2,
       "version_minor": 0
      },
      "text/plain": [
       "Calculating Metrics:   0%|          | 0/6 [00:00<?, ?it/s]"
      ]
     },
     "metadata": {},
     "output_type": "display_data"
    },
    {
     "data": {
      "application/vnd.jupyter.widget-view+json": {
       "model_id": "6c4c3ca388d84e0b8af2df796fc8b3c3",
       "version_major": 2,
       "version_minor": 0
      },
      "text/plain": [
       "Calculating Metrics:   0%|          | 0/4 [00:00<?, ?it/s]"
      ]
     },
     "metadata": {},
     "output_type": "display_data"
    },
    {
     "data": {
      "application/vnd.jupyter.widget-view+json": {
       "model_id": "651a7793a7b3485c8f13217c63332f78",
       "version_major": 2,
       "version_minor": 0
      },
      "text/plain": [
       "Calculating Metrics:   0%|          | 0/4 [00:00<?, ?it/s]"
      ]
     },
     "metadata": {},
     "output_type": "display_data"
    },
    {
     "data": {
      "text/plain": [
       "{\n",
       "  \"success\": true,\n",
       "  \"result\": {\n",
       "    \"observed_value\": 372\n",
       "  },\n",
       "  \"meta\": {},\n",
       "  \"exception_info\": {\n",
       "    \"raised_exception\": false,\n",
       "    \"exception_traceback\": null,\n",
       "    \"exception_message\": null\n",
       "  }\n",
       "}"
      ]
     },
     "execution_count": 8,
     "metadata": {},
     "output_type": "execute_result"
    }
   ],
   "source": [
    "# Expectations for \"DestAirportID\" column\n",
    "validator.expect_column_values_to_not_be_null(\n",
    "    column=\"DestAirportID\", meta={\"dimension\": \"Completeness\"}\n",
    ")\n",
    "validator.expect_column_unique_value_count_to_be_between(\n",
    "    column=\"DestAirportID\",\n",
    "    min_value=1,\n",
    "    max_value=1000000,\n",
    "    meta={\"dimension\": \"Uniqueness\"},\n",
    ")\n",
    "validator.expect_column_unique_value_count_to_be_between(\n",
    "    column=\"DestAirportID\",\n",
    "    min_value=1,\n",
    "    max_value=10000,\n",
    "    meta={\"dimension\": \"Uniqueness\"},\n",
    ")"
   ]
  },
  {
   "cell_type": "code",
   "execution_count": 9,
   "id": "c94f17bdcd2b67f6",
   "metadata": {
    "ExecuteTime": {
     "end_time": "2024-07-02T11:59:51.380111Z",
     "start_time": "2024-07-02T11:59:50.792970Z"
    }
   },
   "outputs": [
    {
     "data": {
      "application/vnd.jupyter.widget-view+json": {
       "model_id": "fd6ed484432e4454813761f3eeac31a1",
       "version_major": 2,
       "version_minor": 0
      },
      "text/plain": [
       "Calculating Metrics:   0%|          | 0/6 [00:00<?, ?it/s]"
      ]
     },
     "metadata": {},
     "output_type": "display_data"
    },
    {
     "data": {
      "application/vnd.jupyter.widget-view+json": {
       "model_id": "e36623e58b104fe39ce0f68b976be31b",
       "version_major": 2,
       "version_minor": 0
      },
      "text/plain": [
       "Calculating Metrics:   0%|          | 0/8 [00:00<?, ?it/s]"
      ]
     },
     "metadata": {},
     "output_type": "display_data"
    },
    {
     "data": {
      "text/plain": [
       "{\n",
       "  \"success\": true,\n",
       "  \"result\": {\n",
       "    \"element_count\": 815664,\n",
       "    \"unexpected_count\": 0,\n",
       "    \"unexpected_percent\": 0.0,\n",
       "    \"partial_unexpected_list\": [],\n",
       "    \"missing_count\": 0,\n",
       "    \"missing_percent\": 0.0,\n",
       "    \"unexpected_percent_total\": 0.0,\n",
       "    \"unexpected_percent_nonmissing\": 0.0\n",
       "  },\n",
       "  \"meta\": {},\n",
       "  \"exception_info\": {\n",
       "    \"raised_exception\": false,\n",
       "    \"exception_traceback\": null,\n",
       "    \"exception_message\": null\n",
       "  }\n",
       "}"
      ]
     },
     "execution_count": 9,
     "metadata": {},
     "output_type": "execute_result"
    }
   ],
   "source": [
    "# Expectations for \"Cancelled\" column\n",
    "validator.expect_column_values_to_not_be_null(\n",
    "    column=\"Cancelled\", meta={\"dimension\": \"Completeness\"}\n",
    ")\n",
    "validator.expect_column_values_to_be_in_set(\n",
    "    column=\"Cancelled\", value_set=[False, True], meta={\"dimension\": \"Validity\"}\n",
    ")"
   ]
  },
  {
   "cell_type": "code",
   "execution_count": 10,
   "id": "9607e4aa4c295e6",
   "metadata": {
    "ExecuteTime": {
     "end_time": "2024-07-02T11:59:51.471467Z",
     "start_time": "2024-07-02T11:59:51.381997Z"
    }
   },
   "outputs": [
    {
     "data": {
      "application/vnd.jupyter.widget-view+json": {
       "model_id": "8cd080acb04a439782b584ce11b73044",
       "version_major": 2,
       "version_minor": 0
      },
      "text/plain": [
       "Calculating Metrics:   0%|          | 0/6 [00:00<?, ?it/s]"
      ]
     },
     "metadata": {},
     "output_type": "display_data"
    },
    {
     "data": {
      "application/vnd.jupyter.widget-view+json": {
       "model_id": "7563d0ee4c104dd69a869ca515853436",
       "version_major": 2,
       "version_minor": 0
      },
      "text/plain": [
       "Calculating Metrics:   0%|          | 0/4 [00:00<?, ?it/s]"
      ]
     },
     "metadata": {},
     "output_type": "display_data"
    },
    {
     "data": {
      "text/plain": [
       "{\n",
       "  \"success\": true,\n",
       "  \"result\": {\n",
       "    \"observed_value\": 2359\n",
       "  },\n",
       "  \"meta\": {},\n",
       "  \"exception_info\": {\n",
       "    \"raised_exception\": false,\n",
       "    \"exception_traceback\": null,\n",
       "    \"exception_message\": null\n",
       "  }\n",
       "}"
      ]
     },
     "execution_count": 10,
     "metadata": {},
     "output_type": "execute_result"
    }
   ],
   "source": [
    "# Expectations for \"CRSDepTime\" column\n",
    "validator.expect_column_values_to_not_be_null(\n",
    "    column=\"CRSDepTime\", meta={\"dimension\": \"Completeness\"}\n",
    ")\n",
    "validator.expect_column_max_to_be_between(\n",
    "    column=\"CRSDepTime\", min_value=0, max_value=2400, meta={\"dimension\": \"Accuracy\"}\n",
    ")"
   ]
  },
  {
   "cell_type": "code",
   "execution_count": 11,
   "id": "b757f55d8a3b0a0f",
   "metadata": {
    "ExecuteTime": {
     "end_time": "2024-07-02T11:59:51.576894Z",
     "start_time": "2024-07-02T11:59:51.473101Z"
    }
   },
   "outputs": [
    {
     "data": {
      "application/vnd.jupyter.widget-view+json": {
       "model_id": "369cee254a974701ae418cd19c064d9c",
       "version_major": 2,
       "version_minor": 0
      },
      "text/plain": [
       "Calculating Metrics:   0%|          | 0/6 [00:00<?, ?it/s]"
      ]
     },
     "metadata": {},
     "output_type": "display_data"
    },
    {
     "data": {
      "application/vnd.jupyter.widget-view+json": {
       "model_id": "5ad35546eec341f7a65d1bd43ac835ba",
       "version_major": 2,
       "version_minor": 0
      },
      "text/plain": [
       "Calculating Metrics:   0%|          | 0/4 [00:00<?, ?it/s]"
      ]
     },
     "metadata": {},
     "output_type": "display_data"
    },
    {
     "data": {
      "text/plain": [
       "{\n",
       "  \"success\": true,\n",
       "  \"result\": {\n",
       "    \"observed_value\": 2359\n",
       "  },\n",
       "  \"meta\": {},\n",
       "  \"exception_info\": {\n",
       "    \"raised_exception\": false,\n",
       "    \"exception_traceback\": null,\n",
       "    \"exception_message\": null\n",
       "  }\n",
       "}"
      ]
     },
     "execution_count": 11,
     "metadata": {},
     "output_type": "execute_result"
    }
   ],
   "source": [
    "# Expectations for \"CRSArrTime\" column\n",
    "validator.expect_column_values_to_not_be_null(\n",
    "    column=\"CRSArrTime\", meta={\"dimension\": \"Completeness\"}\n",
    ")\n",
    "validator.expect_column_max_to_be_between(\n",
    "    column=\"CRSArrTime\", min_value=0, max_value=2400, meta={\"dimension\": \"Accuracy\"}\n",
    ")"
   ]
  },
  {
   "cell_type": "code",
   "execution_count": 12,
   "id": "97de8491ce427177",
   "metadata": {
    "ExecuteTime": {
     "end_time": "2024-07-02T11:59:52.702655Z",
     "start_time": "2024-07-02T11:59:51.581191Z"
    }
   },
   "outputs": [
    {
     "data": {
      "application/vnd.jupyter.widget-view+json": {
       "model_id": "9336f6c6f3c04022ac266ebfb5d24be4",
       "version_major": 2,
       "version_minor": 0
      },
      "text/plain": [
       "Calculating Metrics:   0%|          | 0/8 [00:00<?, ?it/s]"
      ]
     },
     "metadata": {},
     "output_type": "display_data"
    },
    {
     "data": {
      "application/vnd.jupyter.widget-view+json": {
       "model_id": "a775414180d744e79d8b7d69f16c4954",
       "version_major": 2,
       "version_minor": 0
      },
      "text/plain": [
       "Calculating Metrics:   0%|          | 0/4 [00:00<?, ?it/s]"
      ]
     },
     "metadata": {},
     "output_type": "display_data"
    },
    {
     "data": {
      "text/plain": [
       "{\n",
       "  \"success\": true,\n",
       "  \"result\": {\n",
       "    \"observed_value\": 5817\n",
       "  },\n",
       "  \"meta\": {},\n",
       "  \"exception_info\": {\n",
       "    \"raised_exception\": false,\n",
       "    \"exception_traceback\": null,\n",
       "    \"exception_message\": null\n",
       "  }\n",
       "}"
      ]
     },
     "execution_count": 12,
     "metadata": {},
     "output_type": "execute_result"
    }
   ],
   "source": [
    "# Expectations for \"Tail_Number\" column\n",
    "validator.expect_column_values_to_match_regex(\n",
    "    column=\"Tail_Number\", regex=\"^[A-Z0-9]{5,6}$\", meta={\"dimension\": \"Validity\"}\n",
    ")\n",
    "validator.expect_column_unique_value_count_to_be_between(\n",
    "    column=\"Tail_Number\",\n",
    "    min_value=1,\n",
    "    max_value=10000,\n",
    "    meta={\"dimension\": \"Uniqueness\"},\n",
    ")"
   ]
  },
  {
   "cell_type": "code",
   "execution_count": 13,
   "id": "199eeb219f76033f",
   "metadata": {
    "ExecuteTime": {
     "end_time": "2024-07-02T11:59:52.782231Z",
     "start_time": "2024-07-02T11:59:52.703977Z"
    }
   },
   "outputs": [
    {
     "data": {
      "application/vnd.jupyter.widget-view+json": {
       "model_id": "8df47861595f41259bb4201f6eb03ea8",
       "version_major": 2,
       "version_minor": 0
      },
      "text/plain": [
       "Calculating Metrics:   0%|          | 0/6 [00:00<?, ?it/s]"
      ]
     },
     "metadata": {},
     "output_type": "display_data"
    },
    {
     "data": {
      "application/vnd.jupyter.widget-view+json": {
       "model_id": "0779375dca8d437183449531b99ff894",
       "version_major": 2,
       "version_minor": 0
      },
      "text/plain": [
       "Calculating Metrics:   0%|          | 0/4 [00:00<?, ?it/s]"
      ]
     },
     "metadata": {},
     "output_type": "display_data"
    },
    {
     "data": {
      "text/plain": [
       "{\n",
       "  \"success\": true,\n",
       "  \"result\": {\n",
       "    \"observed_value\": 684.0\n",
       "  },\n",
       "  \"meta\": {},\n",
       "  \"exception_info\": {\n",
       "    \"raised_exception\": false,\n",
       "    \"exception_traceback\": null,\n",
       "    \"exception_message\": null\n",
       "  }\n",
       "}"
      ]
     },
     "execution_count": 13,
     "metadata": {},
     "output_type": "execute_result"
    }
   ],
   "source": [
    "# Expectations for \"CRSElapsedTime\" column\n",
    "validator.expect_column_values_to_not_be_null(\n",
    "    column=\"CRSElapsedTime\", meta={\"dimension\": \"Completeness\"}\n",
    ")\n",
    "validator.expect_column_max_to_be_between(\n",
    "    column=\"CRSElapsedTime\",\n",
    "    min_value=0,\n",
    "    max_value=8000,\n",
    "    meta={\"dimension\": \"Consistency\"},\n",
    ")"
   ]
  },
  {
   "cell_type": "code",
   "execution_count": 14,
   "id": "c274b910a19a6fe1",
   "metadata": {
    "ExecuteTime": {
     "end_time": "2024-07-02T11:59:52.829268Z",
     "start_time": "2024-07-02T11:59:52.783865Z"
    }
   },
   "outputs": [
    {
     "data": {
      "application/vnd.jupyter.widget-view+json": {
       "model_id": "8f22e51e35ab45449359386ad98a3702",
       "version_major": 2,
       "version_minor": 0
      },
      "text/plain": [
       "Calculating Metrics:   0%|          | 0/4 [00:00<?, ?it/s]"
      ]
     },
     "metadata": {},
     "output_type": "display_data"
    },
    {
     "data": {
      "text/plain": [
       "{\n",
       "  \"success\": true,\n",
       "  \"result\": {\n",
       "    \"observed_value\": 2556.0\n",
       "  },\n",
       "  \"meta\": {},\n",
       "  \"exception_info\": {\n",
       "    \"raised_exception\": false,\n",
       "    \"exception_traceback\": null,\n",
       "    \"exception_message\": null\n",
       "  }\n",
       "}"
      ]
     },
     "execution_count": 14,
     "metadata": {},
     "output_type": "execute_result"
    }
   ],
   "source": [
    "# Expectations for \"DepDelay\" column\n",
    "validator.expect_column_max_to_be_between(\n",
    "    column=\"DepDelay\",\n",
    "    min_value=-1000,\n",
    "    max_value=10000,\n",
    "    meta={\"dimension\": \"Consistency\"},\n",
    ")"
   ]
  },
  {
   "cell_type": "code",
   "execution_count": 15,
   "id": "67f9328e77b8fa82",
   "metadata": {
    "ExecuteTime": {
     "end_time": "2024-07-02T11:59:52.861757Z",
     "start_time": "2024-07-02T11:59:52.831496Z"
    }
   },
   "outputs": [
    {
     "data": {
      "application/vnd.jupyter.widget-view+json": {
       "model_id": "f8bfa9137a9f40b3830195636051d38d",
       "version_major": 2,
       "version_minor": 0
      },
      "text/plain": [
       "Calculating Metrics:   0%|          | 0/4 [00:00<?, ?it/s]"
      ]
     },
     "metadata": {},
     "output_type": "display_data"
    },
    {
     "data": {
      "text/plain": [
       "{\n",
       "  \"success\": true,\n",
       "  \"result\": {\n",
       "    \"observed_value\": 706.0\n",
       "  },\n",
       "  \"meta\": {},\n",
       "  \"exception_info\": {\n",
       "    \"raised_exception\": false,\n",
       "    \"exception_traceback\": null,\n",
       "    \"exception_message\": null\n",
       "  }\n",
       "}"
      ]
     },
     "execution_count": 15,
     "metadata": {},
     "output_type": "execute_result"
    }
   ],
   "source": [
    "# Expectations for \"ActualElapsedTime\" column\n",
    "validator.expect_column_max_to_be_between(\n",
    "    column=\"ActualElapsedTime\",\n",
    "    min_value=0,\n",
    "    max_value=8000,\n",
    "    meta={\"dimension\": \"Consistency\"},\n",
    ")"
   ]
  },
  {
   "cell_type": "code",
   "execution_count": 16,
   "id": "32926a7c3d8ff51c",
   "metadata": {
    "ExecuteTime": {
     "end_time": "2024-07-02T11:59:53.353780Z",
     "start_time": "2024-07-02T11:59:52.862731Z"
    }
   },
   "outputs": [
    {
     "data": {
      "application/vnd.jupyter.widget-view+json": {
       "model_id": "4ad2778eec7f4fee831ddf8d275d906b",
       "version_major": 2,
       "version_minor": 0
      },
      "text/plain": [
       "Calculating Metrics:   0%|          | 0/6 [00:00<?, ?it/s]"
      ]
     },
     "metadata": {},
     "output_type": "display_data"
    },
    {
     "data": {
      "application/vnd.jupyter.widget-view+json": {
       "model_id": "92bf8152d1cb43b986d3f7a3f749a243",
       "version_major": 2,
       "version_minor": 0
      },
      "text/plain": [
       "Calculating Metrics:   0%|          | 0/8 [00:00<?, ?it/s]"
      ]
     },
     "metadata": {},
     "output_type": "display_data"
    },
    {
     "data": {
      "text/plain": [
       "{\n",
       "  \"success\": true,\n",
       "  \"result\": {\n",
       "    \"element_count\": 815664,\n",
       "    \"unexpected_count\": 0,\n",
       "    \"unexpected_percent\": 0.0,\n",
       "    \"partial_unexpected_list\": [],\n",
       "    \"missing_count\": 0,\n",
       "    \"missing_percent\": 0.0,\n",
       "    \"unexpected_percent_total\": 0.0,\n",
       "    \"unexpected_percent_nonmissing\": 0.0\n",
       "  },\n",
       "  \"meta\": {},\n",
       "  \"exception_info\": {\n",
       "    \"raised_exception\": false,\n",
       "    \"exception_traceback\": null,\n",
       "    \"exception_message\": null\n",
       "  }\n",
       "}"
      ]
     },
     "execution_count": 16,
     "metadata": {},
     "output_type": "execute_result"
    }
   ],
   "source": [
    "# Expectations for \"Distance\" column\n",
    "validator.expect_column_values_to_not_be_null(\n",
    "    column=\"Distance\", meta={\"dime      nsion\": \"Completeness\"}\n",
    ")\n",
    "validator.expect_column_values_to_be_between(\n",
    "    column=\"Distance\",\n",
    "    min_value=0,\n",
    "    max_value=8000,\n",
    "    meta={\"dimension\": \"Consistency\"},\n",
    ")"
   ]
  },
  {
   "cell_type": "markdown",
   "id": "5464c8c9dc29cc13",
   "metadata": {},
   "source": [
    "Let's now save the expectations suite and checkpoint."
   ]
  },
  {
   "cell_type": "code",
   "execution_count": 17,
   "id": "53f354e782cb2aef",
   "metadata": {
    "ExecuteTime": {
     "end_time": "2024-07-02T11:59:53.410947Z",
     "start_time": "2024-07-02T11:59:53.356023Z"
    }
   },
   "outputs": [],
   "source": [
    "# Save expectations and checkpoint\n",
    "validator.save_expectation_suite(discard_failed_expectations=False)\n",
    "checkpoint = context.add_or_update_checkpoint(\n",
    "    name=\"sample_checkpoint\",\n",
    "    validator=validator,\n",
    ")"
   ]
  },
  {
   "cell_type": "markdown",
   "id": "6be97b41201fa7b4",
   "metadata": {},
   "source": [
    "Now we can run the checkpoint to test that all expectations are valid for the current sample. This checkpoint will be run for all new samples automatically later."
   ]
  },
  {
   "cell_type": "code",
   "execution_count": 18,
   "id": "13c69c33ce6579b4",
   "metadata": {
    "ExecuteTime": {
     "end_time": "2024-07-02T12:00:12.297880Z",
     "start_time": "2024-07-02T11:59:53.412922Z"
    }
   },
   "outputs": [
    {
     "data": {
      "application/vnd.jupyter.widget-view+json": {
       "model_id": "80bfef012edd4bde9d1e21e2fd5bf990",
       "version_major": 2,
       "version_minor": 0
      },
      "text/plain": [
       "Calculating Metrics:   0%|          | 0/89 [00:00<?, ?it/s]"
      ]
     },
     "metadata": {},
     "output_type": "display_data"
    },
    {
     "name": "stdout",
     "output_type": "stream",
     "text": [
      "Data quality verification passed successfully\n"
     ]
    }
   ],
   "source": [
    "checkpoint_result = checkpoint.run()\n",
    "\n",
    "# Open report in browser\n",
    "context.view_validation_result(checkpoint_result)\n",
    "\n",
    "if checkpoint_result.success:\n",
    "    print(\"Data quality verification passed successfully\")\n",
    "else:\n",
    "    print(\"Data quality verification failed\")"
   ]
  }
 ],
 "metadata": {
  "kernelspec": {
   "display_name": "Python 3",
   "language": "python",
   "name": "python3"
  },
  "language_info": {
   "codemirror_mode": {
    "name": "ipython",
    "version": 3
   },
   "file_extension": ".py",
   "mimetype": "text/x-python",
   "name": "python",
   "nbconvert_exporter": "python",
   "pygments_lexer": "ipython3",
   "version": "3.11.9"
  }
 },
 "nbformat": 4,
 "nbformat_minor": 5
}
