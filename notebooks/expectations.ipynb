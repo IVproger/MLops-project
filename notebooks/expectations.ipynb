{
 "cells": [
  {
   "cell_type": "code",
   "execution_count": 1,
   "metadata": {},
   "outputs": [],
   "source": [
    "import sys\n",
    "import os\n",
    "\n",
    "sys.path.append(os.path.abspath(os.path.join(os.getcwd(), '..')))"
   ]
  },
  {
   "cell_type": "code",
   "execution_count": 2,
   "metadata": {},
   "outputs": [],
   "source": [
    "import great_expectations as gx"
   ]
  },
  {
   "cell_type": "code",
   "execution_count": 3,
   "metadata": {},
   "outputs": [],
   "source": [
    "context = gx.get_context(project_root_dir=\"../services\", mode=\"file\")"
   ]
  },
  {
   "cell_type": "markdown",
   "metadata": {},
   "source": [
    "# Create a datastore"
   ]
  },
  {
   "cell_type": "code",
   "execution_count": 4,
   "metadata": {},
   "outputs": [
    {
     "data": {
      "text/plain": [
       "PandasDatasource(type='pandas', name='transformed_sample', id=None, assets=[])"
      ]
     },
     "execution_count": 4,
     "metadata": {},
     "output_type": "execute_result"
    }
   ],
   "source": [
    "ds = context.sources.add_or_update_pandas(name=\"transformed_sample\")\n",
    "ds"
   ]
  },
  {
   "cell_type": "markdown",
   "metadata": {},
   "source": [
    "## Load data"
   ]
  },
  {
   "cell_type": "code",
   "execution_count": null,
   "metadata": {},
   "outputs": [],
   "source": [
    "from src.data import extract_data, preprocess_data\n",
    "from src.utils import init_hydra\n",
    "\n",
    "cfg = init_hydra('main')\n",
    "df, _ = extract_data(\"v1.0\", cfg)\n",
    "X, y = preprocess_data(cfg, df)\n"
   ]
  },
  {
   "cell_type": "code",
   "execution_count": 6,
   "metadata": {},
   "outputs": [
    {
     "data": {
      "text/plain": [
       "Index(['FlightDate', 'Airline', 'Origin', 'Dest', 'Diverted', 'CRSDepTime',\n",
       "       'CRSElapsedTime', 'Distance', 'Year', 'Quarter', 'Month', 'DayofMonth',\n",
       "       'DayOfWeek', 'Marketing_Airline_Network',\n",
       "       'Operated_or_Branded_Code_Share_Partners', 'DOT_ID_Marketing_Airline',\n",
       "       'IATA_Code_Marketing_Airline', 'Flight_Number_Marketing_Airline',\n",
       "       'Operating_Airline', 'DOT_ID_Operating_Airline',\n",
       "       'IATA_Code_Operating_Airline', 'Flight_Number_Operating_Airline',\n",
       "       'OriginAirportID', 'OriginAirportSeqID', 'OriginCityMarketID',\n",
       "       'OriginCityName', 'OriginState', 'OriginStateFips', 'OriginStateName',\n",
       "       'OriginWac', 'DestAirportID', 'DestAirportSeqID', 'DestCityMarketID',\n",
       "       'DestCityName', 'DestState', 'DestStateFips', 'DestStateName',\n",
       "       'DestWac', 'DepTimeBlk', 'CRSArrTime', 'ArrTimeBlk', 'DistanceGroup',\n",
       "       'DivAirportLandings', 'Month_sin', 'Month_cos', 'DayOfWeek_sin',\n",
       "       'DayOfWeek_cos', 'DayofMonth_sin', 'DayofMonth_cos', 'Quarter_sin',\n",
       "       'Quarter_cos', 'CRSArrTime_HH', 'CRSArrTime_MM', 'CRSArrTime_HH_sin',\n",
       "       'CRSArrTime_HH_cos', 'CRSArrTime_MM_sin', 'CRSArrTime_MM_cos',\n",
       "       'CRSDepTime_HH', 'CRSDepTime_MM', 'CRSDepTime_HH_sin',\n",
       "       'CRSDepTime_HH_cos', 'CRSDepTime_MM_sin', 'CRSDepTime_MM_cos',\n",
       "       'CRSElapsedTime_HH', 'CRSElapsedTime_MM', 'CRSElapsedTime_HH_sin',\n",
       "       'CRSElapsedTime_HH_cos', 'CRSElapsedTime_MM_sin',\n",
       "       'CRSElapsedTime_MM_cos'],\n",
       "      dtype='object')"
      ]
     },
     "execution_count": 6,
     "metadata": {},
     "output_type": "execute_result"
    }
   ],
   "source": [
    "X.columns"
   ]
  },
  {
   "cell_type": "markdown",
   "metadata": {},
   "source": [
    "## Add dataframe assets"
   ]
  },
  {
   "cell_type": "code",
   "execution_count": 7,
   "metadata": {},
   "outputs": [
    {
     "name": "stdout",
     "output_type": "stream",
     "text": [
      "\u001b[1;35mSaving 2 Fluent Datasources to /home/sv-cheats-1/Documents/PROJECTS/MLops-project/notebooks/../services/gx/great_expectations.yml\u001b[0m\n",
      "\u001b[1;35mCSVAsset.dict() - missing \u001b[0m\u001b[1;36mconfig_provider\u001b[1;35m, skipping config substitution\u001b[0m\n",
      "\u001b[1;35mPandasDatasource.dict() - missing \u001b[0m\u001b[1;36mconfig_provider\u001b[1;35m, skipping config substitution\u001b[0m\n",
      "\u001b[1;35mDataFrameAsset.dict() - missing \u001b[0m\u001b[1;36mconfig_provider\u001b[1;35m, skipping config substitution\u001b[0m\n",
      "\u001b[1;35mPandasDatasource.dict() - missing \u001b[0m\u001b[1;36mconfig_provider\u001b[1;35m, skipping config substitution\u001b[0m\n",
      "\u001b[1;35mSaving 2 Fluent Datasources to /home/sv-cheats-1/Documents/PROJECTS/MLops-project/notebooks/../services/gx/great_expectations.yml\u001b[0m\n",
      "\u001b[1;35mCSVAsset.dict() - missing \u001b[0m\u001b[1;36mconfig_provider\u001b[1;35m, skipping config substitution\u001b[0m\n",
      "\u001b[1;35mPandasDatasource.dict() - missing \u001b[0m\u001b[1;36mconfig_provider\u001b[1;35m, skipping config substitution\u001b[0m\n",
      "\u001b[1;35mDataFrameAsset.dict() - missing \u001b[0m\u001b[1;36mconfig_provider\u001b[1;35m, skipping config substitution\u001b[0m\n",
      "\u001b[1;35mDataFrameAsset.dict() - missing \u001b[0m\u001b[1;36mconfig_provider\u001b[1;35m, skipping config substitution\u001b[0m\n",
      "\u001b[1;35mPandasDatasource.dict() - missing \u001b[0m\u001b[1;36mconfig_provider\u001b[1;35m, skipping config substitution\u001b[0m\n"
     ]
    },
    {
     "data": {
      "text/plain": [
       "PandasDatasource(type='pandas', name='transformed_sample', id=None, assets=[DataFrameAsset(name='X', type='dataframe', id=None, order_by=[], batch_metadata={}), DataFrameAsset(name='y', type='dataframe', id=None, order_by=[], batch_metadata={})])"
      ]
     },
     "execution_count": 7,
     "metadata": {},
     "output_type": "execute_result"
    }
   ],
   "source": [
    "ds_X = ds.add_dataframe_asset(name=\"X\", dataframe=X)\n",
    "ds_y = ds.add_dataframe_asset(name=\"y\", dataframe=y)\n",
    "ds"
   ]
  },
  {
   "cell_type": "markdown",
   "metadata": {},
   "source": [
    "# Create a suite\n"
   ]
  },
  {
   "cell_type": "code",
   "execution_count": 8,
   "metadata": {},
   "outputs": [
    {
     "data": {
      "text/plain": [
       "{\n",
       "  \"expectation_suite_name\": \"feature_transform\",\n",
       "  \"ge_cloud_id\": null,\n",
       "  \"expectations\": [],\n",
       "  \"data_asset_type\": null,\n",
       "  \"meta\": {\n",
       "    \"great_expectations_version\": \"0.18.18\"\n",
       "  }\n",
       "}"
      ]
     },
     "execution_count": 8,
     "metadata": {},
     "output_type": "execute_result"
    }
   ],
   "source": [
    "context.add_or_update_expectation_suite(\"feature_transform\")"
   ]
  },
  {
   "cell_type": "markdown",
   "metadata": {},
   "source": [
    "# Define the validator"
   ]
  },
  {
   "cell_type": "code",
   "execution_count": 9,
   "metadata": {},
   "outputs": [
    {
     "data": {
      "application/vnd.jupyter.widget-view+json": {
       "model_id": "74c657872ed440999f9977b9330008b5",
       "version_major": 2,
       "version_minor": 0
      },
      "text/plain": [
       "Calculating Metrics:   0%|          | 0/2 [00:00<?, ?it/s]"
      ]
     },
     "metadata": {},
     "output_type": "display_data"
    },
    {
     "data": {
      "text/plain": [
       "['FlightDate',\n",
       " 'Airline',\n",
       " 'Origin',\n",
       " 'Dest',\n",
       " 'Diverted',\n",
       " 'CRSDepTime',\n",
       " 'CRSElapsedTime',\n",
       " 'Distance',\n",
       " 'Year',\n",
       " 'Quarter',\n",
       " 'Month',\n",
       " 'DayofMonth',\n",
       " 'DayOfWeek',\n",
       " 'Marketing_Airline_Network',\n",
       " 'Operated_or_Branded_Code_Share_Partners',\n",
       " 'DOT_ID_Marketing_Airline',\n",
       " 'IATA_Code_Marketing_Airline',\n",
       " 'Flight_Number_Marketing_Airline',\n",
       " 'Operating_Airline',\n",
       " 'DOT_ID_Operating_Airline',\n",
       " 'IATA_Code_Operating_Airline',\n",
       " 'Flight_Number_Operating_Airline',\n",
       " 'OriginAirportID',\n",
       " 'OriginAirportSeqID',\n",
       " 'OriginCityMarketID',\n",
       " 'OriginCityName',\n",
       " 'OriginState',\n",
       " 'OriginStateFips',\n",
       " 'OriginStateName',\n",
       " 'OriginWac',\n",
       " 'DestAirportID',\n",
       " 'DestAirportSeqID',\n",
       " 'DestCityMarketID',\n",
       " 'DestCityName',\n",
       " 'DestState',\n",
       " 'DestStateFips',\n",
       " 'DestStateName',\n",
       " 'DestWac',\n",
       " 'DepTimeBlk',\n",
       " 'CRSArrTime',\n",
       " 'ArrTimeBlk',\n",
       " 'DistanceGroup',\n",
       " 'DivAirportLandings',\n",
       " 'Month_sin',\n",
       " 'Month_cos',\n",
       " 'DayOfWeek_sin',\n",
       " 'DayOfWeek_cos',\n",
       " 'DayofMonth_sin',\n",
       " 'DayofMonth_cos',\n",
       " 'Quarter_sin',\n",
       " 'Quarter_cos',\n",
       " 'CRSArrTime_HH',\n",
       " 'CRSArrTime_MM',\n",
       " 'CRSArrTime_HH_sin',\n",
       " 'CRSArrTime_HH_cos',\n",
       " 'CRSArrTime_MM_sin',\n",
       " 'CRSArrTime_MM_cos',\n",
       " 'CRSDepTime_HH',\n",
       " 'CRSDepTime_MM',\n",
       " 'CRSDepTime_HH_sin',\n",
       " 'CRSDepTime_HH_cos',\n",
       " 'CRSDepTime_MM_sin',\n",
       " 'CRSDepTime_MM_cos',\n",
       " 'CRSElapsedTime_HH',\n",
       " 'CRSElapsedTime_MM',\n",
       " 'CRSElapsedTime_HH_sin',\n",
       " 'CRSElapsedTime_HH_cos',\n",
       " 'CRSElapsedTime_MM_sin',\n",
       " 'CRSElapsedTime_MM_cos']"
      ]
     },
     "execution_count": 9,
     "metadata": {},
     "output_type": "execute_result"
    }
   ],
   "source": [
    "validator = context.get_validator(\n",
    "    batch_request=ds_X.build_batch_request(X),\n",
    "    expectation_suite_name=\"feature_transform\",\n",
    ")\n",
    "validator.columns()"
   ]
  },
  {
   "cell_type": "markdown",
   "metadata": {},
   "source": [
    "### 1. Check that no null values exist"
   ]
  },
  {
   "cell_type": "code",
   "execution_count": null,
   "metadata": {},
   "outputs": [],
   "source": [
    "for column in validator.columns():\n",
    "    validator.expect_column_values_to_not_be_null(column=column)"
   ]
  },
  {
   "cell_type": "markdown",
   "metadata": {},
   "source": [
    "### 2. Check that columns that were hashed are hashed properly"
   ]
  },
  {
   "cell_type": "code",
   "execution_count": 11,
   "metadata": {},
   "outputs": [],
   "source": [
    "from omegaconf import DictConfig, OmegaConf\n",
    "from hydra import initialize, compose\n",
    "\n",
    "\n",
    "for column in X.columns[X.dtypes == 'object']:\n",
    "    validator.expect_column_values_to_be_between(\n",
    "        column=column,\n",
    "        min_value=0,\n",
    "        max_value=999,\n",
    ")\n",
    "    \n",
    "# Adds no expectations, since it is not known what columns were hashed"
   ]
  },
  {
   "cell_type": "markdown",
   "metadata": {},
   "source": [
    "### 3. Check that datatypes are correct (everything is a number) "
   ]
  },
  {
   "cell_type": "code",
   "execution_count": null,
   "metadata": {},
   "outputs": [],
   "source": [
    "for column in validator.columns():\n",
    "    validator.expect_column_values_to_be_of_type(column=column, type_=str(X[column].dtype))"
   ]
  },
  {
   "cell_type": "markdown",
   "metadata": {},
   "source": [
    "### 4. Check that cyclic data in encoded correctly"
   ]
  },
  {
   "cell_type": "code",
   "execution_count": null,
   "metadata": {},
   "outputs": [],
   "source": [
    "for column in filter(lambda c: c.endswith('cos') or c.endswith('sin'), validator.columns()):\n",
    "    validator.expect_column_values_to_be_between(\n",
    "        column=column,\n",
    "        min_value=-1,\n",
    "        max_value=1,\n",
    ")"
   ]
  },
  {
   "cell_type": "code",
   "execution_count": 14,
   "metadata": {},
   "outputs": [
    {
     "name": "stdout",
     "output_type": "stream",
     "text": [
      "Total number of expectations: 158\n"
     ]
    }
   ],
   "source": [
    "print(\"Total number of expectations:\", len(validator.expectation_suite.expectations))"
   ]
  },
  {
   "cell_type": "code",
   "execution_count": 15,
   "metadata": {},
   "outputs": [
    {
     "name": "stdout",
     "output_type": "stream",
     "text": [
      "\u001b[1;35m\t158 expectation(s) included in expectation_suite.\u001b[0m\n"
     ]
    }
   ],
   "source": [
    "# Save expectations and checkpoint\n",
    "validator.save_expectation_suite(discard_failed_expectations=False)\n",
    "checkpoint = context.add_or_update_checkpoint(\n",
    "    name=\"transformations_checkpoint\",\n",
    "    validator=validator,\n",
    ")"
   ]
  },
  {
   "cell_type": "code",
   "execution_count": 16,
   "metadata": {},
   "outputs": [
    {
     "name": "stdout",
     "output_type": "stream",
     "text": [
      "\u001b[1;35m\t158 expectation(s) included in expectation_suite.\u001b[0m\n"
     ]
    },
    {
     "data": {
      "application/vnd.jupyter.widget-view+json": {
       "model_id": "cd799678ecbf45d5adff7c4b1708ff04",
       "version_major": 2,
       "version_minor": 0
      },
      "text/plain": [
       "Calculating Metrics:   0%|          | 0/448 [00:00<?, ?it/s]"
      ]
     },
     "metadata": {},
     "output_type": "display_data"
    },
    {
     "name": "stdout",
     "output_type": "stream",
     "text": [
      "Data quality verification passed successfully\n"
     ]
    }
   ],
   "source": [
    "checkpoint_result = checkpoint.run()\n",
    "\n",
    "# Open report in browser\n",
    "context.view_validation_result(checkpoint_result)\n",
    "\n",
    "if checkpoint_result.success:\n",
    "    print(\"Data quality verification passed successfully\")\n",
    "else:\n",
    "    print(\"Data quality verification failed\")"
   ]
  }
 ],
 "metadata": {
  "kernelspec": {
   "display_name": ".venv",
   "language": "python",
   "name": "python3"
  },
  "language_info": {
   "codemirror_mode": {
    "name": "ipython",
    "version": 3
   },
   "file_extension": ".py",
   "mimetype": "text/x-python",
   "name": "python",
   "nbconvert_exporter": "python",
   "pygments_lexer": "ipython3",
   "version": "3.11.9"
  }
 },
 "nbformat": 4,
 "nbformat_minor": 2
}
