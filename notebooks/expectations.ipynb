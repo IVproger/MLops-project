{
 "cells": [
  {
   "cell_type": "code",
   "execution_count": 1,
   "metadata": {},
   "outputs": [],
   "source": [
    "import sys\n",
    "import os\n",
    "\n",
    "sys.path.append(os.path.abspath(os.path.join(os.getcwd(), '..')))"
   ]
  },
  {
   "cell_type": "code",
   "execution_count": 2,
   "metadata": {},
   "outputs": [],
   "source": [
    "import great_expectations as gx"
   ]
  },
  {
   "cell_type": "code",
   "execution_count": 3,
   "metadata": {},
   "outputs": [],
   "source": [
    "context = gx.get_context(project_root_dir=\"../services\", mode=\"file\")"
   ]
  },
  {
   "cell_type": "markdown",
   "metadata": {},
   "source": [
    "# Create a datastore"
   ]
  },
  {
   "cell_type": "code",
   "execution_count": 4,
   "metadata": {},
   "outputs": [
    {
     "data": {
      "text/plain": [
       "PandasDatasource(type='pandas', name='transformed_sample', id=None, assets=[])"
      ]
     },
     "execution_count": 4,
     "metadata": {},
     "output_type": "execute_result"
    }
   ],
   "source": [
    "ds = context.sources.add_or_update_pandas(name=\"transformed_sample\")\n",
    "ds"
   ]
  },
  {
   "cell_type": "markdown",
   "metadata": {},
   "source": [
    "## Load data"
   ]
  },
  {
   "cell_type": "code",
   "execution_count": 5,
   "metadata": {},
   "outputs": [
    {
     "name": "stdout",
     "output_type": "stream",
     "text": [
      "\u001b[33m/home/sv-cheats-1/Documents/PROJECTS/MLops-project/.venv/lib/python3.11/site-packages/passlib/utils/__init__.py:854: DeprecationWarning: 'crypt' is deprecated and slated for removal in Python 3.13\n",
      "  from crypt import crypt as _crypt\n",
      "\u001b[0m\n"
     ]
    }
   ],
   "source": [
    "from src.data import extract_data, preprocess_data\n",
    "from src.utils import init_hydra\n",
    "\n",
    "cfg = init_hydra('main')\n",
    "df, _ = extract_data(\"v1.0\", cfg)\n",
    "X, y = preprocess_data(cfg, df)\n"
   ]
  },
  {
   "cell_type": "code",
   "execution_count": 6,
   "metadata": {},
   "outputs": [
    {
     "data": {
      "text/plain": [
       "Index(['Airline', 'Origin', 'Dest', 'CRSDepTime', 'CRSElapsedTime', 'Distance',\n",
       "       'Quarter', 'Month', 'DayofMonth', 'DayOfWeek',\n",
       "       'Marketing_Airline_Network', 'Operated_or_Branded_Code_Share_Partners',\n",
       "       'IATA_Code_Marketing_Airline', 'Operating_Airline',\n",
       "       'IATA_Code_Operating_Airline', 'OriginStateFips', 'OriginWac',\n",
       "       'DestStateFips', 'DestWac', 'CRSArrTime', 'Quarter_sin', 'Quarter_cos',\n",
       "       'Month_sin', 'Month_cos', 'DayofMonth_sin', 'DayofMonth_cos',\n",
       "       'DayOfWeek_sin', 'DayOfWeek_cos', 'CRSArrTime_HH', 'CRSArrTime_MM',\n",
       "       'CRSArrTime_HH_sin', 'CRSArrTime_HH_cos', 'CRSArrTime_MM_sin',\n",
       "       'CRSArrTime_MM_cos', 'CRSDepTime_HH', 'CRSDepTime_MM',\n",
       "       'CRSDepTime_HH_sin', 'CRSDepTime_HH_cos', 'CRSDepTime_MM_sin',\n",
       "       'CRSDepTime_MM_cos', 'CRSElapsedTime_HH', 'CRSElapsedTime_MM',\n",
       "       'CRSElapsedTime_HH_sin', 'CRSElapsedTime_HH_cos',\n",
       "       'CRSElapsedTime_MM_sin', 'CRSElapsedTime_MM_cos'],\n",
       "      dtype='object')"
      ]
     },
     "execution_count": 6,
     "metadata": {},
     "output_type": "execute_result"
    }
   ],
   "source": [
    "X.columns"
   ]
  },
  {
   "cell_type": "markdown",
   "metadata": {},
   "source": [
    "## Add dataframe assets"
   ]
  },
  {
   "cell_type": "code",
   "execution_count": 7,
   "metadata": {},
   "outputs": [
    {
     "name": "stdout",
     "output_type": "stream",
     "text": [
      "\u001b[1;35mSaving 2 Fluent Datasources to /home/sv-cheats-1/Documents/PROJECTS/MLops-project/notebooks/../services/gx/great_expectations.yml\u001b[0m\n",
      "\u001b[1;35mCSVAsset.dict() - missing \u001b[0m\u001b[1;36mconfig_provider\u001b[1;35m, skipping config substitution\u001b[0m\n",
      "\u001b[1;35mPandasDatasource.dict() - missing \u001b[0m\u001b[1;36mconfig_provider\u001b[1;35m, skipping config substitution\u001b[0m\n",
      "\u001b[1;35mDataFrameAsset.dict() - missing \u001b[0m\u001b[1;36mconfig_provider\u001b[1;35m, skipping config substitution\u001b[0m\n",
      "\u001b[1;35mPandasDatasource.dict() - missing \u001b[0m\u001b[1;36mconfig_provider\u001b[1;35m, skipping config substitution\u001b[0m\n",
      "\u001b[1;35mSaving 2 Fluent Datasources to /home/sv-cheats-1/Documents/PROJECTS/MLops-project/notebooks/../services/gx/great_expectations.yml\u001b[0m\n",
      "\u001b[1;35mCSVAsset.dict() - missing \u001b[0m\u001b[1;36mconfig_provider\u001b[1;35m, skipping config substitution\u001b[0m\n",
      "\u001b[1;35mPandasDatasource.dict() - missing \u001b[0m\u001b[1;36mconfig_provider\u001b[1;35m, skipping config substitution\u001b[0m\n",
      "\u001b[1;35mDataFrameAsset.dict() - missing \u001b[0m\u001b[1;36mconfig_provider\u001b[1;35m, skipping config substitution\u001b[0m\n",
      "\u001b[1;35mDataFrameAsset.dict() - missing \u001b[0m\u001b[1;36mconfig_provider\u001b[1;35m, skipping config substitution\u001b[0m\n",
      "\u001b[1;35mPandasDatasource.dict() - missing \u001b[0m\u001b[1;36mconfig_provider\u001b[1;35m, skipping config substitution\u001b[0m\n"
     ]
    },
    {
     "data": {
      "text/plain": [
       "PandasDatasource(type='pandas', name='transformed_sample', id=None, assets=[DataFrameAsset(name='X', type='dataframe', id=None, order_by=[], batch_metadata={}), DataFrameAsset(name='y', type='dataframe', id=None, order_by=[], batch_metadata={})])"
      ]
     },
     "execution_count": 7,
     "metadata": {},
     "output_type": "execute_result"
    }
   ],
   "source": [
    "ds_X = ds.add_dataframe_asset(name=\"X\", dataframe=X)\n",
    "ds_y = ds.add_dataframe_asset(name=\"y\", dataframe=y)\n",
    "ds"
   ]
  },
  {
   "cell_type": "markdown",
   "metadata": {},
   "source": [
    "# Create a suite\n"
   ]
  },
  {
   "cell_type": "code",
   "execution_count": 8,
   "metadata": {},
   "outputs": [
    {
     "data": {
      "text/plain": [
       "{\n",
       "  \"expectation_suite_name\": \"feature_transform\",\n",
       "  \"ge_cloud_id\": null,\n",
       "  \"expectations\": [],\n",
       "  \"data_asset_type\": null,\n",
       "  \"meta\": {\n",
       "    \"great_expectations_version\": \"0.18.18\"\n",
       "  }\n",
       "}"
      ]
     },
     "execution_count": 8,
     "metadata": {},
     "output_type": "execute_result"
    }
   ],
   "source": [
    "context.add_or_update_expectation_suite(\"feature_transform\")"
   ]
  },
  {
   "cell_type": "markdown",
   "metadata": {},
   "source": [
    "# Define the validator"
   ]
  },
  {
   "cell_type": "code",
   "execution_count": 9,
   "metadata": {},
   "outputs": [
    {
     "data": {
      "application/vnd.jupyter.widget-view+json": {
       "model_id": "9709e326578d4697bae2eaad3fd3c1eb",
       "version_major": 2,
       "version_minor": 0
      },
      "text/plain": [
       "Calculating Metrics:   0%|          | 0/2 [00:00<?, ?it/s]"
      ]
     },
     "metadata": {},
     "output_type": "display_data"
    },
    {
     "data": {
      "text/plain": [
       "['Airline',\n",
       " 'Origin',\n",
       " 'Dest',\n",
       " 'CRSDepTime',\n",
       " 'CRSElapsedTime',\n",
       " 'Distance',\n",
       " 'Quarter',\n",
       " 'Month',\n",
       " 'DayofMonth',\n",
       " 'DayOfWeek',\n",
       " 'Marketing_Airline_Network',\n",
       " 'Operated_or_Branded_Code_Share_Partners',\n",
       " 'IATA_Code_Marketing_Airline',\n",
       " 'Operating_Airline',\n",
       " 'IATA_Code_Operating_Airline',\n",
       " 'OriginStateFips',\n",
       " 'OriginWac',\n",
       " 'DestStateFips',\n",
       " 'DestWac',\n",
       " 'CRSArrTime',\n",
       " 'Quarter_sin',\n",
       " 'Quarter_cos',\n",
       " 'Month_sin',\n",
       " 'Month_cos',\n",
       " 'DayofMonth_sin',\n",
       " 'DayofMonth_cos',\n",
       " 'DayOfWeek_sin',\n",
       " 'DayOfWeek_cos',\n",
       " 'CRSArrTime_HH',\n",
       " 'CRSArrTime_MM',\n",
       " 'CRSArrTime_HH_sin',\n",
       " 'CRSArrTime_HH_cos',\n",
       " 'CRSArrTime_MM_sin',\n",
       " 'CRSArrTime_MM_cos',\n",
       " 'CRSDepTime_HH',\n",
       " 'CRSDepTime_MM',\n",
       " 'CRSDepTime_HH_sin',\n",
       " 'CRSDepTime_HH_cos',\n",
       " 'CRSDepTime_MM_sin',\n",
       " 'CRSDepTime_MM_cos',\n",
       " 'CRSElapsedTime_HH',\n",
       " 'CRSElapsedTime_MM',\n",
       " 'CRSElapsedTime_HH_sin',\n",
       " 'CRSElapsedTime_HH_cos',\n",
       " 'CRSElapsedTime_MM_sin',\n",
       " 'CRSElapsedTime_MM_cos']"
      ]
     },
     "execution_count": 9,
     "metadata": {},
     "output_type": "execute_result"
    }
   ],
   "source": [
    "validator = context.get_validator(\n",
    "    batch_request=ds_X.build_batch_request(X),\n",
    "    expectation_suite_name=\"feature_transform\",\n",
    ")\n",
    "validator.columns()"
   ]
  },
  {
   "cell_type": "markdown",
   "metadata": {},
   "source": [
    "### 1. Check that no null values exist"
   ]
  },
  {
   "cell_type": "code",
   "execution_count": 10,
   "metadata": {},
   "outputs": [
    {
     "data": {
      "application/vnd.jupyter.widget-view+json": {
       "model_id": "ad0107c2a0444d9e8bfb66da9626dfa7",
       "version_major": 2,
       "version_minor": 0
      },
      "text/plain": [
       "Calculating Metrics:   0%|          | 0/2 [00:00<?, ?it/s]"
      ]
     },
     "metadata": {},
     "output_type": "display_data"
    },
    {
     "name": "stdout",
     "output_type": "stream",
     "text": [
      "\u001b[33m/home/sv-cheats-1/Documents/PROJECTS/MLops-project/.venv/lib/python3.11/site-packages/great_expectations/expectations/expectation.py:1518: UserWarning: \u001b[0m\u001b[1;36mresult_format\u001b[33m configured at the Validator-level will not be persisted. Please add the configuration to your Checkpoint config or checkpoint_run() method instead.\n",
      "  warnings.warn(\n",
      "\u001b[0m\n"
     ]
    },
    {
     "data": {
      "application/vnd.jupyter.widget-view+json": {
       "model_id": "40ff79261a1c4746ae9fd5b390fbd78a",
       "version_major": 2,
       "version_minor": 0
      },
      "text/plain": [
       "Calculating Metrics:   0%|          | 0/6 [00:00<?, ?it/s]"
      ]
     },
     "metadata": {},
     "output_type": "display_data"
    },
    {
     "name": "stdout",
     "output_type": "stream",
     "text": [
      "\u001b[33m/home/sv-cheats-1/Documents/PROJECTS/MLops-project/.venv/lib/python3.11/site-packages/great_expectations/expectations/expectation.py:1518: UserWarning: \u001b[0m\u001b[1;36mresult_format\u001b[33m configured at the Validator-level will not be persisted. Please add the configuration to your Checkpoint config or checkpoint_run() method instead.\n",
      "  warnings.warn(\n",
      "\u001b[0m\n"
     ]
    },
    {
     "data": {
      "application/vnd.jupyter.widget-view+json": {
       "model_id": "730eb29193454238b38845f7f921f384",
       "version_major": 2,
       "version_minor": 0
      },
      "text/plain": [
       "Calculating Metrics:   0%|          | 0/6 [00:00<?, ?it/s]"
      ]
     },
     "metadata": {},
     "output_type": "display_data"
    },
    {
     "name": "stdout",
     "output_type": "stream",
     "text": [
      "\u001b[33m/home/sv-cheats-1/Documents/PROJECTS/MLops-project/.venv/lib/python3.11/site-packages/great_expectations/expectations/expectation.py:1518: UserWarning: \u001b[0m\u001b[1;36mresult_format\u001b[33m configured at the Validator-level will not be persisted. Please add the configuration to your Checkpoint config or checkpoint_run() method instead.\n",
      "  warnings.warn(\n",
      "\u001b[0m\n"
     ]
    },
    {
     "data": {
      "application/vnd.jupyter.widget-view+json": {
       "model_id": "704585f05f3d49bf8b5cd0eef1e99840",
       "version_major": 2,
       "version_minor": 0
      },
      "text/plain": [
       "Calculating Metrics:   0%|          | 0/6 [00:00<?, ?it/s]"
      ]
     },
     "metadata": {},
     "output_type": "display_data"
    },
    {
     "name": "stdout",
     "output_type": "stream",
     "text": [
      "\u001b[33m/home/sv-cheats-1/Documents/PROJECTS/MLops-project/.venv/lib/python3.11/site-packages/great_expectations/expectations/expectation.py:1518: UserWarning: \u001b[0m\u001b[1;36mresult_format\u001b[33m configured at the Validator-level will not be persisted. Please add the configuration to your Checkpoint config or checkpoint_run() method instead.\n",
      "  warnings.warn(\n",
      "\u001b[0m\n"
     ]
    },
    {
     "data": {
      "application/vnd.jupyter.widget-view+json": {
       "model_id": "aa62c65635db4909bd58674067acbac1",
       "version_major": 2,
       "version_minor": 0
      },
      "text/plain": [
       "Calculating Metrics:   0%|          | 0/6 [00:00<?, ?it/s]"
      ]
     },
     "metadata": {},
     "output_type": "display_data"
    },
    {
     "name": "stdout",
     "output_type": "stream",
     "text": [
      "\u001b[33m/home/sv-cheats-1/Documents/PROJECTS/MLops-project/.venv/lib/python3.11/site-packages/great_expectations/expectations/expectation.py:1518: UserWarning: \u001b[0m\u001b[1;36mresult_format\u001b[33m configured at the Validator-level will not be persisted. Please add the configuration to your Checkpoint config or checkpoint_run() method instead.\n",
      "  warnings.warn(\n",
      "\u001b[0m\n"
     ]
    },
    {
     "data": {
      "application/vnd.jupyter.widget-view+json": {
       "model_id": "399c63fa669d493ba7ee26f9a84bcda3",
       "version_major": 2,
       "version_minor": 0
      },
      "text/plain": [
       "Calculating Metrics:   0%|          | 0/6 [00:00<?, ?it/s]"
      ]
     },
     "metadata": {},
     "output_type": "display_data"
    },
    {
     "name": "stdout",
     "output_type": "stream",
     "text": [
      "\u001b[33m/home/sv-cheats-1/Documents/PROJECTS/MLops-project/.venv/lib/python3.11/site-packages/great_expectations/expectations/expectation.py:1518: UserWarning: \u001b[0m\u001b[1;36mresult_format\u001b[33m configured at the Validator-level will not be persisted. Please add the configuration to your Checkpoint config or checkpoint_run() method instead.\n",
      "  warnings.warn(\n",
      "\u001b[0m\n"
     ]
    },
    {
     "data": {
      "application/vnd.jupyter.widget-view+json": {
       "model_id": "9a043ebd66e64c4c95ca4a1bb49f2ae6",
       "version_major": 2,
       "version_minor": 0
      },
      "text/plain": [
       "Calculating Metrics:   0%|          | 0/6 [00:00<?, ?it/s]"
      ]
     },
     "metadata": {},
     "output_type": "display_data"
    },
    {
     "name": "stdout",
     "output_type": "stream",
     "text": [
      "\u001b[33m/home/sv-cheats-1/Documents/PROJECTS/MLops-project/.venv/lib/python3.11/site-packages/great_expectations/expectations/expectation.py:1518: UserWarning: \u001b[0m\u001b[1;36mresult_format\u001b[33m configured at the Validator-level will not be persisted. Please add the configuration to your Checkpoint config or checkpoint_run() method instead.\n",
      "  warnings.warn(\n",
      "\u001b[0m\n"
     ]
    },
    {
     "data": {
      "application/vnd.jupyter.widget-view+json": {
       "model_id": "21a8fd7a52b6464c82b961740f0526d3",
       "version_major": 2,
       "version_minor": 0
      },
      "text/plain": [
       "Calculating Metrics:   0%|          | 0/6 [00:00<?, ?it/s]"
      ]
     },
     "metadata": {},
     "output_type": "display_data"
    },
    {
     "name": "stdout",
     "output_type": "stream",
     "text": [
      "\u001b[33m/home/sv-cheats-1/Documents/PROJECTS/MLops-project/.venv/lib/python3.11/site-packages/great_expectations/expectations/expectation.py:1518: UserWarning: \u001b[0m\u001b[1;36mresult_format\u001b[33m configured at the Validator-level will not be persisted. Please add the configuration to your Checkpoint config or checkpoint_run() method instead.\n",
      "  warnings.warn(\n",
      "\u001b[0m\n"
     ]
    },
    {
     "data": {
      "application/vnd.jupyter.widget-view+json": {
       "model_id": "7347556d6ff34e2e8c948bbe0ba205d4",
       "version_major": 2,
       "version_minor": 0
      },
      "text/plain": [
       "Calculating Metrics:   0%|          | 0/6 [00:00<?, ?it/s]"
      ]
     },
     "metadata": {},
     "output_type": "display_data"
    },
    {
     "name": "stdout",
     "output_type": "stream",
     "text": [
      "\u001b[33m/home/sv-cheats-1/Documents/PROJECTS/MLops-project/.venv/lib/python3.11/site-packages/great_expectations/expectations/expectation.py:1518: UserWarning: \u001b[0m\u001b[1;36mresult_format\u001b[33m configured at the Validator-level will not be persisted. Please add the configuration to your Checkpoint config or checkpoint_run() method instead.\n",
      "  warnings.warn(\n",
      "\u001b[0m\n"
     ]
    },
    {
     "data": {
      "application/vnd.jupyter.widget-view+json": {
       "model_id": "298ab98b727a4e299696ad55ce5914d1",
       "version_major": 2,
       "version_minor": 0
      },
      "text/plain": [
       "Calculating Metrics:   0%|          | 0/6 [00:00<?, ?it/s]"
      ]
     },
     "metadata": {},
     "output_type": "display_data"
    },
    {
     "name": "stdout",
     "output_type": "stream",
     "text": [
      "\u001b[33m/home/sv-cheats-1/Documents/PROJECTS/MLops-project/.venv/lib/python3.11/site-packages/great_expectations/expectations/expectation.py:1518: UserWarning: \u001b[0m\u001b[1;36mresult_format\u001b[33m configured at the Validator-level will not be persisted. Please add the configuration to your Checkpoint config or checkpoint_run() method instead.\n",
      "  warnings.warn(\n",
      "\u001b[0m\n"
     ]
    },
    {
     "data": {
      "application/vnd.jupyter.widget-view+json": {
       "model_id": "f2748fabc72544e59149e82cb81e141c",
       "version_major": 2,
       "version_minor": 0
      },
      "text/plain": [
       "Calculating Metrics:   0%|          | 0/6 [00:00<?, ?it/s]"
      ]
     },
     "metadata": {},
     "output_type": "display_data"
    },
    {
     "name": "stdout",
     "output_type": "stream",
     "text": [
      "\u001b[33m/home/sv-cheats-1/Documents/PROJECTS/MLops-project/.venv/lib/python3.11/site-packages/great_expectations/expectations/expectation.py:1518: UserWarning: \u001b[0m\u001b[1;36mresult_format\u001b[33m configured at the Validator-level will not be persisted. Please add the configuration to your Checkpoint config or checkpoint_run() method instead.\n",
      "  warnings.warn(\n",
      "\u001b[0m\n"
     ]
    },
    {
     "data": {
      "application/vnd.jupyter.widget-view+json": {
       "model_id": "e6d6c0436b624a8ea3b0253023f682b4",
       "version_major": 2,
       "version_minor": 0
      },
      "text/plain": [
       "Calculating Metrics:   0%|          | 0/6 [00:00<?, ?it/s]"
      ]
     },
     "metadata": {},
     "output_type": "display_data"
    },
    {
     "name": "stdout",
     "output_type": "stream",
     "text": [
      "\u001b[33m/home/sv-cheats-1/Documents/PROJECTS/MLops-project/.venv/lib/python3.11/site-packages/great_expectations/expectations/expectation.py:1518: UserWarning: \u001b[0m\u001b[1;36mresult_format\u001b[33m configured at the Validator-level will not be persisted. Please add the configuration to your Checkpoint config or checkpoint_run() method instead.\n",
      "  warnings.warn(\n",
      "\u001b[0m\n"
     ]
    },
    {
     "data": {
      "application/vnd.jupyter.widget-view+json": {
       "model_id": "91ceb9e7e4bf4d7fa4ce2fb712f83feb",
       "version_major": 2,
       "version_minor": 0
      },
      "text/plain": [
       "Calculating Metrics:   0%|          | 0/6 [00:00<?, ?it/s]"
      ]
     },
     "metadata": {},
     "output_type": "display_data"
    },
    {
     "name": "stdout",
     "output_type": "stream",
     "text": [
      "\u001b[33m/home/sv-cheats-1/Documents/PROJECTS/MLops-project/.venv/lib/python3.11/site-packages/great_expectations/expectations/expectation.py:1518: UserWarning: \u001b[0m\u001b[1;36mresult_format\u001b[33m configured at the Validator-level will not be persisted. Please add the configuration to your Checkpoint config or checkpoint_run() method instead.\n",
      "  warnings.warn(\n",
      "\u001b[0m\n"
     ]
    },
    {
     "data": {
      "application/vnd.jupyter.widget-view+json": {
       "model_id": "482fea8be944463d85696b87d4c7cc0c",
       "version_major": 2,
       "version_minor": 0
      },
      "text/plain": [
       "Calculating Metrics:   0%|          | 0/6 [00:00<?, ?it/s]"
      ]
     },
     "metadata": {},
     "output_type": "display_data"
    },
    {
     "name": "stdout",
     "output_type": "stream",
     "text": [
      "\u001b[33m/home/sv-cheats-1/Documents/PROJECTS/MLops-project/.venv/lib/python3.11/site-packages/great_expectations/expectations/expectation.py:1518: UserWarning: \u001b[0m\u001b[1;36mresult_format\u001b[33m configured at the Validator-level will not be persisted. Please add the configuration to your Checkpoint config or checkpoint_run() method instead.\n",
      "  warnings.warn(\n",
      "\u001b[0m\n"
     ]
    },
    {
     "data": {
      "application/vnd.jupyter.widget-view+json": {
       "model_id": "df961fe4dec34a23b0e4e13a2e0f3d4a",
       "version_major": 2,
       "version_minor": 0
      },
      "text/plain": [
       "Calculating Metrics:   0%|          | 0/6 [00:00<?, ?it/s]"
      ]
     },
     "metadata": {},
     "output_type": "display_data"
    },
    {
     "name": "stdout",
     "output_type": "stream",
     "text": [
      "\u001b[33m/home/sv-cheats-1/Documents/PROJECTS/MLops-project/.venv/lib/python3.11/site-packages/great_expectations/expectations/expectation.py:1518: UserWarning: \u001b[0m\u001b[1;36mresult_format\u001b[33m configured at the Validator-level will not be persisted. Please add the configuration to your Checkpoint config or checkpoint_run() method instead.\n",
      "  warnings.warn(\n",
      "\u001b[0m\n"
     ]
    },
    {
     "data": {
      "application/vnd.jupyter.widget-view+json": {
       "model_id": "45dac3c2b48445c4835e642594e0efdd",
       "version_major": 2,
       "version_minor": 0
      },
      "text/plain": [
       "Calculating Metrics:   0%|          | 0/6 [00:00<?, ?it/s]"
      ]
     },
     "metadata": {},
     "output_type": "display_data"
    },
    {
     "name": "stdout",
     "output_type": "stream",
     "text": [
      "\u001b[33m/home/sv-cheats-1/Documents/PROJECTS/MLops-project/.venv/lib/python3.11/site-packages/great_expectations/expectations/expectation.py:1518: UserWarning: \u001b[0m\u001b[1;36mresult_format\u001b[33m configured at the Validator-level will not be persisted. Please add the configuration to your Checkpoint config or checkpoint_run() method instead.\n",
      "  warnings.warn(\n",
      "\u001b[0m\n"
     ]
    },
    {
     "data": {
      "application/vnd.jupyter.widget-view+json": {
       "model_id": "034f61f7486a4ca2afc0921fade675ab",
       "version_major": 2,
       "version_minor": 0
      },
      "text/plain": [
       "Calculating Metrics:   0%|          | 0/6 [00:00<?, ?it/s]"
      ]
     },
     "metadata": {},
     "output_type": "display_data"
    },
    {
     "name": "stdout",
     "output_type": "stream",
     "text": [
      "\u001b[33m/home/sv-cheats-1/Documents/PROJECTS/MLops-project/.venv/lib/python3.11/site-packages/great_expectations/expectations/expectation.py:1518: UserWarning: \u001b[0m\u001b[1;36mresult_format\u001b[33m configured at the Validator-level will not be persisted. Please add the configuration to your Checkpoint config or checkpoint_run() method instead.\n",
      "  warnings.warn(\n",
      "\u001b[0m\n"
     ]
    },
    {
     "data": {
      "application/vnd.jupyter.widget-view+json": {
       "model_id": "f81142fffd0345d3a2fc2f9f4892713b",
       "version_major": 2,
       "version_minor": 0
      },
      "text/plain": [
       "Calculating Metrics:   0%|          | 0/6 [00:00<?, ?it/s]"
      ]
     },
     "metadata": {},
     "output_type": "display_data"
    },
    {
     "name": "stdout",
     "output_type": "stream",
     "text": [
      "\u001b[33m/home/sv-cheats-1/Documents/PROJECTS/MLops-project/.venv/lib/python3.11/site-packages/great_expectations/expectations/expectation.py:1518: UserWarning: \u001b[0m\u001b[1;36mresult_format\u001b[33m configured at the Validator-level will not be persisted. Please add the configuration to your Checkpoint config or checkpoint_run() method instead.\n",
      "  warnings.warn(\n",
      "\u001b[0m\n"
     ]
    },
    {
     "data": {
      "application/vnd.jupyter.widget-view+json": {
       "model_id": "13b38b358afa45fab42b3e57637dd72d",
       "version_major": 2,
       "version_minor": 0
      },
      "text/plain": [
       "Calculating Metrics:   0%|          | 0/6 [00:00<?, ?it/s]"
      ]
     },
     "metadata": {},
     "output_type": "display_data"
    },
    {
     "name": "stdout",
     "output_type": "stream",
     "text": [
      "\u001b[33m/home/sv-cheats-1/Documents/PROJECTS/MLops-project/.venv/lib/python3.11/site-packages/great_expectations/expectations/expectation.py:1518: UserWarning: \u001b[0m\u001b[1;36mresult_format\u001b[33m configured at the Validator-level will not be persisted. Please add the configuration to your Checkpoint config or checkpoint_run() method instead.\n",
      "  warnings.warn(\n",
      "\u001b[0m\n"
     ]
    },
    {
     "data": {
      "application/vnd.jupyter.widget-view+json": {
       "model_id": "270dc39092e540d59c93456dab2e9fab",
       "version_major": 2,
       "version_minor": 0
      },
      "text/plain": [
       "Calculating Metrics:   0%|          | 0/6 [00:00<?, ?it/s]"
      ]
     },
     "metadata": {},
     "output_type": "display_data"
    },
    {
     "name": "stdout",
     "output_type": "stream",
     "text": [
      "\u001b[33m/home/sv-cheats-1/Documents/PROJECTS/MLops-project/.venv/lib/python3.11/site-packages/great_expectations/expectations/expectation.py:1518: UserWarning: \u001b[0m\u001b[1;36mresult_format\u001b[33m configured at the Validator-level will not be persisted. Please add the configuration to your Checkpoint config or checkpoint_run() method instead.\n",
      "  warnings.warn(\n",
      "\u001b[0m\n"
     ]
    },
    {
     "data": {
      "application/vnd.jupyter.widget-view+json": {
       "model_id": "b58231e011274a7bbc6562a3071d6155",
       "version_major": 2,
       "version_minor": 0
      },
      "text/plain": [
       "Calculating Metrics:   0%|          | 0/6 [00:00<?, ?it/s]"
      ]
     },
     "metadata": {},
     "output_type": "display_data"
    },
    {
     "name": "stdout",
     "output_type": "stream",
     "text": [
      "\u001b[33m/home/sv-cheats-1/Documents/PROJECTS/MLops-project/.venv/lib/python3.11/site-packages/great_expectations/expectations/expectation.py:1518: UserWarning: \u001b[0m\u001b[1;36mresult_format\u001b[33m configured at the Validator-level will not be persisted. Please add the configuration to your Checkpoint config or checkpoint_run() method instead.\n",
      "  warnings.warn(\n",
      "\u001b[0m\n"
     ]
    },
    {
     "data": {
      "application/vnd.jupyter.widget-view+json": {
       "model_id": "fd83702751c44805a2f9e30a3c3435fb",
       "version_major": 2,
       "version_minor": 0
      },
      "text/plain": [
       "Calculating Metrics:   0%|          | 0/6 [00:00<?, ?it/s]"
      ]
     },
     "metadata": {},
     "output_type": "display_data"
    },
    {
     "name": "stdout",
     "output_type": "stream",
     "text": [
      "\u001b[33m/home/sv-cheats-1/Documents/PROJECTS/MLops-project/.venv/lib/python3.11/site-packages/great_expectations/expectations/expectation.py:1518: UserWarning: \u001b[0m\u001b[1;36mresult_format\u001b[33m configured at the Validator-level will not be persisted. Please add the configuration to your Checkpoint config or checkpoint_run() method instead.\n",
      "  warnings.warn(\n",
      "\u001b[0m\n"
     ]
    },
    {
     "data": {
      "application/vnd.jupyter.widget-view+json": {
       "model_id": "e132a328e86b44efb379298fd25edec5",
       "version_major": 2,
       "version_minor": 0
      },
      "text/plain": [
       "Calculating Metrics:   0%|          | 0/6 [00:00<?, ?it/s]"
      ]
     },
     "metadata": {},
     "output_type": "display_data"
    },
    {
     "name": "stdout",
     "output_type": "stream",
     "text": [
      "\u001b[33m/home/sv-cheats-1/Documents/PROJECTS/MLops-project/.venv/lib/python3.11/site-packages/great_expectations/expectations/expectation.py:1518: UserWarning: \u001b[0m\u001b[1;36mresult_format\u001b[33m configured at the Validator-level will not be persisted. Please add the configuration to your Checkpoint config or checkpoint_run() method instead.\n",
      "  warnings.warn(\n",
      "\u001b[0m\n"
     ]
    },
    {
     "data": {
      "application/vnd.jupyter.widget-view+json": {
       "model_id": "47a0d997a2e54c64ae3eb314e9886e5d",
       "version_major": 2,
       "version_minor": 0
      },
      "text/plain": [
       "Calculating Metrics:   0%|          | 0/6 [00:00<?, ?it/s]"
      ]
     },
     "metadata": {},
     "output_type": "display_data"
    },
    {
     "name": "stdout",
     "output_type": "stream",
     "text": [
      "\u001b[33m/home/sv-cheats-1/Documents/PROJECTS/MLops-project/.venv/lib/python3.11/site-packages/great_expectations/expectations/expectation.py:1518: UserWarning: \u001b[0m\u001b[1;36mresult_format\u001b[33m configured at the Validator-level will not be persisted. Please add the configuration to your Checkpoint config or checkpoint_run() method instead.\n",
      "  warnings.warn(\n",
      "\u001b[0m\n"
     ]
    },
    {
     "data": {
      "application/vnd.jupyter.widget-view+json": {
       "model_id": "10914bb8f7c04ea2aba6b3271f506d2f",
       "version_major": 2,
       "version_minor": 0
      },
      "text/plain": [
       "Calculating Metrics:   0%|          | 0/6 [00:00<?, ?it/s]"
      ]
     },
     "metadata": {},
     "output_type": "display_data"
    },
    {
     "name": "stdout",
     "output_type": "stream",
     "text": [
      "\u001b[33m/home/sv-cheats-1/Documents/PROJECTS/MLops-project/.venv/lib/python3.11/site-packages/great_expectations/expectations/expectation.py:1518: UserWarning: \u001b[0m\u001b[1;36mresult_format\u001b[33m configured at the Validator-level will not be persisted. Please add the configuration to your Checkpoint config or checkpoint_run() method instead.\n",
      "  warnings.warn(\n",
      "\u001b[0m\n"
     ]
    },
    {
     "data": {
      "application/vnd.jupyter.widget-view+json": {
       "model_id": "579f1ba3a6f145c08a6c120ab578ff33",
       "version_major": 2,
       "version_minor": 0
      },
      "text/plain": [
       "Calculating Metrics:   0%|          | 0/6 [00:00<?, ?it/s]"
      ]
     },
     "metadata": {},
     "output_type": "display_data"
    },
    {
     "name": "stdout",
     "output_type": "stream",
     "text": [
      "\u001b[33m/home/sv-cheats-1/Documents/PROJECTS/MLops-project/.venv/lib/python3.11/site-packages/great_expectations/expectations/expectation.py:1518: UserWarning: \u001b[0m\u001b[1;36mresult_format\u001b[33m configured at the Validator-level will not be persisted. Please add the configuration to your Checkpoint config or checkpoint_run() method instead.\n",
      "  warnings.warn(\n",
      "\u001b[0m\n"
     ]
    },
    {
     "data": {
      "application/vnd.jupyter.widget-view+json": {
       "model_id": "1053304165014a57afecceb16020eb62",
       "version_major": 2,
       "version_minor": 0
      },
      "text/plain": [
       "Calculating Metrics:   0%|          | 0/6 [00:00<?, ?it/s]"
      ]
     },
     "metadata": {},
     "output_type": "display_data"
    },
    {
     "name": "stdout",
     "output_type": "stream",
     "text": [
      "\u001b[33m/home/sv-cheats-1/Documents/PROJECTS/MLops-project/.venv/lib/python3.11/site-packages/great_expectations/expectations/expectation.py:1518: UserWarning: \u001b[0m\u001b[1;36mresult_format\u001b[33m configured at the Validator-level will not be persisted. Please add the configuration to your Checkpoint config or checkpoint_run() method instead.\n",
      "  warnings.warn(\n",
      "\u001b[0m\n"
     ]
    },
    {
     "data": {
      "application/vnd.jupyter.widget-view+json": {
       "model_id": "b11b5c79032e4a5d8a714ffe16e97f83",
       "version_major": 2,
       "version_minor": 0
      },
      "text/plain": [
       "Calculating Metrics:   0%|          | 0/6 [00:00<?, ?it/s]"
      ]
     },
     "metadata": {},
     "output_type": "display_data"
    },
    {
     "name": "stdout",
     "output_type": "stream",
     "text": [
      "\u001b[33m/home/sv-cheats-1/Documents/PROJECTS/MLops-project/.venv/lib/python3.11/site-packages/great_expectations/expectations/expectation.py:1518: UserWarning: \u001b[0m\u001b[1;36mresult_format\u001b[33m configured at the Validator-level will not be persisted. Please add the configuration to your Checkpoint config or checkpoint_run() method instead.\n",
      "  warnings.warn(\n",
      "\u001b[0m\n"
     ]
    },
    {
     "data": {
      "application/vnd.jupyter.widget-view+json": {
       "model_id": "11b4316e8d2b4847938bcc512388916a",
       "version_major": 2,
       "version_minor": 0
      },
      "text/plain": [
       "Calculating Metrics:   0%|          | 0/6 [00:00<?, ?it/s]"
      ]
     },
     "metadata": {},
     "output_type": "display_data"
    },
    {
     "name": "stdout",
     "output_type": "stream",
     "text": [
      "\u001b[33m/home/sv-cheats-1/Documents/PROJECTS/MLops-project/.venv/lib/python3.11/site-packages/great_expectations/expectations/expectation.py:1518: UserWarning: \u001b[0m\u001b[1;36mresult_format\u001b[33m configured at the Validator-level will not be persisted. Please add the configuration to your Checkpoint config or checkpoint_run() method instead.\n",
      "  warnings.warn(\n",
      "\u001b[0m\n"
     ]
    },
    {
     "data": {
      "application/vnd.jupyter.widget-view+json": {
       "model_id": "b9260381f171478e86747dbecd155717",
       "version_major": 2,
       "version_minor": 0
      },
      "text/plain": [
       "Calculating Metrics:   0%|          | 0/6 [00:00<?, ?it/s]"
      ]
     },
     "metadata": {},
     "output_type": "display_data"
    },
    {
     "name": "stdout",
     "output_type": "stream",
     "text": [
      "\u001b[33m/home/sv-cheats-1/Documents/PROJECTS/MLops-project/.venv/lib/python3.11/site-packages/great_expectations/expectations/expectation.py:1518: UserWarning: \u001b[0m\u001b[1;36mresult_format\u001b[33m configured at the Validator-level will not be persisted. Please add the configuration to your Checkpoint config or checkpoint_run() method instead.\n",
      "  warnings.warn(\n",
      "\u001b[0m\n"
     ]
    },
    {
     "data": {
      "application/vnd.jupyter.widget-view+json": {
       "model_id": "498beb3d99364500b38b6d5122dd8b4a",
       "version_major": 2,
       "version_minor": 0
      },
      "text/plain": [
       "Calculating Metrics:   0%|          | 0/6 [00:00<?, ?it/s]"
      ]
     },
     "metadata": {},
     "output_type": "display_data"
    },
    {
     "name": "stdout",
     "output_type": "stream",
     "text": [
      "\u001b[33m/home/sv-cheats-1/Documents/PROJECTS/MLops-project/.venv/lib/python3.11/site-packages/great_expectations/expectations/expectation.py:1518: UserWarning: \u001b[0m\u001b[1;36mresult_format\u001b[33m configured at the Validator-level will not be persisted. Please add the configuration to your Checkpoint config or checkpoint_run() method instead.\n",
      "  warnings.warn(\n",
      "\u001b[0m\n"
     ]
    },
    {
     "data": {
      "application/vnd.jupyter.widget-view+json": {
       "model_id": "c38b72955a0f4caf99cefacf20a52550",
       "version_major": 2,
       "version_minor": 0
      },
      "text/plain": [
       "Calculating Metrics:   0%|          | 0/6 [00:00<?, ?it/s]"
      ]
     },
     "metadata": {},
     "output_type": "display_data"
    },
    {
     "name": "stdout",
     "output_type": "stream",
     "text": [
      "\u001b[33m/home/sv-cheats-1/Documents/PROJECTS/MLops-project/.venv/lib/python3.11/site-packages/great_expectations/expectations/expectation.py:1518: UserWarning: \u001b[0m\u001b[1;36mresult_format\u001b[33m configured at the Validator-level will not be persisted. Please add the configuration to your Checkpoint config or checkpoint_run() method instead.\n",
      "  warnings.warn(\n",
      "\u001b[0m\n"
     ]
    },
    {
     "data": {
      "application/vnd.jupyter.widget-view+json": {
       "model_id": "d192e7aef2ed457ca78390c766df79cd",
       "version_major": 2,
       "version_minor": 0
      },
      "text/plain": [
       "Calculating Metrics:   0%|          | 0/6 [00:00<?, ?it/s]"
      ]
     },
     "metadata": {},
     "output_type": "display_data"
    },
    {
     "name": "stdout",
     "output_type": "stream",
     "text": [
      "\u001b[33m/home/sv-cheats-1/Documents/PROJECTS/MLops-project/.venv/lib/python3.11/site-packages/great_expectations/expectations/expectation.py:1518: UserWarning: \u001b[0m\u001b[1;36mresult_format\u001b[33m configured at the Validator-level will not be persisted. Please add the configuration to your Checkpoint config or checkpoint_run() method instead.\n",
      "  warnings.warn(\n",
      "\u001b[0m\n"
     ]
    },
    {
     "data": {
      "application/vnd.jupyter.widget-view+json": {
       "model_id": "cd543bf5bdd0416b99d0e7054bccbe67",
       "version_major": 2,
       "version_minor": 0
      },
      "text/plain": [
       "Calculating Metrics:   0%|          | 0/6 [00:00<?, ?it/s]"
      ]
     },
     "metadata": {},
     "output_type": "display_data"
    },
    {
     "name": "stdout",
     "output_type": "stream",
     "text": [
      "\u001b[33m/home/sv-cheats-1/Documents/PROJECTS/MLops-project/.venv/lib/python3.11/site-packages/great_expectations/expectations/expectation.py:1518: UserWarning: \u001b[0m\u001b[1;36mresult_format\u001b[33m configured at the Validator-level will not be persisted. Please add the configuration to your Checkpoint config or checkpoint_run() method instead.\n",
      "  warnings.warn(\n",
      "\u001b[0m\n"
     ]
    },
    {
     "data": {
      "application/vnd.jupyter.widget-view+json": {
       "model_id": "036280252bf2482593b6523e4d7d8049",
       "version_major": 2,
       "version_minor": 0
      },
      "text/plain": [
       "Calculating Metrics:   0%|          | 0/6 [00:00<?, ?it/s]"
      ]
     },
     "metadata": {},
     "output_type": "display_data"
    },
    {
     "name": "stdout",
     "output_type": "stream",
     "text": [
      "\u001b[33m/home/sv-cheats-1/Documents/PROJECTS/MLops-project/.venv/lib/python3.11/site-packages/great_expectations/expectations/expectation.py:1518: UserWarning: \u001b[0m\u001b[1;36mresult_format\u001b[33m configured at the Validator-level will not be persisted. Please add the configuration to your Checkpoint config or checkpoint_run() method instead.\n",
      "  warnings.warn(\n",
      "\u001b[0m\n"
     ]
    },
    {
     "data": {
      "application/vnd.jupyter.widget-view+json": {
       "model_id": "740ada12c5bd4efa8273455be44a51b9",
       "version_major": 2,
       "version_minor": 0
      },
      "text/plain": [
       "Calculating Metrics:   0%|          | 0/6 [00:00<?, ?it/s]"
      ]
     },
     "metadata": {},
     "output_type": "display_data"
    },
    {
     "name": "stdout",
     "output_type": "stream",
     "text": [
      "\u001b[33m/home/sv-cheats-1/Documents/PROJECTS/MLops-project/.venv/lib/python3.11/site-packages/great_expectations/expectations/expectation.py:1518: UserWarning: \u001b[0m\u001b[1;36mresult_format\u001b[33m configured at the Validator-level will not be persisted. Please add the configuration to your Checkpoint config or checkpoint_run() method instead.\n",
      "  warnings.warn(\n",
      "\u001b[0m\n"
     ]
    },
    {
     "data": {
      "application/vnd.jupyter.widget-view+json": {
       "model_id": "6c8f6a17ddcf4b08834dee325e7cf037",
       "version_major": 2,
       "version_minor": 0
      },
      "text/plain": [
       "Calculating Metrics:   0%|          | 0/6 [00:00<?, ?it/s]"
      ]
     },
     "metadata": {},
     "output_type": "display_data"
    },
    {
     "name": "stdout",
     "output_type": "stream",
     "text": [
      "\u001b[33m/home/sv-cheats-1/Documents/PROJECTS/MLops-project/.venv/lib/python3.11/site-packages/great_expectations/expectations/expectation.py:1518: UserWarning: \u001b[0m\u001b[1;36mresult_format\u001b[33m configured at the Validator-level will not be persisted. Please add the configuration to your Checkpoint config or checkpoint_run() method instead.\n",
      "  warnings.warn(\n",
      "\u001b[0m\n"
     ]
    },
    {
     "data": {
      "application/vnd.jupyter.widget-view+json": {
       "model_id": "f65a3c45b3a049b789c96129afcfcb58",
       "version_major": 2,
       "version_minor": 0
      },
      "text/plain": [
       "Calculating Metrics:   0%|          | 0/6 [00:00<?, ?it/s]"
      ]
     },
     "metadata": {},
     "output_type": "display_data"
    },
    {
     "name": "stdout",
     "output_type": "stream",
     "text": [
      "\u001b[33m/home/sv-cheats-1/Documents/PROJECTS/MLops-project/.venv/lib/python3.11/site-packages/great_expectations/expectations/expectation.py:1518: UserWarning: \u001b[0m\u001b[1;36mresult_format\u001b[33m configured at the Validator-level will not be persisted. Please add the configuration to your Checkpoint config or checkpoint_run() method instead.\n",
      "  warnings.warn(\n",
      "\u001b[0m\n"
     ]
    },
    {
     "data": {
      "application/vnd.jupyter.widget-view+json": {
       "model_id": "cf8317563dd54cf58427c0f720b54ae7",
       "version_major": 2,
       "version_minor": 0
      },
      "text/plain": [
       "Calculating Metrics:   0%|          | 0/6 [00:00<?, ?it/s]"
      ]
     },
     "metadata": {},
     "output_type": "display_data"
    },
    {
     "name": "stdout",
     "output_type": "stream",
     "text": [
      "\u001b[33m/home/sv-cheats-1/Documents/PROJECTS/MLops-project/.venv/lib/python3.11/site-packages/great_expectations/expectations/expectation.py:1518: UserWarning: \u001b[0m\u001b[1;36mresult_format\u001b[33m configured at the Validator-level will not be persisted. Please add the configuration to your Checkpoint config or checkpoint_run() method instead.\n",
      "  warnings.warn(\n",
      "\u001b[0m\n"
     ]
    },
    {
     "data": {
      "application/vnd.jupyter.widget-view+json": {
       "model_id": "e4501474178a49acaef68a0cf85e3e17",
       "version_major": 2,
       "version_minor": 0
      },
      "text/plain": [
       "Calculating Metrics:   0%|          | 0/6 [00:00<?, ?it/s]"
      ]
     },
     "metadata": {},
     "output_type": "display_data"
    },
    {
     "name": "stdout",
     "output_type": "stream",
     "text": [
      "\u001b[33m/home/sv-cheats-1/Documents/PROJECTS/MLops-project/.venv/lib/python3.11/site-packages/great_expectations/expectations/expectation.py:1518: UserWarning: \u001b[0m\u001b[1;36mresult_format\u001b[33m configured at the Validator-level will not be persisted. Please add the configuration to your Checkpoint config or checkpoint_run() method instead.\n",
      "  warnings.warn(\n",
      "\u001b[0m\n"
     ]
    },
    {
     "data": {
      "application/vnd.jupyter.widget-view+json": {
       "model_id": "cac7ba9ded1d47298c61abc8a31c8476",
       "version_major": 2,
       "version_minor": 0
      },
      "text/plain": [
       "Calculating Metrics:   0%|          | 0/6 [00:00<?, ?it/s]"
      ]
     },
     "metadata": {},
     "output_type": "display_data"
    },
    {
     "name": "stdout",
     "output_type": "stream",
     "text": [
      "\u001b[33m/home/sv-cheats-1/Documents/PROJECTS/MLops-project/.venv/lib/python3.11/site-packages/great_expectations/expectations/expectation.py:1518: UserWarning: \u001b[0m\u001b[1;36mresult_format\u001b[33m configured at the Validator-level will not be persisted. Please add the configuration to your Checkpoint config or checkpoint_run() method instead.\n",
      "  warnings.warn(\n",
      "\u001b[0m\n"
     ]
    },
    {
     "data": {
      "application/vnd.jupyter.widget-view+json": {
       "model_id": "5d207528d8694bb998ab72e16978aa04",
       "version_major": 2,
       "version_minor": 0
      },
      "text/plain": [
       "Calculating Metrics:   0%|          | 0/6 [00:00<?, ?it/s]"
      ]
     },
     "metadata": {},
     "output_type": "display_data"
    },
    {
     "name": "stdout",
     "output_type": "stream",
     "text": [
      "\u001b[33m/home/sv-cheats-1/Documents/PROJECTS/MLops-project/.venv/lib/python3.11/site-packages/great_expectations/expectations/expectation.py:1518: UserWarning: \u001b[0m\u001b[1;36mresult_format\u001b[33m configured at the Validator-level will not be persisted. Please add the configuration to your Checkpoint config or checkpoint_run() method instead.\n",
      "  warnings.warn(\n",
      "\u001b[0m\n"
     ]
    },
    {
     "data": {
      "application/vnd.jupyter.widget-view+json": {
       "model_id": "c86867e36a8c464493cf0c72839f3f2a",
       "version_major": 2,
       "version_minor": 0
      },
      "text/plain": [
       "Calculating Metrics:   0%|          | 0/6 [00:00<?, ?it/s]"
      ]
     },
     "metadata": {},
     "output_type": "display_data"
    },
    {
     "name": "stdout",
     "output_type": "stream",
     "text": [
      "\u001b[33m/home/sv-cheats-1/Documents/PROJECTS/MLops-project/.venv/lib/python3.11/site-packages/great_expectations/expectations/expectation.py:1518: UserWarning: \u001b[0m\u001b[1;36mresult_format\u001b[33m configured at the Validator-level will not be persisted. Please add the configuration to your Checkpoint config or checkpoint_run() method instead.\n",
      "  warnings.warn(\n",
      "\u001b[0m\n"
     ]
    },
    {
     "data": {
      "application/vnd.jupyter.widget-view+json": {
       "model_id": "6a57c4be30b64fc79509a91c01a9e6e1",
       "version_major": 2,
       "version_minor": 0
      },
      "text/plain": [
       "Calculating Metrics:   0%|          | 0/6 [00:00<?, ?it/s]"
      ]
     },
     "metadata": {},
     "output_type": "display_data"
    },
    {
     "name": "stdout",
     "output_type": "stream",
     "text": [
      "\u001b[33m/home/sv-cheats-1/Documents/PROJECTS/MLops-project/.venv/lib/python3.11/site-packages/great_expectations/expectations/expectation.py:1518: UserWarning: \u001b[0m\u001b[1;36mresult_format\u001b[33m configured at the Validator-level will not be persisted. Please add the configuration to your Checkpoint config or checkpoint_run() method instead.\n",
      "  warnings.warn(\n",
      "\u001b[0m\n"
     ]
    },
    {
     "data": {
      "application/vnd.jupyter.widget-view+json": {
       "model_id": "44f2edb28c7140948d88be01609fbefd",
       "version_major": 2,
       "version_minor": 0
      },
      "text/plain": [
       "Calculating Metrics:   0%|          | 0/6 [00:00<?, ?it/s]"
      ]
     },
     "metadata": {},
     "output_type": "display_data"
    },
    {
     "name": "stdout",
     "output_type": "stream",
     "text": [
      "\u001b[33m/home/sv-cheats-1/Documents/PROJECTS/MLops-project/.venv/lib/python3.11/site-packages/great_expectations/expectations/expectation.py:1518: UserWarning: \u001b[0m\u001b[1;36mresult_format\u001b[33m configured at the Validator-level will not be persisted. Please add the configuration to your Checkpoint config or checkpoint_run() method instead.\n",
      "  warnings.warn(\n",
      "\u001b[0m\n"
     ]
    },
    {
     "data": {
      "application/vnd.jupyter.widget-view+json": {
       "model_id": "7f548d5e9a524e9aa900850614ec7810",
       "version_major": 2,
       "version_minor": 0
      },
      "text/plain": [
       "Calculating Metrics:   0%|          | 0/6 [00:00<?, ?it/s]"
      ]
     },
     "metadata": {},
     "output_type": "display_data"
    },
    {
     "name": "stdout",
     "output_type": "stream",
     "text": [
      "\u001b[33m/home/sv-cheats-1/Documents/PROJECTS/MLops-project/.venv/lib/python3.11/site-packages/great_expectations/expectations/expectation.py:1518: UserWarning: \u001b[0m\u001b[1;36mresult_format\u001b[33m configured at the Validator-level will not be persisted. Please add the configuration to your Checkpoint config or checkpoint_run() method instead.\n",
      "  warnings.warn(\n",
      "\u001b[0m\n"
     ]
    },
    {
     "data": {
      "application/vnd.jupyter.widget-view+json": {
       "model_id": "cd8d45caf55c4aa590e8103b559910be",
       "version_major": 2,
       "version_minor": 0
      },
      "text/plain": [
       "Calculating Metrics:   0%|          | 0/6 [00:00<?, ?it/s]"
      ]
     },
     "metadata": {},
     "output_type": "display_data"
    }
   ],
   "source": [
    "for column in validator.columns():\n",
    "    validator.expect_column_values_to_not_be_null(column=column)"
   ]
  },
  {
   "cell_type": "markdown",
   "metadata": {},
   "source": [
    "### 2. Check that columns that were hashed are hashed properly"
   ]
  },
  {
   "cell_type": "code",
   "execution_count": 11,
   "metadata": {},
   "outputs": [],
   "source": [
    "from omegaconf import DictConfig, OmegaConf\n",
    "from hydra import initialize, compose\n",
    "\n",
    "\n",
    "for column in X.columns[X.dtypes == 'object']:\n",
    "    validator.expect_column_values_to_be_between(\n",
    "        column=column,\n",
    "        min_value=0,\n",
    "        max_value=999,\n",
    ")\n",
    "    \n",
    "# Adds no expectations, since it is not known what columns were hashed"
   ]
  },
  {
   "cell_type": "markdown",
   "metadata": {},
   "source": [
    "### 3. Check that datatypes are correct (everything is a number) "
   ]
  },
  {
   "cell_type": "code",
   "execution_count": 12,
   "metadata": {},
   "outputs": [
    {
     "data": {
      "application/vnd.jupyter.widget-view+json": {
       "model_id": "caaf64e900174230b944f126635b5a07",
       "version_major": 2,
       "version_minor": 0
      },
      "text/plain": [
       "Calculating Metrics:   0%|          | 0/2 [00:00<?, ?it/s]"
      ]
     },
     "metadata": {},
     "output_type": "display_data"
    },
    {
     "name": "stdout",
     "output_type": "stream",
     "text": [
      "\u001b[33m/home/sv-cheats-1/Documents/PROJECTS/MLops-project/.venv/lib/python3.11/site-packages/great_expectations/expectations/expectation.py:1518: UserWarning: \u001b[0m\u001b[1;36mresult_format\u001b[33m configured at the Validator-level will not be persisted. Please add the configuration to your Checkpoint config or checkpoint_run() method instead.\n",
      "  warnings.warn(\n",
      "\u001b[0m\n"
     ]
    },
    {
     "data": {
      "application/vnd.jupyter.widget-view+json": {
       "model_id": "9ab127cffe504f16ae2ebc60b77dc4a4",
       "version_major": 2,
       "version_minor": 0
      },
      "text/plain": [
       "Calculating Metrics:   0%|          | 0/1 [00:00<?, ?it/s]"
      ]
     },
     "metadata": {},
     "output_type": "display_data"
    },
    {
     "name": "stdout",
     "output_type": "stream",
     "text": [
      "\u001b[33m/home/sv-cheats-1/Documents/PROJECTS/MLops-project/.venv/lib/python3.11/site-packages/great_expectations/expectations/expectation.py:1518: UserWarning: \u001b[0m\u001b[1;36mresult_format\u001b[33m configured at the Validator-level will not be persisted. Please add the configuration to your Checkpoint config or checkpoint_run() method instead.\n",
      "  warnings.warn(\n",
      "\u001b[0m\n"
     ]
    },
    {
     "data": {
      "application/vnd.jupyter.widget-view+json": {
       "model_id": "fc2484614c084e118edc4a496011c979",
       "version_major": 2,
       "version_minor": 0
      },
      "text/plain": [
       "Calculating Metrics:   0%|          | 0/1 [00:00<?, ?it/s]"
      ]
     },
     "metadata": {},
     "output_type": "display_data"
    },
    {
     "name": "stdout",
     "output_type": "stream",
     "text": [
      "\u001b[33m/home/sv-cheats-1/Documents/PROJECTS/MLops-project/.venv/lib/python3.11/site-packages/great_expectations/expectations/expectation.py:1518: UserWarning: \u001b[0m\u001b[1;36mresult_format\u001b[33m configured at the Validator-level will not be persisted. Please add the configuration to your Checkpoint config or checkpoint_run() method instead.\n",
      "  warnings.warn(\n",
      "\u001b[0m\n"
     ]
    },
    {
     "data": {
      "application/vnd.jupyter.widget-view+json": {
       "model_id": "7077f5fc975441dcaa85fcc4df15005b",
       "version_major": 2,
       "version_minor": 0
      },
      "text/plain": [
       "Calculating Metrics:   0%|          | 0/1 [00:00<?, ?it/s]"
      ]
     },
     "metadata": {},
     "output_type": "display_data"
    },
    {
     "name": "stdout",
     "output_type": "stream",
     "text": [
      "\u001b[33m/home/sv-cheats-1/Documents/PROJECTS/MLops-project/.venv/lib/python3.11/site-packages/great_expectations/expectations/expectation.py:1518: UserWarning: \u001b[0m\u001b[1;36mresult_format\u001b[33m configured at the Validator-level will not be persisted. Please add the configuration to your Checkpoint config or checkpoint_run() method instead.\n",
      "  warnings.warn(\n",
      "\u001b[0m\n"
     ]
    },
    {
     "data": {
      "application/vnd.jupyter.widget-view+json": {
       "model_id": "602627f58a634126b333875dea32b77f",
       "version_major": 2,
       "version_minor": 0
      },
      "text/plain": [
       "Calculating Metrics:   0%|          | 0/1 [00:00<?, ?it/s]"
      ]
     },
     "metadata": {},
     "output_type": "display_data"
    },
    {
     "name": "stdout",
     "output_type": "stream",
     "text": [
      "\u001b[33m/home/sv-cheats-1/Documents/PROJECTS/MLops-project/.venv/lib/python3.11/site-packages/great_expectations/expectations/expectation.py:1518: UserWarning: \u001b[0m\u001b[1;36mresult_format\u001b[33m configured at the Validator-level will not be persisted. Please add the configuration to your Checkpoint config or checkpoint_run() method instead.\n",
      "  warnings.warn(\n",
      "\u001b[0m\n"
     ]
    },
    {
     "data": {
      "application/vnd.jupyter.widget-view+json": {
       "model_id": "dcc619bb36fc413fb25e0a11d6820588",
       "version_major": 2,
       "version_minor": 0
      },
      "text/plain": [
       "Calculating Metrics:   0%|          | 0/1 [00:00<?, ?it/s]"
      ]
     },
     "metadata": {},
     "output_type": "display_data"
    },
    {
     "name": "stdout",
     "output_type": "stream",
     "text": [
      "\u001b[33m/home/sv-cheats-1/Documents/PROJECTS/MLops-project/.venv/lib/python3.11/site-packages/great_expectations/expectations/expectation.py:1518: UserWarning: \u001b[0m\u001b[1;36mresult_format\u001b[33m configured at the Validator-level will not be persisted. Please add the configuration to your Checkpoint config or checkpoint_run() method instead.\n",
      "  warnings.warn(\n",
      "\u001b[0m\n"
     ]
    },
    {
     "data": {
      "application/vnd.jupyter.widget-view+json": {
       "model_id": "d8547312fd244f59ba1de5480993557f",
       "version_major": 2,
       "version_minor": 0
      },
      "text/plain": [
       "Calculating Metrics:   0%|          | 0/1 [00:00<?, ?it/s]"
      ]
     },
     "metadata": {},
     "output_type": "display_data"
    },
    {
     "name": "stdout",
     "output_type": "stream",
     "text": [
      "\u001b[33m/home/sv-cheats-1/Documents/PROJECTS/MLops-project/.venv/lib/python3.11/site-packages/great_expectations/expectations/expectation.py:1518: UserWarning: \u001b[0m\u001b[1;36mresult_format\u001b[33m configured at the Validator-level will not be persisted. Please add the configuration to your Checkpoint config or checkpoint_run() method instead.\n",
      "  warnings.warn(\n",
      "\u001b[0m\n"
     ]
    },
    {
     "data": {
      "application/vnd.jupyter.widget-view+json": {
       "model_id": "b81da87262464a8dab764d912e61c943",
       "version_major": 2,
       "version_minor": 0
      },
      "text/plain": [
       "Calculating Metrics:   0%|          | 0/1 [00:00<?, ?it/s]"
      ]
     },
     "metadata": {},
     "output_type": "display_data"
    },
    {
     "name": "stdout",
     "output_type": "stream",
     "text": [
      "\u001b[33m/home/sv-cheats-1/Documents/PROJECTS/MLops-project/.venv/lib/python3.11/site-packages/great_expectations/expectations/expectation.py:1518: UserWarning: \u001b[0m\u001b[1;36mresult_format\u001b[33m configured at the Validator-level will not be persisted. Please add the configuration to your Checkpoint config or checkpoint_run() method instead.\n",
      "  warnings.warn(\n",
      "\u001b[0m\n"
     ]
    },
    {
     "data": {
      "application/vnd.jupyter.widget-view+json": {
       "model_id": "53a59ff57c954c76b84e818bc7c6dcf8",
       "version_major": 2,
       "version_minor": 0
      },
      "text/plain": [
       "Calculating Metrics:   0%|          | 0/1 [00:00<?, ?it/s]"
      ]
     },
     "metadata": {},
     "output_type": "display_data"
    },
    {
     "name": "stdout",
     "output_type": "stream",
     "text": [
      "\u001b[33m/home/sv-cheats-1/Documents/PROJECTS/MLops-project/.venv/lib/python3.11/site-packages/great_expectations/expectations/expectation.py:1518: UserWarning: \u001b[0m\u001b[1;36mresult_format\u001b[33m configured at the Validator-level will not be persisted. Please add the configuration to your Checkpoint config or checkpoint_run() method instead.\n",
      "  warnings.warn(\n",
      "\u001b[0m\n"
     ]
    },
    {
     "data": {
      "application/vnd.jupyter.widget-view+json": {
       "model_id": "beb8c10302404ea6906b1b444e8c8178",
       "version_major": 2,
       "version_minor": 0
      },
      "text/plain": [
       "Calculating Metrics:   0%|          | 0/1 [00:00<?, ?it/s]"
      ]
     },
     "metadata": {},
     "output_type": "display_data"
    },
    {
     "name": "stdout",
     "output_type": "stream",
     "text": [
      "\u001b[33m/home/sv-cheats-1/Documents/PROJECTS/MLops-project/.venv/lib/python3.11/site-packages/great_expectations/expectations/expectation.py:1518: UserWarning: \u001b[0m\u001b[1;36mresult_format\u001b[33m configured at the Validator-level will not be persisted. Please add the configuration to your Checkpoint config or checkpoint_run() method instead.\n",
      "  warnings.warn(\n",
      "\u001b[0m\n"
     ]
    },
    {
     "data": {
      "application/vnd.jupyter.widget-view+json": {
       "model_id": "f8a4aca6009544209d2d6b831e430f1f",
       "version_major": 2,
       "version_minor": 0
      },
      "text/plain": [
       "Calculating Metrics:   0%|          | 0/1 [00:00<?, ?it/s]"
      ]
     },
     "metadata": {},
     "output_type": "display_data"
    },
    {
     "name": "stdout",
     "output_type": "stream",
     "text": [
      "\u001b[33m/home/sv-cheats-1/Documents/PROJECTS/MLops-project/.venv/lib/python3.11/site-packages/great_expectations/expectations/expectation.py:1518: UserWarning: \u001b[0m\u001b[1;36mresult_format\u001b[33m configured at the Validator-level will not be persisted. Please add the configuration to your Checkpoint config or checkpoint_run() method instead.\n",
      "  warnings.warn(\n",
      "\u001b[0m\n"
     ]
    },
    {
     "data": {
      "application/vnd.jupyter.widget-view+json": {
       "model_id": "60884b4cd63e4408835f0a8b48083715",
       "version_major": 2,
       "version_minor": 0
      },
      "text/plain": [
       "Calculating Metrics:   0%|          | 0/1 [00:00<?, ?it/s]"
      ]
     },
     "metadata": {},
     "output_type": "display_data"
    },
    {
     "name": "stdout",
     "output_type": "stream",
     "text": [
      "\u001b[33m/home/sv-cheats-1/Documents/PROJECTS/MLops-project/.venv/lib/python3.11/site-packages/great_expectations/expectations/expectation.py:1518: UserWarning: \u001b[0m\u001b[1;36mresult_format\u001b[33m configured at the Validator-level will not be persisted. Please add the configuration to your Checkpoint config or checkpoint_run() method instead.\n",
      "  warnings.warn(\n",
      "\u001b[0m\n"
     ]
    },
    {
     "data": {
      "application/vnd.jupyter.widget-view+json": {
       "model_id": "55754b29c3714c3e96dc1109df03dfa0",
       "version_major": 2,
       "version_minor": 0
      },
      "text/plain": [
       "Calculating Metrics:   0%|          | 0/1 [00:00<?, ?it/s]"
      ]
     },
     "metadata": {},
     "output_type": "display_data"
    },
    {
     "name": "stdout",
     "output_type": "stream",
     "text": [
      "\u001b[33m/home/sv-cheats-1/Documents/PROJECTS/MLops-project/.venv/lib/python3.11/site-packages/great_expectations/expectations/expectation.py:1518: UserWarning: \u001b[0m\u001b[1;36mresult_format\u001b[33m configured at the Validator-level will not be persisted. Please add the configuration to your Checkpoint config or checkpoint_run() method instead.\n",
      "  warnings.warn(\n",
      "\u001b[0m\n"
     ]
    },
    {
     "data": {
      "application/vnd.jupyter.widget-view+json": {
       "model_id": "79a7788b1d814d5ebf32875b39715ed5",
       "version_major": 2,
       "version_minor": 0
      },
      "text/plain": [
       "Calculating Metrics:   0%|          | 0/1 [00:00<?, ?it/s]"
      ]
     },
     "metadata": {},
     "output_type": "display_data"
    },
    {
     "name": "stdout",
     "output_type": "stream",
     "text": [
      "\u001b[33m/home/sv-cheats-1/Documents/PROJECTS/MLops-project/.venv/lib/python3.11/site-packages/great_expectations/expectations/expectation.py:1518: UserWarning: \u001b[0m\u001b[1;36mresult_format\u001b[33m configured at the Validator-level will not be persisted. Please add the configuration to your Checkpoint config or checkpoint_run() method instead.\n",
      "  warnings.warn(\n",
      "\u001b[0m\n"
     ]
    },
    {
     "data": {
      "application/vnd.jupyter.widget-view+json": {
       "model_id": "f1f9db9b55f44d47b027d6d7ca40bab0",
       "version_major": 2,
       "version_minor": 0
      },
      "text/plain": [
       "Calculating Metrics:   0%|          | 0/1 [00:00<?, ?it/s]"
      ]
     },
     "metadata": {},
     "output_type": "display_data"
    },
    {
     "name": "stdout",
     "output_type": "stream",
     "text": [
      "\u001b[33m/home/sv-cheats-1/Documents/PROJECTS/MLops-project/.venv/lib/python3.11/site-packages/great_expectations/expectations/expectation.py:1518: UserWarning: \u001b[0m\u001b[1;36mresult_format\u001b[33m configured at the Validator-level will not be persisted. Please add the configuration to your Checkpoint config or checkpoint_run() method instead.\n",
      "  warnings.warn(\n",
      "\u001b[0m\n"
     ]
    },
    {
     "data": {
      "application/vnd.jupyter.widget-view+json": {
       "model_id": "6c331b12777a46cdbcac10ab4c148d84",
       "version_major": 2,
       "version_minor": 0
      },
      "text/plain": [
       "Calculating Metrics:   0%|          | 0/1 [00:00<?, ?it/s]"
      ]
     },
     "metadata": {},
     "output_type": "display_data"
    },
    {
     "name": "stdout",
     "output_type": "stream",
     "text": [
      "\u001b[33m/home/sv-cheats-1/Documents/PROJECTS/MLops-project/.venv/lib/python3.11/site-packages/great_expectations/expectations/expectation.py:1518: UserWarning: \u001b[0m\u001b[1;36mresult_format\u001b[33m configured at the Validator-level will not be persisted. Please add the configuration to your Checkpoint config or checkpoint_run() method instead.\n",
      "  warnings.warn(\n",
      "\u001b[0m\n"
     ]
    },
    {
     "data": {
      "application/vnd.jupyter.widget-view+json": {
       "model_id": "84ccf12d7d9d4dd689c99653a67cc24c",
       "version_major": 2,
       "version_minor": 0
      },
      "text/plain": [
       "Calculating Metrics:   0%|          | 0/1 [00:00<?, ?it/s]"
      ]
     },
     "metadata": {},
     "output_type": "display_data"
    },
    {
     "name": "stdout",
     "output_type": "stream",
     "text": [
      "\u001b[33m/home/sv-cheats-1/Documents/PROJECTS/MLops-project/.venv/lib/python3.11/site-packages/great_expectations/expectations/expectation.py:1518: UserWarning: \u001b[0m\u001b[1;36mresult_format\u001b[33m configured at the Validator-level will not be persisted. Please add the configuration to your Checkpoint config or checkpoint_run() method instead.\n",
      "  warnings.warn(\n",
      "\u001b[0m\n"
     ]
    },
    {
     "data": {
      "application/vnd.jupyter.widget-view+json": {
       "model_id": "64a5fefa329746be82b6c5320ad89f38",
       "version_major": 2,
       "version_minor": 0
      },
      "text/plain": [
       "Calculating Metrics:   0%|          | 0/1 [00:00<?, ?it/s]"
      ]
     },
     "metadata": {},
     "output_type": "display_data"
    },
    {
     "name": "stdout",
     "output_type": "stream",
     "text": [
      "\u001b[33m/home/sv-cheats-1/Documents/PROJECTS/MLops-project/.venv/lib/python3.11/site-packages/great_expectations/expectations/expectation.py:1518: UserWarning: \u001b[0m\u001b[1;36mresult_format\u001b[33m configured at the Validator-level will not be persisted. Please add the configuration to your Checkpoint config or checkpoint_run() method instead.\n",
      "  warnings.warn(\n",
      "\u001b[0m\n"
     ]
    },
    {
     "data": {
      "application/vnd.jupyter.widget-view+json": {
       "model_id": "cfcc4bb91cc2437da9924e74457ba5b8",
       "version_major": 2,
       "version_minor": 0
      },
      "text/plain": [
       "Calculating Metrics:   0%|          | 0/1 [00:00<?, ?it/s]"
      ]
     },
     "metadata": {},
     "output_type": "display_data"
    },
    {
     "name": "stdout",
     "output_type": "stream",
     "text": [
      "\u001b[33m/home/sv-cheats-1/Documents/PROJECTS/MLops-project/.venv/lib/python3.11/site-packages/great_expectations/expectations/expectation.py:1518: UserWarning: \u001b[0m\u001b[1;36mresult_format\u001b[33m configured at the Validator-level will not be persisted. Please add the configuration to your Checkpoint config or checkpoint_run() method instead.\n",
      "  warnings.warn(\n",
      "\u001b[0m\n"
     ]
    },
    {
     "data": {
      "application/vnd.jupyter.widget-view+json": {
       "model_id": "8bcb9237d2e94c11859773af46313397",
       "version_major": 2,
       "version_minor": 0
      },
      "text/plain": [
       "Calculating Metrics:   0%|          | 0/1 [00:00<?, ?it/s]"
      ]
     },
     "metadata": {},
     "output_type": "display_data"
    },
    {
     "name": "stdout",
     "output_type": "stream",
     "text": [
      "\u001b[33m/home/sv-cheats-1/Documents/PROJECTS/MLops-project/.venv/lib/python3.11/site-packages/great_expectations/expectations/expectation.py:1518: UserWarning: \u001b[0m\u001b[1;36mresult_format\u001b[33m configured at the Validator-level will not be persisted. Please add the configuration to your Checkpoint config or checkpoint_run() method instead.\n",
      "  warnings.warn(\n",
      "\u001b[0m\n"
     ]
    },
    {
     "data": {
      "application/vnd.jupyter.widget-view+json": {
       "model_id": "228984b8ef464f9980da9e2070c152c3",
       "version_major": 2,
       "version_minor": 0
      },
      "text/plain": [
       "Calculating Metrics:   0%|          | 0/1 [00:00<?, ?it/s]"
      ]
     },
     "metadata": {},
     "output_type": "display_data"
    },
    {
     "name": "stdout",
     "output_type": "stream",
     "text": [
      "\u001b[33m/home/sv-cheats-1/Documents/PROJECTS/MLops-project/.venv/lib/python3.11/site-packages/great_expectations/expectations/expectation.py:1518: UserWarning: \u001b[0m\u001b[1;36mresult_format\u001b[33m configured at the Validator-level will not be persisted. Please add the configuration to your Checkpoint config or checkpoint_run() method instead.\n",
      "  warnings.warn(\n",
      "\u001b[0m\n"
     ]
    },
    {
     "data": {
      "application/vnd.jupyter.widget-view+json": {
       "model_id": "750987a3c2b0404c86cf97a750d8ef0b",
       "version_major": 2,
       "version_minor": 0
      },
      "text/plain": [
       "Calculating Metrics:   0%|          | 0/1 [00:00<?, ?it/s]"
      ]
     },
     "metadata": {},
     "output_type": "display_data"
    },
    {
     "name": "stdout",
     "output_type": "stream",
     "text": [
      "\u001b[33m/home/sv-cheats-1/Documents/PROJECTS/MLops-project/.venv/lib/python3.11/site-packages/great_expectations/expectations/expectation.py:1518: UserWarning: \u001b[0m\u001b[1;36mresult_format\u001b[33m configured at the Validator-level will not be persisted. Please add the configuration to your Checkpoint config or checkpoint_run() method instead.\n",
      "  warnings.warn(\n",
      "\u001b[0m\n"
     ]
    },
    {
     "data": {
      "application/vnd.jupyter.widget-view+json": {
       "model_id": "cb913c5c59954cb4a0aa32dc3e4a6de1",
       "version_major": 2,
       "version_minor": 0
      },
      "text/plain": [
       "Calculating Metrics:   0%|          | 0/1 [00:00<?, ?it/s]"
      ]
     },
     "metadata": {},
     "output_type": "display_data"
    },
    {
     "name": "stdout",
     "output_type": "stream",
     "text": [
      "\u001b[33m/home/sv-cheats-1/Documents/PROJECTS/MLops-project/.venv/lib/python3.11/site-packages/great_expectations/expectations/expectation.py:1518: UserWarning: \u001b[0m\u001b[1;36mresult_format\u001b[33m configured at the Validator-level will not be persisted. Please add the configuration to your Checkpoint config or checkpoint_run() method instead.\n",
      "  warnings.warn(\n",
      "\u001b[0m\n"
     ]
    },
    {
     "data": {
      "application/vnd.jupyter.widget-view+json": {
       "model_id": "cda1b6249a0645168ebc4b84edb7bea8",
       "version_major": 2,
       "version_minor": 0
      },
      "text/plain": [
       "Calculating Metrics:   0%|          | 0/1 [00:00<?, ?it/s]"
      ]
     },
     "metadata": {},
     "output_type": "display_data"
    },
    {
     "name": "stdout",
     "output_type": "stream",
     "text": [
      "\u001b[33m/home/sv-cheats-1/Documents/PROJECTS/MLops-project/.venv/lib/python3.11/site-packages/great_expectations/expectations/expectation.py:1518: UserWarning: \u001b[0m\u001b[1;36mresult_format\u001b[33m configured at the Validator-level will not be persisted. Please add the configuration to your Checkpoint config or checkpoint_run() method instead.\n",
      "  warnings.warn(\n",
      "\u001b[0m\n"
     ]
    },
    {
     "data": {
      "application/vnd.jupyter.widget-view+json": {
       "model_id": "cb528fa9ca674bc9b27158a1a237b717",
       "version_major": 2,
       "version_minor": 0
      },
      "text/plain": [
       "Calculating Metrics:   0%|          | 0/1 [00:00<?, ?it/s]"
      ]
     },
     "metadata": {},
     "output_type": "display_data"
    },
    {
     "name": "stdout",
     "output_type": "stream",
     "text": [
      "\u001b[33m/home/sv-cheats-1/Documents/PROJECTS/MLops-project/.venv/lib/python3.11/site-packages/great_expectations/expectations/expectation.py:1518: UserWarning: \u001b[0m\u001b[1;36mresult_format\u001b[33m configured at the Validator-level will not be persisted. Please add the configuration to your Checkpoint config or checkpoint_run() method instead.\n",
      "  warnings.warn(\n",
      "\u001b[0m\n"
     ]
    },
    {
     "data": {
      "application/vnd.jupyter.widget-view+json": {
       "model_id": "77b683d88f1b43d48e998117d694b1ae",
       "version_major": 2,
       "version_minor": 0
      },
      "text/plain": [
       "Calculating Metrics:   0%|          | 0/1 [00:00<?, ?it/s]"
      ]
     },
     "metadata": {},
     "output_type": "display_data"
    },
    {
     "name": "stdout",
     "output_type": "stream",
     "text": [
      "\u001b[33m/home/sv-cheats-1/Documents/PROJECTS/MLops-project/.venv/lib/python3.11/site-packages/great_expectations/expectations/expectation.py:1518: UserWarning: \u001b[0m\u001b[1;36mresult_format\u001b[33m configured at the Validator-level will not be persisted. Please add the configuration to your Checkpoint config or checkpoint_run() method instead.\n",
      "  warnings.warn(\n",
      "\u001b[0m\n"
     ]
    },
    {
     "data": {
      "application/vnd.jupyter.widget-view+json": {
       "model_id": "1e71602cbc8a46afa08a5fe3bc8c5613",
       "version_major": 2,
       "version_minor": 0
      },
      "text/plain": [
       "Calculating Metrics:   0%|          | 0/1 [00:00<?, ?it/s]"
      ]
     },
     "metadata": {},
     "output_type": "display_data"
    },
    {
     "name": "stdout",
     "output_type": "stream",
     "text": [
      "\u001b[33m/home/sv-cheats-1/Documents/PROJECTS/MLops-project/.venv/lib/python3.11/site-packages/great_expectations/expectations/expectation.py:1518: UserWarning: \u001b[0m\u001b[1;36mresult_format\u001b[33m configured at the Validator-level will not be persisted. Please add the configuration to your Checkpoint config or checkpoint_run() method instead.\n",
      "  warnings.warn(\n",
      "\u001b[0m\n"
     ]
    },
    {
     "data": {
      "application/vnd.jupyter.widget-view+json": {
       "model_id": "245a49adff964ce99ee7314d2136b800",
       "version_major": 2,
       "version_minor": 0
      },
      "text/plain": [
       "Calculating Metrics:   0%|          | 0/1 [00:00<?, ?it/s]"
      ]
     },
     "metadata": {},
     "output_type": "display_data"
    },
    {
     "name": "stdout",
     "output_type": "stream",
     "text": [
      "\u001b[33m/home/sv-cheats-1/Documents/PROJECTS/MLops-project/.venv/lib/python3.11/site-packages/great_expectations/expectations/expectation.py:1518: UserWarning: \u001b[0m\u001b[1;36mresult_format\u001b[33m configured at the Validator-level will not be persisted. Please add the configuration to your Checkpoint config or checkpoint_run() method instead.\n",
      "  warnings.warn(\n",
      "\u001b[0m\n"
     ]
    },
    {
     "data": {
      "application/vnd.jupyter.widget-view+json": {
       "model_id": "2ffe3bc81c42471f9fa9f752806334f1",
       "version_major": 2,
       "version_minor": 0
      },
      "text/plain": [
       "Calculating Metrics:   0%|          | 0/1 [00:00<?, ?it/s]"
      ]
     },
     "metadata": {},
     "output_type": "display_data"
    },
    {
     "name": "stdout",
     "output_type": "stream",
     "text": [
      "\u001b[33m/home/sv-cheats-1/Documents/PROJECTS/MLops-project/.venv/lib/python3.11/site-packages/great_expectations/expectations/expectation.py:1518: UserWarning: \u001b[0m\u001b[1;36mresult_format\u001b[33m configured at the Validator-level will not be persisted. Please add the configuration to your Checkpoint config or checkpoint_run() method instead.\n",
      "  warnings.warn(\n",
      "\u001b[0m\n"
     ]
    },
    {
     "data": {
      "application/vnd.jupyter.widget-view+json": {
       "model_id": "4dd077ba91184c1ea17ae4e5b5face40",
       "version_major": 2,
       "version_minor": 0
      },
      "text/plain": [
       "Calculating Metrics:   0%|          | 0/1 [00:00<?, ?it/s]"
      ]
     },
     "metadata": {},
     "output_type": "display_data"
    },
    {
     "name": "stdout",
     "output_type": "stream",
     "text": [
      "\u001b[33m/home/sv-cheats-1/Documents/PROJECTS/MLops-project/.venv/lib/python3.11/site-packages/great_expectations/expectations/expectation.py:1518: UserWarning: \u001b[0m\u001b[1;36mresult_format\u001b[33m configured at the Validator-level will not be persisted. Please add the configuration to your Checkpoint config or checkpoint_run() method instead.\n",
      "  warnings.warn(\n",
      "\u001b[0m\n"
     ]
    },
    {
     "data": {
      "application/vnd.jupyter.widget-view+json": {
       "model_id": "c0eb5220ce7c44da83bd6a1befc44c8e",
       "version_major": 2,
       "version_minor": 0
      },
      "text/plain": [
       "Calculating Metrics:   0%|          | 0/1 [00:00<?, ?it/s]"
      ]
     },
     "metadata": {},
     "output_type": "display_data"
    },
    {
     "name": "stdout",
     "output_type": "stream",
     "text": [
      "\u001b[33m/home/sv-cheats-1/Documents/PROJECTS/MLops-project/.venv/lib/python3.11/site-packages/great_expectations/expectations/expectation.py:1518: UserWarning: \u001b[0m\u001b[1;36mresult_format\u001b[33m configured at the Validator-level will not be persisted. Please add the configuration to your Checkpoint config or checkpoint_run() method instead.\n",
      "  warnings.warn(\n",
      "\u001b[0m\n"
     ]
    },
    {
     "data": {
      "application/vnd.jupyter.widget-view+json": {
       "model_id": "70811700036a432bb2e1e48eeb13b9ef",
       "version_major": 2,
       "version_minor": 0
      },
      "text/plain": [
       "Calculating Metrics:   0%|          | 0/1 [00:00<?, ?it/s]"
      ]
     },
     "metadata": {},
     "output_type": "display_data"
    },
    {
     "name": "stdout",
     "output_type": "stream",
     "text": [
      "\u001b[33m/home/sv-cheats-1/Documents/PROJECTS/MLops-project/.venv/lib/python3.11/site-packages/great_expectations/expectations/expectation.py:1518: UserWarning: \u001b[0m\u001b[1;36mresult_format\u001b[33m configured at the Validator-level will not be persisted. Please add the configuration to your Checkpoint config or checkpoint_run() method instead.\n",
      "  warnings.warn(\n",
      "\u001b[0m\n"
     ]
    },
    {
     "data": {
      "application/vnd.jupyter.widget-view+json": {
       "model_id": "35c4b786043c437697fb5cf674b8e4fc",
       "version_major": 2,
       "version_minor": 0
      },
      "text/plain": [
       "Calculating Metrics:   0%|          | 0/1 [00:00<?, ?it/s]"
      ]
     },
     "metadata": {},
     "output_type": "display_data"
    },
    {
     "name": "stdout",
     "output_type": "stream",
     "text": [
      "\u001b[33m/home/sv-cheats-1/Documents/PROJECTS/MLops-project/.venv/lib/python3.11/site-packages/great_expectations/expectations/expectation.py:1518: UserWarning: \u001b[0m\u001b[1;36mresult_format\u001b[33m configured at the Validator-level will not be persisted. Please add the configuration to your Checkpoint config or checkpoint_run() method instead.\n",
      "  warnings.warn(\n",
      "\u001b[0m\n"
     ]
    },
    {
     "data": {
      "application/vnd.jupyter.widget-view+json": {
       "model_id": "e637a811985e456e86b5d7646155efd0",
       "version_major": 2,
       "version_minor": 0
      },
      "text/plain": [
       "Calculating Metrics:   0%|          | 0/1 [00:00<?, ?it/s]"
      ]
     },
     "metadata": {},
     "output_type": "display_data"
    },
    {
     "name": "stdout",
     "output_type": "stream",
     "text": [
      "\u001b[33m/home/sv-cheats-1/Documents/PROJECTS/MLops-project/.venv/lib/python3.11/site-packages/great_expectations/expectations/expectation.py:1518: UserWarning: \u001b[0m\u001b[1;36mresult_format\u001b[33m configured at the Validator-level will not be persisted. Please add the configuration to your Checkpoint config or checkpoint_run() method instead.\n",
      "  warnings.warn(\n",
      "\u001b[0m\n"
     ]
    },
    {
     "data": {
      "application/vnd.jupyter.widget-view+json": {
       "model_id": "b27d93ca5ac54a3cabbf57304bcdea44",
       "version_major": 2,
       "version_minor": 0
      },
      "text/plain": [
       "Calculating Metrics:   0%|          | 0/1 [00:00<?, ?it/s]"
      ]
     },
     "metadata": {},
     "output_type": "display_data"
    },
    {
     "name": "stdout",
     "output_type": "stream",
     "text": [
      "\u001b[33m/home/sv-cheats-1/Documents/PROJECTS/MLops-project/.venv/lib/python3.11/site-packages/great_expectations/expectations/expectation.py:1518: UserWarning: \u001b[0m\u001b[1;36mresult_format\u001b[33m configured at the Validator-level will not be persisted. Please add the configuration to your Checkpoint config or checkpoint_run() method instead.\n",
      "  warnings.warn(\n",
      "\u001b[0m\n"
     ]
    },
    {
     "data": {
      "application/vnd.jupyter.widget-view+json": {
       "model_id": "446dbfc6a71f4d9e846b6105fe731064",
       "version_major": 2,
       "version_minor": 0
      },
      "text/plain": [
       "Calculating Metrics:   0%|          | 0/1 [00:00<?, ?it/s]"
      ]
     },
     "metadata": {},
     "output_type": "display_data"
    },
    {
     "name": "stdout",
     "output_type": "stream",
     "text": [
      "\u001b[33m/home/sv-cheats-1/Documents/PROJECTS/MLops-project/.venv/lib/python3.11/site-packages/great_expectations/expectations/expectation.py:1518: UserWarning: \u001b[0m\u001b[1;36mresult_format\u001b[33m configured at the Validator-level will not be persisted. Please add the configuration to your Checkpoint config or checkpoint_run() method instead.\n",
      "  warnings.warn(\n",
      "\u001b[0m\n"
     ]
    },
    {
     "data": {
      "application/vnd.jupyter.widget-view+json": {
       "model_id": "49525880451b43ddb9bcc12597353402",
       "version_major": 2,
       "version_minor": 0
      },
      "text/plain": [
       "Calculating Metrics:   0%|          | 0/1 [00:00<?, ?it/s]"
      ]
     },
     "metadata": {},
     "output_type": "display_data"
    },
    {
     "name": "stdout",
     "output_type": "stream",
     "text": [
      "\u001b[33m/home/sv-cheats-1/Documents/PROJECTS/MLops-project/.venv/lib/python3.11/site-packages/great_expectations/expectations/expectation.py:1518: UserWarning: \u001b[0m\u001b[1;36mresult_format\u001b[33m configured at the Validator-level will not be persisted. Please add the configuration to your Checkpoint config or checkpoint_run() method instead.\n",
      "  warnings.warn(\n",
      "\u001b[0m\n"
     ]
    },
    {
     "data": {
      "application/vnd.jupyter.widget-view+json": {
       "model_id": "243db7c3f4794993b3ad3a03bd6ce406",
       "version_major": 2,
       "version_minor": 0
      },
      "text/plain": [
       "Calculating Metrics:   0%|          | 0/1 [00:00<?, ?it/s]"
      ]
     },
     "metadata": {},
     "output_type": "display_data"
    },
    {
     "name": "stdout",
     "output_type": "stream",
     "text": [
      "\u001b[33m/home/sv-cheats-1/Documents/PROJECTS/MLops-project/.venv/lib/python3.11/site-packages/great_expectations/expectations/expectation.py:1518: UserWarning: \u001b[0m\u001b[1;36mresult_format\u001b[33m configured at the Validator-level will not be persisted. Please add the configuration to your Checkpoint config or checkpoint_run() method instead.\n",
      "  warnings.warn(\n",
      "\u001b[0m\n"
     ]
    },
    {
     "data": {
      "application/vnd.jupyter.widget-view+json": {
       "model_id": "9cb67edacd0c499d885376c7a2a322ab",
       "version_major": 2,
       "version_minor": 0
      },
      "text/plain": [
       "Calculating Metrics:   0%|          | 0/1 [00:00<?, ?it/s]"
      ]
     },
     "metadata": {},
     "output_type": "display_data"
    },
    {
     "name": "stdout",
     "output_type": "stream",
     "text": [
      "\u001b[33m/home/sv-cheats-1/Documents/PROJECTS/MLops-project/.venv/lib/python3.11/site-packages/great_expectations/expectations/expectation.py:1518: UserWarning: \u001b[0m\u001b[1;36mresult_format\u001b[33m configured at the Validator-level will not be persisted. Please add the configuration to your Checkpoint config or checkpoint_run() method instead.\n",
      "  warnings.warn(\n",
      "\u001b[0m\n"
     ]
    },
    {
     "data": {
      "application/vnd.jupyter.widget-view+json": {
       "model_id": "96fd17cc29aa43b6b280c06aa9fd5d14",
       "version_major": 2,
       "version_minor": 0
      },
      "text/plain": [
       "Calculating Metrics:   0%|          | 0/1 [00:00<?, ?it/s]"
      ]
     },
     "metadata": {},
     "output_type": "display_data"
    },
    {
     "name": "stdout",
     "output_type": "stream",
     "text": [
      "\u001b[33m/home/sv-cheats-1/Documents/PROJECTS/MLops-project/.venv/lib/python3.11/site-packages/great_expectations/expectations/expectation.py:1518: UserWarning: \u001b[0m\u001b[1;36mresult_format\u001b[33m configured at the Validator-level will not be persisted. Please add the configuration to your Checkpoint config or checkpoint_run() method instead.\n",
      "  warnings.warn(\n",
      "\u001b[0m\n"
     ]
    },
    {
     "data": {
      "application/vnd.jupyter.widget-view+json": {
       "model_id": "e21d2f80b82343428ade84dba74f1685",
       "version_major": 2,
       "version_minor": 0
      },
      "text/plain": [
       "Calculating Metrics:   0%|          | 0/1 [00:00<?, ?it/s]"
      ]
     },
     "metadata": {},
     "output_type": "display_data"
    },
    {
     "name": "stdout",
     "output_type": "stream",
     "text": [
      "\u001b[33m/home/sv-cheats-1/Documents/PROJECTS/MLops-project/.venv/lib/python3.11/site-packages/great_expectations/expectations/expectation.py:1518: UserWarning: \u001b[0m\u001b[1;36mresult_format\u001b[33m configured at the Validator-level will not be persisted. Please add the configuration to your Checkpoint config or checkpoint_run() method instead.\n",
      "  warnings.warn(\n",
      "\u001b[0m\n"
     ]
    },
    {
     "data": {
      "application/vnd.jupyter.widget-view+json": {
       "model_id": "854684482eb745a5b08bc1ca83802625",
       "version_major": 2,
       "version_minor": 0
      },
      "text/plain": [
       "Calculating Metrics:   0%|          | 0/1 [00:00<?, ?it/s]"
      ]
     },
     "metadata": {},
     "output_type": "display_data"
    },
    {
     "name": "stdout",
     "output_type": "stream",
     "text": [
      "\u001b[33m/home/sv-cheats-1/Documents/PROJECTS/MLops-project/.venv/lib/python3.11/site-packages/great_expectations/expectations/expectation.py:1518: UserWarning: \u001b[0m\u001b[1;36mresult_format\u001b[33m configured at the Validator-level will not be persisted. Please add the configuration to your Checkpoint config or checkpoint_run() method instead.\n",
      "  warnings.warn(\n",
      "\u001b[0m\n"
     ]
    },
    {
     "data": {
      "application/vnd.jupyter.widget-view+json": {
       "model_id": "1b304d8452fc43e0aa44d7b9bf3c533a",
       "version_major": 2,
       "version_minor": 0
      },
      "text/plain": [
       "Calculating Metrics:   0%|          | 0/1 [00:00<?, ?it/s]"
      ]
     },
     "metadata": {},
     "output_type": "display_data"
    },
    {
     "name": "stdout",
     "output_type": "stream",
     "text": [
      "\u001b[33m/home/sv-cheats-1/Documents/PROJECTS/MLops-project/.venv/lib/python3.11/site-packages/great_expectations/expectations/expectation.py:1518: UserWarning: \u001b[0m\u001b[1;36mresult_format\u001b[33m configured at the Validator-level will not be persisted. Please add the configuration to your Checkpoint config or checkpoint_run() method instead.\n",
      "  warnings.warn(\n",
      "\u001b[0m\n"
     ]
    },
    {
     "data": {
      "application/vnd.jupyter.widget-view+json": {
       "model_id": "56b431bd8d00474690e08eab72a36e4d",
       "version_major": 2,
       "version_minor": 0
      },
      "text/plain": [
       "Calculating Metrics:   0%|          | 0/1 [00:00<?, ?it/s]"
      ]
     },
     "metadata": {},
     "output_type": "display_data"
    },
    {
     "name": "stdout",
     "output_type": "stream",
     "text": [
      "\u001b[33m/home/sv-cheats-1/Documents/PROJECTS/MLops-project/.venv/lib/python3.11/site-packages/great_expectations/expectations/expectation.py:1518: UserWarning: \u001b[0m\u001b[1;36mresult_format\u001b[33m configured at the Validator-level will not be persisted. Please add the configuration to your Checkpoint config or checkpoint_run() method instead.\n",
      "  warnings.warn(\n",
      "\u001b[0m\n"
     ]
    },
    {
     "data": {
      "application/vnd.jupyter.widget-view+json": {
       "model_id": "525ec84057aa47cc89747111a95481d6",
       "version_major": 2,
       "version_minor": 0
      },
      "text/plain": [
       "Calculating Metrics:   0%|          | 0/1 [00:00<?, ?it/s]"
      ]
     },
     "metadata": {},
     "output_type": "display_data"
    },
    {
     "name": "stdout",
     "output_type": "stream",
     "text": [
      "\u001b[33m/home/sv-cheats-1/Documents/PROJECTS/MLops-project/.venv/lib/python3.11/site-packages/great_expectations/expectations/expectation.py:1518: UserWarning: \u001b[0m\u001b[1;36mresult_format\u001b[33m configured at the Validator-level will not be persisted. Please add the configuration to your Checkpoint config or checkpoint_run() method instead.\n",
      "  warnings.warn(\n",
      "\u001b[0m\n"
     ]
    },
    {
     "data": {
      "application/vnd.jupyter.widget-view+json": {
       "model_id": "80ca6cf3f943479cb7b3a0081bc51dba",
       "version_major": 2,
       "version_minor": 0
      },
      "text/plain": [
       "Calculating Metrics:   0%|          | 0/1 [00:00<?, ?it/s]"
      ]
     },
     "metadata": {},
     "output_type": "display_data"
    },
    {
     "name": "stdout",
     "output_type": "stream",
     "text": [
      "\u001b[33m/home/sv-cheats-1/Documents/PROJECTS/MLops-project/.venv/lib/python3.11/site-packages/great_expectations/expectations/expectation.py:1518: UserWarning: \u001b[0m\u001b[1;36mresult_format\u001b[33m configured at the Validator-level will not be persisted. Please add the configuration to your Checkpoint config or checkpoint_run() method instead.\n",
      "  warnings.warn(\n",
      "\u001b[0m\n"
     ]
    },
    {
     "data": {
      "application/vnd.jupyter.widget-view+json": {
       "model_id": "8d4e1585d4d140fdbda3025e48afde80",
       "version_major": 2,
       "version_minor": 0
      },
      "text/plain": [
       "Calculating Metrics:   0%|          | 0/1 [00:00<?, ?it/s]"
      ]
     },
     "metadata": {},
     "output_type": "display_data"
    }
   ],
   "source": [
    "for column in validator.columns():\n",
    "    validator.expect_column_values_to_be_of_type(column=column, type_=str(X[column].dtype))"
   ]
  },
  {
   "cell_type": "markdown",
   "metadata": {},
   "source": [
    "### 4. Check that cyclic data in encoded correctly"
   ]
  },
  {
   "cell_type": "code",
   "execution_count": 13,
   "metadata": {},
   "outputs": [
    {
     "data": {
      "application/vnd.jupyter.widget-view+json": {
       "model_id": "648ff850e7304c598e44430aca176343",
       "version_major": 2,
       "version_minor": 0
      },
      "text/plain": [
       "Calculating Metrics:   0%|          | 0/2 [00:00<?, ?it/s]"
      ]
     },
     "metadata": {},
     "output_type": "display_data"
    },
    {
     "name": "stdout",
     "output_type": "stream",
     "text": [
      "\u001b[33m/home/sv-cheats-1/Documents/PROJECTS/MLops-project/.venv/lib/python3.11/site-packages/great_expectations/expectations/expectation.py:1518: UserWarning: \u001b[0m\u001b[1;36mresult_format\u001b[33m configured at the Validator-level will not be persisted. Please add the configuration to your Checkpoint config or checkpoint_run() method instead.\n",
      "  warnings.warn(\n",
      "\u001b[0m\n"
     ]
    },
    {
     "data": {
      "application/vnd.jupyter.widget-view+json": {
       "model_id": "28b5e4884ab4498b93ac6f53da782010",
       "version_major": 2,
       "version_minor": 0
      },
      "text/plain": [
       "Calculating Metrics:   0%|          | 0/8 [00:00<?, ?it/s]"
      ]
     },
     "metadata": {},
     "output_type": "display_data"
    },
    {
     "name": "stdout",
     "output_type": "stream",
     "text": [
      "\u001b[33m/home/sv-cheats-1/Documents/PROJECTS/MLops-project/.venv/lib/python3.11/site-packages/great_expectations/expectations/expectation.py:1518: UserWarning: \u001b[0m\u001b[1;36mresult_format\u001b[33m configured at the Validator-level will not be persisted. Please add the configuration to your Checkpoint config or checkpoint_run() method instead.\n",
      "  warnings.warn(\n",
      "\u001b[0m\n"
     ]
    },
    {
     "data": {
      "application/vnd.jupyter.widget-view+json": {
       "model_id": "c4036ee527974b9f858e6775df35db95",
       "version_major": 2,
       "version_minor": 0
      },
      "text/plain": [
       "Calculating Metrics:   0%|          | 0/8 [00:00<?, ?it/s]"
      ]
     },
     "metadata": {},
     "output_type": "display_data"
    },
    {
     "name": "stdout",
     "output_type": "stream",
     "text": [
      "\u001b[33m/home/sv-cheats-1/Documents/PROJECTS/MLops-project/.venv/lib/python3.11/site-packages/great_expectations/expectations/expectation.py:1518: UserWarning: \u001b[0m\u001b[1;36mresult_format\u001b[33m configured at the Validator-level will not be persisted. Please add the configuration to your Checkpoint config or checkpoint_run() method instead.\n",
      "  warnings.warn(\n",
      "\u001b[0m\n"
     ]
    },
    {
     "data": {
      "application/vnd.jupyter.widget-view+json": {
       "model_id": "d321445da3ff44a3904a33c2e5ceb73c",
       "version_major": 2,
       "version_minor": 0
      },
      "text/plain": [
       "Calculating Metrics:   0%|          | 0/8 [00:00<?, ?it/s]"
      ]
     },
     "metadata": {},
     "output_type": "display_data"
    },
    {
     "name": "stdout",
     "output_type": "stream",
     "text": [
      "\u001b[33m/home/sv-cheats-1/Documents/PROJECTS/MLops-project/.venv/lib/python3.11/site-packages/great_expectations/expectations/expectation.py:1518: UserWarning: \u001b[0m\u001b[1;36mresult_format\u001b[33m configured at the Validator-level will not be persisted. Please add the configuration to your Checkpoint config or checkpoint_run() method instead.\n",
      "  warnings.warn(\n",
      "\u001b[0m\n"
     ]
    },
    {
     "data": {
      "application/vnd.jupyter.widget-view+json": {
       "model_id": "bc532bdd332841b59c89d573ea0a4470",
       "version_major": 2,
       "version_minor": 0
      },
      "text/plain": [
       "Calculating Metrics:   0%|          | 0/8 [00:00<?, ?it/s]"
      ]
     },
     "metadata": {},
     "output_type": "display_data"
    },
    {
     "name": "stdout",
     "output_type": "stream",
     "text": [
      "\u001b[33m/home/sv-cheats-1/Documents/PROJECTS/MLops-project/.venv/lib/python3.11/site-packages/great_expectations/expectations/expectation.py:1518: UserWarning: \u001b[0m\u001b[1;36mresult_format\u001b[33m configured at the Validator-level will not be persisted. Please add the configuration to your Checkpoint config or checkpoint_run() method instead.\n",
      "  warnings.warn(\n",
      "\u001b[0m\n"
     ]
    },
    {
     "data": {
      "application/vnd.jupyter.widget-view+json": {
       "model_id": "6a28656fc5624faeae05590a97b772e9",
       "version_major": 2,
       "version_minor": 0
      },
      "text/plain": [
       "Calculating Metrics:   0%|          | 0/8 [00:00<?, ?it/s]"
      ]
     },
     "metadata": {},
     "output_type": "display_data"
    },
    {
     "name": "stdout",
     "output_type": "stream",
     "text": [
      "\u001b[33m/home/sv-cheats-1/Documents/PROJECTS/MLops-project/.venv/lib/python3.11/site-packages/great_expectations/expectations/expectation.py:1518: UserWarning: \u001b[0m\u001b[1;36mresult_format\u001b[33m configured at the Validator-level will not be persisted. Please add the configuration to your Checkpoint config or checkpoint_run() method instead.\n",
      "  warnings.warn(\n",
      "\u001b[0m\n"
     ]
    },
    {
     "data": {
      "application/vnd.jupyter.widget-view+json": {
       "model_id": "25a24ac0dc954de1aa2ce504beeafb7f",
       "version_major": 2,
       "version_minor": 0
      },
      "text/plain": [
       "Calculating Metrics:   0%|          | 0/8 [00:00<?, ?it/s]"
      ]
     },
     "metadata": {},
     "output_type": "display_data"
    },
    {
     "name": "stdout",
     "output_type": "stream",
     "text": [
      "\u001b[33m/home/sv-cheats-1/Documents/PROJECTS/MLops-project/.venv/lib/python3.11/site-packages/great_expectations/expectations/expectation.py:1518: UserWarning: \u001b[0m\u001b[1;36mresult_format\u001b[33m configured at the Validator-level will not be persisted. Please add the configuration to your Checkpoint config or checkpoint_run() method instead.\n",
      "  warnings.warn(\n",
      "\u001b[0m\n"
     ]
    },
    {
     "data": {
      "application/vnd.jupyter.widget-view+json": {
       "model_id": "67d0a6af65824c1e9327940a0e29c6d9",
       "version_major": 2,
       "version_minor": 0
      },
      "text/plain": [
       "Calculating Metrics:   0%|          | 0/8 [00:00<?, ?it/s]"
      ]
     },
     "metadata": {},
     "output_type": "display_data"
    },
    {
     "name": "stdout",
     "output_type": "stream",
     "text": [
      "\u001b[33m/home/sv-cheats-1/Documents/PROJECTS/MLops-project/.venv/lib/python3.11/site-packages/great_expectations/expectations/expectation.py:1518: UserWarning: \u001b[0m\u001b[1;36mresult_format\u001b[33m configured at the Validator-level will not be persisted. Please add the configuration to your Checkpoint config or checkpoint_run() method instead.\n",
      "  warnings.warn(\n",
      "\u001b[0m\n"
     ]
    },
    {
     "data": {
      "application/vnd.jupyter.widget-view+json": {
       "model_id": "0f3d81c30ca843ee986b3f10e54aa70a",
       "version_major": 2,
       "version_minor": 0
      },
      "text/plain": [
       "Calculating Metrics:   0%|          | 0/8 [00:00<?, ?it/s]"
      ]
     },
     "metadata": {},
     "output_type": "display_data"
    },
    {
     "name": "stdout",
     "output_type": "stream",
     "text": [
      "\u001b[33m/home/sv-cheats-1/Documents/PROJECTS/MLops-project/.venv/lib/python3.11/site-packages/great_expectations/expectations/expectation.py:1518: UserWarning: \u001b[0m\u001b[1;36mresult_format\u001b[33m configured at the Validator-level will not be persisted. Please add the configuration to your Checkpoint config or checkpoint_run() method instead.\n",
      "  warnings.warn(\n",
      "\u001b[0m\n"
     ]
    },
    {
     "data": {
      "application/vnd.jupyter.widget-view+json": {
       "model_id": "d224c14cc834417e832bd1eaf647267f",
       "version_major": 2,
       "version_minor": 0
      },
      "text/plain": [
       "Calculating Metrics:   0%|          | 0/8 [00:00<?, ?it/s]"
      ]
     },
     "metadata": {},
     "output_type": "display_data"
    },
    {
     "name": "stdout",
     "output_type": "stream",
     "text": [
      "\u001b[33m/home/sv-cheats-1/Documents/PROJECTS/MLops-project/.venv/lib/python3.11/site-packages/great_expectations/expectations/expectation.py:1518: UserWarning: \u001b[0m\u001b[1;36mresult_format\u001b[33m configured at the Validator-level will not be persisted. Please add the configuration to your Checkpoint config or checkpoint_run() method instead.\n",
      "  warnings.warn(\n",
      "\u001b[0m\n"
     ]
    },
    {
     "data": {
      "application/vnd.jupyter.widget-view+json": {
       "model_id": "75fbeb22a401445e8c70abf159e16141",
       "version_major": 2,
       "version_minor": 0
      },
      "text/plain": [
       "Calculating Metrics:   0%|          | 0/8 [00:00<?, ?it/s]"
      ]
     },
     "metadata": {},
     "output_type": "display_data"
    },
    {
     "name": "stdout",
     "output_type": "stream",
     "text": [
      "\u001b[33m/home/sv-cheats-1/Documents/PROJECTS/MLops-project/.venv/lib/python3.11/site-packages/great_expectations/expectations/expectation.py:1518: UserWarning: \u001b[0m\u001b[1;36mresult_format\u001b[33m configured at the Validator-level will not be persisted. Please add the configuration to your Checkpoint config or checkpoint_run() method instead.\n",
      "  warnings.warn(\n",
      "\u001b[0m\n"
     ]
    },
    {
     "data": {
      "application/vnd.jupyter.widget-view+json": {
       "model_id": "391e619e0da14419b67db44b7f2d02d6",
       "version_major": 2,
       "version_minor": 0
      },
      "text/plain": [
       "Calculating Metrics:   0%|          | 0/8 [00:00<?, ?it/s]"
      ]
     },
     "metadata": {},
     "output_type": "display_data"
    },
    {
     "name": "stdout",
     "output_type": "stream",
     "text": [
      "\u001b[33m/home/sv-cheats-1/Documents/PROJECTS/MLops-project/.venv/lib/python3.11/site-packages/great_expectations/expectations/expectation.py:1518: UserWarning: \u001b[0m\u001b[1;36mresult_format\u001b[33m configured at the Validator-level will not be persisted. Please add the configuration to your Checkpoint config or checkpoint_run() method instead.\n",
      "  warnings.warn(\n",
      "\u001b[0m\n"
     ]
    },
    {
     "data": {
      "application/vnd.jupyter.widget-view+json": {
       "model_id": "550c9789c4e54d49bceed91b7fbe4c42",
       "version_major": 2,
       "version_minor": 0
      },
      "text/plain": [
       "Calculating Metrics:   0%|          | 0/8 [00:00<?, ?it/s]"
      ]
     },
     "metadata": {},
     "output_type": "display_data"
    },
    {
     "name": "stdout",
     "output_type": "stream",
     "text": [
      "\u001b[33m/home/sv-cheats-1/Documents/PROJECTS/MLops-project/.venv/lib/python3.11/site-packages/great_expectations/expectations/expectation.py:1518: UserWarning: \u001b[0m\u001b[1;36mresult_format\u001b[33m configured at the Validator-level will not be persisted. Please add the configuration to your Checkpoint config or checkpoint_run() method instead.\n",
      "  warnings.warn(\n",
      "\u001b[0m\n"
     ]
    },
    {
     "data": {
      "application/vnd.jupyter.widget-view+json": {
       "model_id": "b02069733c9441ce85f804b7ae04d97e",
       "version_major": 2,
       "version_minor": 0
      },
      "text/plain": [
       "Calculating Metrics:   0%|          | 0/8 [00:00<?, ?it/s]"
      ]
     },
     "metadata": {},
     "output_type": "display_data"
    },
    {
     "name": "stdout",
     "output_type": "stream",
     "text": [
      "\u001b[33m/home/sv-cheats-1/Documents/PROJECTS/MLops-project/.venv/lib/python3.11/site-packages/great_expectations/expectations/expectation.py:1518: UserWarning: \u001b[0m\u001b[1;36mresult_format\u001b[33m configured at the Validator-level will not be persisted. Please add the configuration to your Checkpoint config or checkpoint_run() method instead.\n",
      "  warnings.warn(\n",
      "\u001b[0m\n"
     ]
    },
    {
     "data": {
      "application/vnd.jupyter.widget-view+json": {
       "model_id": "e9c442ea386546eb86fe33d16ba30f16",
       "version_major": 2,
       "version_minor": 0
      },
      "text/plain": [
       "Calculating Metrics:   0%|          | 0/8 [00:00<?, ?it/s]"
      ]
     },
     "metadata": {},
     "output_type": "display_data"
    },
    {
     "name": "stdout",
     "output_type": "stream",
     "text": [
      "\u001b[33m/home/sv-cheats-1/Documents/PROJECTS/MLops-project/.venv/lib/python3.11/site-packages/great_expectations/expectations/expectation.py:1518: UserWarning: \u001b[0m\u001b[1;36mresult_format\u001b[33m configured at the Validator-level will not be persisted. Please add the configuration to your Checkpoint config or checkpoint_run() method instead.\n",
      "  warnings.warn(\n",
      "\u001b[0m\n"
     ]
    },
    {
     "data": {
      "application/vnd.jupyter.widget-view+json": {
       "model_id": "7c21591d4caa4792b9843f84fbd97593",
       "version_major": 2,
       "version_minor": 0
      },
      "text/plain": [
       "Calculating Metrics:   0%|          | 0/8 [00:00<?, ?it/s]"
      ]
     },
     "metadata": {},
     "output_type": "display_data"
    },
    {
     "name": "stdout",
     "output_type": "stream",
     "text": [
      "\u001b[33m/home/sv-cheats-1/Documents/PROJECTS/MLops-project/.venv/lib/python3.11/site-packages/great_expectations/expectations/expectation.py:1518: UserWarning: \u001b[0m\u001b[1;36mresult_format\u001b[33m configured at the Validator-level will not be persisted. Please add the configuration to your Checkpoint config or checkpoint_run() method instead.\n",
      "  warnings.warn(\n",
      "\u001b[0m\n"
     ]
    },
    {
     "data": {
      "application/vnd.jupyter.widget-view+json": {
       "model_id": "39675ba407db4e70965fac25614c3062",
       "version_major": 2,
       "version_minor": 0
      },
      "text/plain": [
       "Calculating Metrics:   0%|          | 0/8 [00:00<?, ?it/s]"
      ]
     },
     "metadata": {},
     "output_type": "display_data"
    },
    {
     "name": "stdout",
     "output_type": "stream",
     "text": [
      "\u001b[33m/home/sv-cheats-1/Documents/PROJECTS/MLops-project/.venv/lib/python3.11/site-packages/great_expectations/expectations/expectation.py:1518: UserWarning: \u001b[0m\u001b[1;36mresult_format\u001b[33m configured at the Validator-level will not be persisted. Please add the configuration to your Checkpoint config or checkpoint_run() method instead.\n",
      "  warnings.warn(\n",
      "\u001b[0m\n"
     ]
    },
    {
     "data": {
      "application/vnd.jupyter.widget-view+json": {
       "model_id": "1d1dd5b1852641b09fdf02328fc6ba4a",
       "version_major": 2,
       "version_minor": 0
      },
      "text/plain": [
       "Calculating Metrics:   0%|          | 0/8 [00:00<?, ?it/s]"
      ]
     },
     "metadata": {},
     "output_type": "display_data"
    },
    {
     "name": "stdout",
     "output_type": "stream",
     "text": [
      "\u001b[33m/home/sv-cheats-1/Documents/PROJECTS/MLops-project/.venv/lib/python3.11/site-packages/great_expectations/expectations/expectation.py:1518: UserWarning: \u001b[0m\u001b[1;36mresult_format\u001b[33m configured at the Validator-level will not be persisted. Please add the configuration to your Checkpoint config or checkpoint_run() method instead.\n",
      "  warnings.warn(\n",
      "\u001b[0m\n"
     ]
    },
    {
     "data": {
      "application/vnd.jupyter.widget-view+json": {
       "model_id": "0311c0c26e954863baee6636fe2cc8c0",
       "version_major": 2,
       "version_minor": 0
      },
      "text/plain": [
       "Calculating Metrics:   0%|          | 0/8 [00:00<?, ?it/s]"
      ]
     },
     "metadata": {},
     "output_type": "display_data"
    },
    {
     "name": "stdout",
     "output_type": "stream",
     "text": [
      "\u001b[33m/home/sv-cheats-1/Documents/PROJECTS/MLops-project/.venv/lib/python3.11/site-packages/great_expectations/expectations/expectation.py:1518: UserWarning: \u001b[0m\u001b[1;36mresult_format\u001b[33m configured at the Validator-level will not be persisted. Please add the configuration to your Checkpoint config or checkpoint_run() method instead.\n",
      "  warnings.warn(\n",
      "\u001b[0m\n"
     ]
    },
    {
     "data": {
      "application/vnd.jupyter.widget-view+json": {
       "model_id": "40caea388de24936a611f1c78f7d0353",
       "version_major": 2,
       "version_minor": 0
      },
      "text/plain": [
       "Calculating Metrics:   0%|          | 0/8 [00:00<?, ?it/s]"
      ]
     },
     "metadata": {},
     "output_type": "display_data"
    },
    {
     "name": "stdout",
     "output_type": "stream",
     "text": [
      "\u001b[33m/home/sv-cheats-1/Documents/PROJECTS/MLops-project/.venv/lib/python3.11/site-packages/great_expectations/expectations/expectation.py:1518: UserWarning: \u001b[0m\u001b[1;36mresult_format\u001b[33m configured at the Validator-level will not be persisted. Please add the configuration to your Checkpoint config or checkpoint_run() method instead.\n",
      "  warnings.warn(\n",
      "\u001b[0m\n"
     ]
    },
    {
     "data": {
      "application/vnd.jupyter.widget-view+json": {
       "model_id": "2d878b2f798c46988a7ace957ceb5ebe",
       "version_major": 2,
       "version_minor": 0
      },
      "text/plain": [
       "Calculating Metrics:   0%|          | 0/8 [00:00<?, ?it/s]"
      ]
     },
     "metadata": {},
     "output_type": "display_data"
    }
   ],
   "source": [
    "for column in filter(lambda c: c.endswith('cos') or c.endswith('sin'), validator.columns()):\n",
    "    validator.expect_column_values_to_be_between(\n",
    "        column=column,\n",
    "        min_value=-1,\n",
    "        max_value=1,\n",
    ")"
   ]
  },
  {
   "cell_type": "code",
   "execution_count": 14,
   "metadata": {},
   "outputs": [
    {
     "name": "stdout",
     "output_type": "stream",
     "text": [
      "Total number of expectations: 112\n"
     ]
    }
   ],
   "source": [
    "print(\"Total number of expectations:\", len(validator.expectation_suite.expectations))"
   ]
  },
  {
   "cell_type": "code",
   "execution_count": 15,
   "metadata": {},
   "outputs": [
    {
     "name": "stdout",
     "output_type": "stream",
     "text": [
      "\u001b[1;35m\t112 expectation(s) included in expectation_suite.\u001b[0m\n"
     ]
    }
   ],
   "source": [
    "# Save expectations and checkpoint\n",
    "validator.save_expectation_suite(discard_failed_expectations=False)\n",
    "checkpoint = context.add_or_update_checkpoint(\n",
    "    name=\"transformations_checkpoint\",\n",
    "    validator=validator,\n",
    ")"
   ]
  },
  {
   "cell_type": "code",
   "execution_count": 16,
   "metadata": {},
   "outputs": [
    {
     "name": "stdout",
     "output_type": "stream",
     "text": [
      "\u001b[1;35m\t112 expectation(s) included in expectation_suite.\u001b[0m\n"
     ]
    },
    {
     "data": {
      "application/vnd.jupyter.widget-view+json": {
       "model_id": "3a6a7611d89249fdab568657d05e4e34",
       "version_major": 2,
       "version_minor": 0
      },
      "text/plain": [
       "Calculating Metrics:   0%|          | 0/333 [00:00<?, ?it/s]"
      ]
     },
     "metadata": {},
     "output_type": "display_data"
    },
    {
     "name": "stdout",
     "output_type": "stream",
     "text": [
      "Data quality verification passed successfully\n"
     ]
    }
   ],
   "source": [
    "checkpoint_result = checkpoint.run()\n",
    "\n",
    "# Open report in browser\n",
    "context.view_validation_result(checkpoint_result)\n",
    "\n",
    "if checkpoint_result.success:\n",
    "    print(\"Data quality verification passed successfully\")\n",
    "else:\n",
    "    print(\"Data quality verification failed\")"
   ]
  }
 ],
 "metadata": {
  "kernelspec": {
   "display_name": ".venv",
   "language": "python",
   "name": "python3"
  },
  "language_info": {
   "codemirror_mode": {
    "name": "ipython",
    "version": 3
   },
   "file_extension": ".py",
   "mimetype": "text/x-python",
   "name": "python",
   "nbconvert_exporter": "python",
   "pygments_lexer": "ipython3",
   "version": "3.11.9"
  }
 },
 "nbformat": 4,
 "nbformat_minor": 2
}
