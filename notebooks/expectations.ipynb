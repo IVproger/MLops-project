{
 "cells": [
  {
   "cell_type": "code",
   "execution_count": 14,
   "metadata": {},
   "outputs": [],
   "source": [
    "# allow to import modules from the project root directory\n",
    "import sys\n",
    "import os\n",
    "\n",
    "# Add the project root directory to sys.path\n",
    "sys.path.append(os.path.abspath(os.path.join(os.getcwd(), '..')))"
   ]
  },
  {
   "cell_type": "code",
   "execution_count": 15,
   "metadata": {},
   "outputs": [],
   "source": [
    "import great_expectations as gx"
   ]
  },
  {
   "cell_type": "code",
   "execution_count": 16,
   "metadata": {},
   "outputs": [
    {
     "name": "stdout",
     "output_type": "stream",
     "text": [
      "\u001b[1;35mFileDataContext loading fluent config\u001b[0m\n",
      "\u001b[1;35mLoading 'datasources' ->\n",
      "[{'assets': [...], 'name': 'sample_data', 'type': 'pandas'}]\u001b[0m\n",
      "\u001b[1;35m_PandasDataAsset.dict() - missing \u001b[0m\u001b[1;36mconfig_provider\u001b[1;35m, skipping config substitution\u001b[0m\n",
      "\u001b[1;35mLoaded 'sample_data' from fluent config\u001b[0m\n",
      "\u001b[1;35mSaving 1 Fluent Datasources to /home/sv-cheats-1/Documents/PROJECTS/MLops-project/notebooks/../services/gx/great_expectations.yml\u001b[0m\n",
      "\u001b[1;35mPandasDatasource.dict() - missing \u001b[0m\u001b[1;36mconfig_provider\u001b[1;35m, skipping config substitution\u001b[0m\n",
      "\u001b[1;35mSaving 1 Fluent Datasources to /home/sv-cheats-1/Documents/PROJECTS/MLops-project/notebooks/../services/gx/great_expectations.yml\u001b[0m\n",
      "\u001b[1;35mCSVAsset.dict() - missing \u001b[0m\u001b[1;36mconfig_provider\u001b[1;35m, skipping config substitution\u001b[0m\n",
      "\u001b[1;35mPandasDatasource.dict() - missing \u001b[0m\u001b[1;36mconfig_provider\u001b[1;35m, skipping config substitution\u001b[0m\n"
     ]
    }
   ],
   "source": [
    "# Create Great Expectations context and load data\n",
    "from data_quality import load_context_and_sample_data\n",
    "\n",
    "\n",
    "context, da = load_context_and_sample_data(\"../services\", \"../data/samples/sample.csv\")\n",
    "batch_request = da.build_batch_request()"
   ]
  },
  {
   "cell_type": "code",
   "execution_count": 17,
   "metadata": {},
   "outputs": [
    {
     "data": {
      "text/plain": [
       "{\n",
       "  \"anonymous_usage_statistics\": {\n",
       "    \"usage_statistics_url\": \"https://stats.greatexpectations.io/great_expectations/v1/usage_statistics\",\n",
       "    \"explicit_url\": false,\n",
       "    \"enabled\": true,\n",
       "    \"data_context_id\": \"15787a4b-eb43-4f8e-ba28-9add2ef7a91a\",\n",
       "    \"explicit_id\": true\n",
       "  },\n",
       "  \"checkpoint_store_name\": \"checkpoint_store\",\n",
       "  \"config_variables_file_path\": \"uncommitted/config_variables.yml\",\n",
       "  \"config_version\": 3.0,\n",
       "  \"data_docs_sites\": {\n",
       "    \"local_site\": {\n",
       "      \"class_name\": \"SiteBuilder\",\n",
       "      \"show_how_to_buttons\": true,\n",
       "      \"store_backend\": {\n",
       "        \"class_name\": \"TupleFilesystemStoreBackend\",\n",
       "        \"base_directory\": \"uncommitted/data_docs/local_site/\"\n",
       "      },\n",
       "      \"site_index_builder\": {\n",
       "        \"class_name\": \"DefaultSiteIndexBuilder\"\n",
       "      }\n",
       "    }\n",
       "  },\n",
       "  \"datasources\": {},\n",
       "  \"evaluation_parameter_store_name\": \"evaluation_parameter_store\",\n",
       "  \"expectations_store_name\": \"expectations_store\",\n",
       "  \"fluent_datasources\": {\n",
       "    \"sample_data\": {\n",
       "      \"type\": \"pandas\",\n",
       "      \"assets\": {\n",
       "        \"sample_file\": {\n",
       "          \"type\": \"dataframe\",\n",
       "          \"batch_metadata\": {}\n",
       "        }\n",
       "      }\n",
       "    }\n",
       "  },\n",
       "  \"include_rendered_content\": {\n",
       "    \"globally\": false,\n",
       "    \"expectation_suite\": false,\n",
       "    \"expectation_validation_result\": false\n",
       "  },\n",
       "  \"plugins_directory\": \"plugins/\",\n",
       "  \"stores\": {\n",
       "    \"expectations_store\": {\n",
       "      \"class_name\": \"ExpectationsStore\",\n",
       "      \"store_backend\": {\n",
       "        \"class_name\": \"TupleFilesystemStoreBackend\",\n",
       "        \"base_directory\": \"expectations/\"\n",
       "      }\n",
       "    },\n",
       "    \"validations_store\": {\n",
       "      \"class_name\": \"ValidationsStore\",\n",
       "      \"store_backend\": {\n",
       "        \"class_name\": \"TupleFilesystemStoreBackend\",\n",
       "        \"base_directory\": \"uncommitted/validations/\"\n",
       "      }\n",
       "    },\n",
       "    \"evaluation_parameter_store\": {\n",
       "      \"class_name\": \"EvaluationParameterStore\"\n",
       "    },\n",
       "    \"checkpoint_store\": {\n",
       "      \"class_name\": \"CheckpointStore\",\n",
       "      \"store_backend\": {\n",
       "        \"class_name\": \"TupleFilesystemStoreBackend\",\n",
       "        \"suppress_store_backend_id\": true,\n",
       "        \"base_directory\": \"checkpoints/\"\n",
       "      }\n",
       "    },\n",
       "    \"profiler_store\": {\n",
       "      \"class_name\": \"ProfilerStore\",\n",
       "      \"store_backend\": {\n",
       "        \"class_name\": \"TupleFilesystemStoreBackend\",\n",
       "        \"suppress_store_backend_id\": true,\n",
       "        \"base_directory\": \"profilers/\"\n",
       "      }\n",
       "    }\n",
       "  },\n",
       "  \"validations_store_name\": \"validations_store\"\n",
       "}"
      ]
     },
     "execution_count": 17,
     "metadata": {},
     "output_type": "execute_result"
    }
   ],
   "source": [
    "context"
   ]
  },
  {
   "cell_type": "code",
   "execution_count": 18,
   "metadata": {},
   "outputs": [],
   "source": [
    "validator = context.get_validator(\n",
    "    batch_request=batch_request,\n",
    ")\n",
    "# validator.head()"
   ]
  },
  {
   "cell_type": "code",
   "execution_count": 20,
   "metadata": {},
   "outputs": [],
   "source": [
    "from pandas import read_csv\n",
    "from src.data import preprocess_data\n",
    "\n",
    "\n",
    "df = read_csv(\n",
    "    context.get_datasource(\"sample_data\").get_asset(\"sample_file\").filepath_or_buffer\n",
    ")\n",
    "X, y = preprocess_data(df)"
   ]
  },
  {
   "cell_type": "code",
   "execution_count": 21,
   "metadata": {},
   "outputs": [
    {
     "name": "stdout",
     "output_type": "stream",
     "text": [
      "\u001b[1;35mSaving 2 Fluent Datasources to /home/sv-cheats-1/Documents/PROJECTS/MLops-project/notebooks/../services/gx/great_expectations.yml\u001b[0m\n",
      "\u001b[1;35mCSVAsset.dict() - missing \u001b[0m\u001b[1;36mconfig_provider\u001b[1;35m, skipping config substitution\u001b[0m\n",
      "\u001b[1;35mPandasDatasource.dict() - missing \u001b[0m\u001b[1;36mconfig_provider\u001b[1;35m, skipping config substitution\u001b[0m\n",
      "\u001b[1;35mPandasDatasource.dict() - missing \u001b[0m\u001b[1;36mconfig_provider\u001b[1;35m, skipping config substitution\u001b[0m\n"
     ]
    }
   ],
   "source": [
    "ds = context.sources.add_or_update_pandas(name=\"transformed_sample\")"
   ]
  },
  {
   "cell_type": "code",
   "execution_count": 22,
   "metadata": {},
   "outputs": [
    {
     "name": "stdout",
     "output_type": "stream",
     "text": [
      "\u001b[1;35mSaving 2 Fluent Datasources to /home/sv-cheats-1/Documents/PROJECTS/MLops-project/notebooks/../services/gx/great_expectations.yml\u001b[0m\n",
      "\u001b[1;35mCSVAsset.dict() - missing \u001b[0m\u001b[1;36mconfig_provider\u001b[1;35m, skipping config substitution\u001b[0m\n",
      "\u001b[1;35mPandasDatasource.dict() - missing \u001b[0m\u001b[1;36mconfig_provider\u001b[1;35m, skipping config substitution\u001b[0m\n",
      "\u001b[1;35mDataFrameAsset.dict() - missing \u001b[0m\u001b[1;36mconfig_provider\u001b[1;35m, skipping config substitution\u001b[0m\n",
      "\u001b[1;35mPandasDatasource.dict() - missing \u001b[0m\u001b[1;36mconfig_provider\u001b[1;35m, skipping config substitution\u001b[0m\n",
      "\u001b[1;35mSaving 2 Fluent Datasources to /home/sv-cheats-1/Documents/PROJECTS/MLops-project/notebooks/../services/gx/great_expectations.yml\u001b[0m\n",
      "\u001b[1;35mCSVAsset.dict() - missing \u001b[0m\u001b[1;36mconfig_provider\u001b[1;35m, skipping config substitution\u001b[0m\n",
      "\u001b[1;35mPandasDatasource.dict() - missing \u001b[0m\u001b[1;36mconfig_provider\u001b[1;35m, skipping config substitution\u001b[0m\n",
      "\u001b[1;35mDataFrameAsset.dict() - missing \u001b[0m\u001b[1;36mconfig_provider\u001b[1;35m, skipping config substitution\u001b[0m\n",
      "\u001b[1;35mDataFrameAsset.dict() - missing \u001b[0m\u001b[1;36mconfig_provider\u001b[1;35m, skipping config substitution\u001b[0m\n",
      "\u001b[1;35mPandasDatasource.dict() - missing \u001b[0m\u001b[1;36mconfig_provider\u001b[1;35m, skipping config substitution\u001b[0m\n"
     ]
    }
   ],
   "source": [
    "ds_X = ds.add_dataframe_asset(name=\"X\", dataframe=X)\n",
    "ds_y = ds.add_dataframe_asset(name=\"y\", dataframe=y)"
   ]
  },
  {
   "cell_type": "code",
   "execution_count": 25,
   "metadata": {},
   "outputs": [],
   "source": [
    "data_asset = context.get_datasource(\"transformed_sample\").get_asset(\"X\")\n",
    "batch_request = data_asset.build_batch_request()"
   ]
  },
  {
   "cell_type": "code",
   "execution_count": 26,
   "metadata": {},
   "outputs": [
    {
     "data": {
      "text/plain": [
       "{\n",
       "  \"expectation_suite_name\": \"feature_transform\",\n",
       "  \"ge_cloud_id\": null,\n",
       "  \"expectations\": [],\n",
       "  \"data_asset_type\": null,\n",
       "  \"meta\": {\n",
       "    \"great_expectations_version\": \"0.18.18\"\n",
       "  }\n",
       "}"
      ]
     },
     "execution_count": 26,
     "metadata": {},
     "output_type": "execute_result"
    }
   ],
   "source": [
    "context.add_or_update_expectation_suite(\"feature_transform\")"
   ]
  },
  {
   "cell_type": "code",
   "execution_count": 28,
   "metadata": {},
   "outputs": [
    {
     "data": {
      "application/vnd.jupyter.widget-view+json": {
       "model_id": "4dfa018b216942e0a1d92ec7f7fa4b3f",
       "version_major": 2,
       "version_minor": 0
      },
      "text/plain": [
       "Calculating Metrics:   0%|          | 0/1 [00:00<?, ?it/s]"
      ]
     },
     "metadata": {},
     "output_type": "display_data"
    },
    {
     "data": {
      "text/html": [
       "<div>\n",
       "<style scoped>\n",
       "    .dataframe tbody tr th:only-of-type {\n",
       "        vertical-align: middle;\n",
       "    }\n",
       "\n",
       "    .dataframe tbody tr th {\n",
       "        vertical-align: top;\n",
       "    }\n",
       "\n",
       "    .dataframe thead th {\n",
       "        text-align: right;\n",
       "    }\n",
       "</style>\n",
       "<table border=\"1\" class=\"dataframe\">\n",
       "  <thead>\n",
       "    <tr style=\"text-align: right;\">\n",
       "      <th></th>\n",
       "      <th>Airline</th>\n",
       "      <th>Origin</th>\n",
       "      <th>Dest</th>\n",
       "      <th>Distance</th>\n",
       "      <th>DayOfWeek</th>\n",
       "      <th>DOT_ID_Marketing_Airline</th>\n",
       "      <th>Flight_Number_Marketing_Airline</th>\n",
       "      <th>DOT_ID_Operating_Airline</th>\n",
       "      <th>Flight_Number_Operating_Airline</th>\n",
       "      <th>OriginAirportID</th>\n",
       "      <th>...</th>\n",
       "      <th>CRSElapsedTimeHH_sin</th>\n",
       "      <th>CRSElapsedTimeHH_cos</th>\n",
       "      <th>CRSElapsedTimeMM_sin</th>\n",
       "      <th>CRSElapsedTimeMM_cos</th>\n",
       "      <th>Month_sin</th>\n",
       "      <th>Month_cos</th>\n",
       "      <th>DayofMonth_sin</th>\n",
       "      <th>DayofMonth_cos</th>\n",
       "      <th>Quarter_sin</th>\n",
       "      <th>Quarter_cos</th>\n",
       "    </tr>\n",
       "  </thead>\n",
       "  <tbody>\n",
       "    <tr>\n",
       "      <th>0</th>\n",
       "      <td>561</td>\n",
       "      <td>43</td>\n",
       "      <td>277</td>\n",
       "      <td>472.0</td>\n",
       "      <td>1</td>\n",
       "      <td>19977</td>\n",
       "      <td>2655</td>\n",
       "      <td>19977</td>\n",
       "      <td>2655</td>\n",
       "      <td>13871</td>\n",
       "      <td>...</td>\n",
       "      <td>0.000000</td>\n",
       "      <td>1.000000</td>\n",
       "      <td>-0.743145</td>\n",
       "      <td>-0.669131</td>\n",
       "      <td>1.224647e-16</td>\n",
       "      <td>-1.0</td>\n",
       "      <td>-0.790776</td>\n",
       "      <td>-0.612106</td>\n",
       "      <td>1.224647e-16</td>\n",
       "      <td>-1.0</td>\n",
       "    </tr>\n",
       "    <tr>\n",
       "      <th>1</th>\n",
       "      <td>561</td>\n",
       "      <td>895</td>\n",
       "      <td>62</td>\n",
       "      <td>1969.0</td>\n",
       "      <td>1</td>\n",
       "      <td>19977</td>\n",
       "      <td>2654</td>\n",
       "      <td>19977</td>\n",
       "      <td>2654</td>\n",
       "      <td>10693</td>\n",
       "      <td>...</td>\n",
       "      <td>0.500000</td>\n",
       "      <td>0.866025</td>\n",
       "      <td>0.500000</td>\n",
       "      <td>-0.866025</td>\n",
       "      <td>1.224647e-16</td>\n",
       "      <td>-1.0</td>\n",
       "      <td>-0.790776</td>\n",
       "      <td>-0.612106</td>\n",
       "      <td>1.224647e-16</td>\n",
       "      <td>-1.0</td>\n",
       "    </tr>\n",
       "    <tr>\n",
       "      <th>2</th>\n",
       "      <td>561</td>\n",
       "      <td>424</td>\n",
       "      <td>241</td>\n",
       "      <td>925.0</td>\n",
       "      <td>1</td>\n",
       "      <td>19977</td>\n",
       "      <td>2653</td>\n",
       "      <td>19977</td>\n",
       "      <td>2653</td>\n",
       "      <td>12266</td>\n",
       "      <td>...</td>\n",
       "      <td>0.258819</td>\n",
       "      <td>0.965926</td>\n",
       "      <td>0.587785</td>\n",
       "      <td>0.809017</td>\n",
       "      <td>1.224647e-16</td>\n",
       "      <td>-1.0</td>\n",
       "      <td>-0.790776</td>\n",
       "      <td>-0.612106</td>\n",
       "      <td>1.224647e-16</td>\n",
       "      <td>-1.0</td>\n",
       "    </tr>\n",
       "    <tr>\n",
       "      <th>3</th>\n",
       "      <td>561</td>\n",
       "      <td>33</td>\n",
       "      <td>62</td>\n",
       "      <td>337.0</td>\n",
       "      <td>1</td>\n",
       "      <td>19977</td>\n",
       "      <td>2652</td>\n",
       "      <td>19977</td>\n",
       "      <td>2652</td>\n",
       "      <td>12892</td>\n",
       "      <td>...</td>\n",
       "      <td>0.000000</td>\n",
       "      <td>1.000000</td>\n",
       "      <td>-0.809017</td>\n",
       "      <td>-0.587785</td>\n",
       "      <td>1.224647e-16</td>\n",
       "      <td>-1.0</td>\n",
       "      <td>-0.790776</td>\n",
       "      <td>-0.612106</td>\n",
       "      <td>1.224647e-16</td>\n",
       "      <td>-1.0</td>\n",
       "    </tr>\n",
       "    <tr>\n",
       "      <th>4</th>\n",
       "      <td>561</td>\n",
       "      <td>62</td>\n",
       "      <td>43</td>\n",
       "      <td>2704.0</td>\n",
       "      <td>1</td>\n",
       "      <td>19977</td>\n",
       "      <td>2652</td>\n",
       "      <td>19977</td>\n",
       "      <td>2652</td>\n",
       "      <td>14771</td>\n",
       "      <td>...</td>\n",
       "      <td>0.707107</td>\n",
       "      <td>0.707107</td>\n",
       "      <td>-0.994522</td>\n",
       "      <td>0.104528</td>\n",
       "      <td>1.224647e-16</td>\n",
       "      <td>-1.0</td>\n",
       "      <td>-0.790776</td>\n",
       "      <td>-0.612106</td>\n",
       "      <td>1.224647e-16</td>\n",
       "      <td>-1.0</td>\n",
       "    </tr>\n",
       "  </tbody>\n",
       "</table>\n",
       "<p>5 rows × 41 columns</p>\n",
       "</div>"
      ],
      "text/plain": [
       "   Airline  Origin  Dest  Distance  DayOfWeek  DOT_ID_Marketing_Airline  \\\n",
       "0      561      43   277     472.0          1                     19977   \n",
       "1      561     895    62    1969.0          1                     19977   \n",
       "2      561     424   241     925.0          1                     19977   \n",
       "3      561      33    62     337.0          1                     19977   \n",
       "4      561      62    43    2704.0          1                     19977   \n",
       "\n",
       "   Flight_Number_Marketing_Airline  DOT_ID_Operating_Airline  \\\n",
       "0                             2655                     19977   \n",
       "1                             2654                     19977   \n",
       "2                             2653                     19977   \n",
       "3                             2652                     19977   \n",
       "4                             2652                     19977   \n",
       "\n",
       "   Flight_Number_Operating_Airline  OriginAirportID  ...  \\\n",
       "0                             2655            13871  ...   \n",
       "1                             2654            10693  ...   \n",
       "2                             2653            12266  ...   \n",
       "3                             2652            12892  ...   \n",
       "4                             2652            14771  ...   \n",
       "\n",
       "   CRSElapsedTimeHH_sin  CRSElapsedTimeHH_cos  CRSElapsedTimeMM_sin  \\\n",
       "0              0.000000              1.000000             -0.743145   \n",
       "1              0.500000              0.866025              0.500000   \n",
       "2              0.258819              0.965926              0.587785   \n",
       "3              0.000000              1.000000             -0.809017   \n",
       "4              0.707107              0.707107             -0.994522   \n",
       "\n",
       "   CRSElapsedTimeMM_cos     Month_sin  Month_cos  DayofMonth_sin  \\\n",
       "0             -0.669131  1.224647e-16       -1.0       -0.790776   \n",
       "1             -0.866025  1.224647e-16       -1.0       -0.790776   \n",
       "2              0.809017  1.224647e-16       -1.0       -0.790776   \n",
       "3             -0.587785  1.224647e-16       -1.0       -0.790776   \n",
       "4              0.104528  1.224647e-16       -1.0       -0.790776   \n",
       "\n",
       "   DayofMonth_cos   Quarter_sin  Quarter_cos  \n",
       "0       -0.612106  1.224647e-16         -1.0  \n",
       "1       -0.612106  1.224647e-16         -1.0  \n",
       "2       -0.612106  1.224647e-16         -1.0  \n",
       "3       -0.612106  1.224647e-16         -1.0  \n",
       "4       -0.612106  1.224647e-16         -1.0  \n",
       "\n",
       "[5 rows x 41 columns]"
      ]
     },
     "execution_count": 28,
     "metadata": {},
     "output_type": "execute_result"
    }
   ],
   "source": [
    "validator = context.get_validator(\n",
    "    batch_request=batch_request,\n",
    "    expectation_suite_name=\"feature_transform\",\n",
    ")\n",
    "validator.head()"
   ]
  },
  {
   "cell_type": "markdown",
   "metadata": {},
   "source": [
    "### 1. Check that no null values exist"
   ]
  },
  {
   "cell_type": "code",
   "execution_count": null,
   "metadata": {},
   "outputs": [],
   "source": [
    "for column in validator.columns():\n",
    "    validator.expect_column_values_to_not_be_null(column=column)"
   ]
  },
  {
   "cell_type": "markdown",
   "metadata": {},
   "source": [
    "### 2. Check that columns that were hashed are hashed properly"
   ]
  },
  {
   "cell_type": "code",
   "execution_count": null,
   "metadata": {},
   "outputs": [],
   "source": [
    "from omegaconf import DictConfig, OmegaConf\n",
    "from hydra import initialize, compose\n",
    "\n",
    "with initialize(version_base=None, config_path=\"../configs\"):\n",
    "    cfg = compose(config_name=\"data_transformations\")\n",
    "    for column in cfg[\"hash_features\"]:\n",
    "        validator.expect_column_values_to_be_between(\n",
    "            column=column,\n",
    "            min_value=0,\n",
    "            max_value=999,\n",
    "        )"
   ]
  },
  {
   "cell_type": "markdown",
   "metadata": {},
   "source": [
    "### 3. Check that datatypes are correct (everything is a number) "
   ]
  },
  {
   "cell_type": "code",
   "execution_count": null,
   "metadata": {},
   "outputs": [],
   "source": [
    "for column in validator.columns():\n",
    "    validator.expect_column_values_to_be_of_type(column=column, type_=str(X[column].dtype))"
   ]
  },
  {
   "cell_type": "markdown",
   "metadata": {},
   "source": [
    "### 4. Check that cyclic data in encoded correctly"
   ]
  },
  {
   "cell_type": "code",
   "execution_count": null,
   "metadata": {},
   "outputs": [],
   "source": [
    "with initialize(version_base=None, config_path=\"../configs\"):\n",
    "    for column in filter(lambda c: c.endswith('cos') or c.endswith('sin'), validator.columns()):\n",
    "        validator.expect_column_values_to_be_between(\n",
    "            column=column,\n",
    "            min_value=-1,\n",
    "            max_value=1,\n",
    "        )"
   ]
  },
  {
   "cell_type": "code",
   "execution_count": 53,
   "metadata": {},
   "outputs": [
    {
     "name": "stdout",
     "output_type": "stream",
     "text": [
      "Total number of expectations: 87\n"
     ]
    }
   ],
   "source": [
    "print(\"Total number of expectations:\", len(validator.expectation_suite.expectations))"
   ]
  },
  {
   "cell_type": "code",
   "execution_count": 54,
   "metadata": {},
   "outputs": [
    {
     "name": "stdout",
     "output_type": "stream",
     "text": [
      "\u001b[1;35m\t87 expectation(s) included in expectation_suite.\u001b[0m\n"
     ]
    }
   ],
   "source": [
    "# Save expectations and checkpoint\n",
    "validator.save_expectation_suite(discard_failed_expectations=False)\n",
    "checkpoint = context.add_or_update_checkpoint(\n",
    "    name=\"transformations_checkpoint\",\n",
    "    validator=validator,\n",
    ")"
   ]
  },
  {
   "cell_type": "code",
   "execution_count": 55,
   "metadata": {},
   "outputs": [
    {
     "name": "stdout",
     "output_type": "stream",
     "text": [
      "\u001b[1;35m\t87 expectation(s) included in expectation_suite.\u001b[0m\n"
     ]
    },
    {
     "data": {
      "application/vnd.jupyter.widget-view+json": {
       "model_id": "700495c957644f74ace3839aba9f7459",
       "version_major": 2,
       "version_minor": 0
      },
      "text/plain": [
       "Calculating Metrics:   0%|          | 0/233 [00:00<?, ?it/s]"
      ]
     },
     "metadata": {},
     "output_type": "display_data"
    },
    {
     "name": "stdout",
     "output_type": "stream",
     "text": [
      "Data quality verification passed successfully\n"
     ]
    }
   ],
   "source": [
    "checkpoint_result = checkpoint.run()\n",
    "\n",
    "# Open report in browser\n",
    "context.view_validation_result(checkpoint_result)\n",
    "\n",
    "if checkpoint_result.success:\n",
    "    print(\"Data quality verification passed successfully\")\n",
    "else:\n",
    "    print(\"Data quality verification failed\")"
   ]
  }
 ],
 "metadata": {
  "kernelspec": {
   "display_name": ".venv",
   "language": "python",
   "name": "python3"
  },
  "language_info": {
   "codemirror_mode": {
    "name": "ipython",
    "version": 3
   },
   "file_extension": ".py",
   "mimetype": "text/x-python",
   "name": "python",
   "nbconvert_exporter": "python",
   "pygments_lexer": "ipython3",
   "version": "3.11.9"
  }
 },
 "nbformat": 4,
 "nbformat_minor": 2
}
